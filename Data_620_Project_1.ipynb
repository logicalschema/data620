{
  "nbformat": 4,
  "nbformat_minor": 0,
  "metadata": {
    "colab": {
      "name": "Data 620 Project 1.ipynb",
      "provenance": [],
      "collapsed_sections": [],
      "authorship_tag": "ABX9TyMubHCNmrj0cZghZiYfdJlv",
      "include_colab_link": true
    },
    "kernelspec": {
      "name": "python3",
      "display_name": "Python 3"
    }
  },
  "cells": [
    {
      "cell_type": "markdown",
      "metadata": {
        "id": "view-in-github",
        "colab_type": "text"
      },
      "source": [
        "<a href=\"https://colab.research.google.com/github/logicalschema/data620/blob/main/Data_620_Project_1.ipynb\" target=\"_parent\"><img src=\"https://colab.research.google.com/assets/colab-badge.svg\" alt=\"Open In Colab\"/></a>"
      ]
    },
    {
      "cell_type": "markdown",
      "metadata": {
        "id": "47vd4c_e4AE9"
      },
      "source": [
        "**Sung Su Lee**\r\n",
        "\r\n",
        "**Data 620 Project 1: Spring 2021**\r\n",
        "\r\n",
        "[Github Link](https://github.com/logicalschema/data620/tree/main/Project%201)  \r\n",
        "\r\n",
        "[YouTube Video](https://youtu.be/T5oRH9Hqj-w)\r\n",
        "\r\n",
        "<img src=https://raw.githubusercontent.com/logicalschema/data620/main/Project%201/data/Congress_feature.jpg width=\"400\">\r\n",
        "\r\n",
        "\r\n",
        "# Introduction\r\n",
        "\r\n",
        "For this project, I chose to examine the Twitter interactions between Senators in the 117th Congress by looking at how senators follow one another on Twitter. Does party influence the network of Twitter interactions? In addition, this project looks to calculate the degree and eigenvector centrality values of each senator in the Twitter realm. Personally, I approach this project with a view that Congress is extremely polarized with each party's members in silos.\r\n",
        "\r\n",
        "# Sources  \r\n",
        "\r\n",
        "I used the following sources for this project: \r\n",
        "- [United States Senate Web Site](https://www.senate.gov/general/contact_information/senators_cfm.xml)  \r\n",
        "Provided up to date contact information for the 117th Congress\r\n",
        "- [Triage Cancer Social Media Page](https://triagecancer.org/congressional-social-media)  \r\n",
        "Provided Twitter, Facebook, and other social media information about senators. There was a typo with Senator Lindsey Graham's Twitter and Senator Alex Padilla's information was incorrect.  \r\n",
        "- [Developer Twitter Site](https://developer.twitter.com/en)  \r\n",
        "Provided documentation for the Twitter API.\r\n",
        "\r\n",
        "\r\n",
        "\r\n",
        "# Initial Hurdles  \r\n",
        "\r\n",
        "My initial hurdles was understanding Twitter, working with the Twitter API, and correcting some inaccurate data. Twitter places limitations on API requests so gathering information on senators took a large chunk of time. In addition, one web site had mislabeled Senator Alex Padilla of California with VP Kamala Harris' Twitter information in addition to having a typo on Senator Lindsey Graham's Twitter id. "
      ]
    },
    {
      "cell_type": "code",
      "metadata": {
        "id": "VgGSeW383u6_"
      },
      "source": [
        "import pandas as pd\r\n",
        "import networkx as nx\r\n",
        "import matplotlib.pyplot as plt\r\n",
        "from tabulate import tabulate\r\n",
        "from IPython.display import display, HTML\r\n",
        "import statistics\r\n",
        "import math\r\n",
        "from scipy.stats import t\r\n",
        "\r\n",
        "senator_info_url = 'https://raw.githubusercontent.com/logicalschema/data620/main/Project%201/data/Final_senators_social_media.csv'\r\n",
        "twitter_relationships_url = 'https://raw.githubusercontent.com/logicalschema/data620/main/Project%201/data/Final_senator_twitter_relationships.csv'\r\n",
        "\r\n",
        "# colnames = ['State', 'Status', 'Name', 'NameLink', 'Party', 'Twitter', 'TwitterLink', 'Instagram', 'InstagramLink', 'Facebook', 'FacebookLink']\r\n",
        "data = pd.read_csv(senator_info_url, index_col=0)\r\n",
        "\r\n",
        "# Remove the leading @ character\r\n",
        "data['Twitter'] = data['Twitter'].str.strip()\r\n",
        "data['Twitter'] = data['Twitter'].str.replace('@','')\r\n",
        "\r\n",
        "# Construct a dictionary to lookup Twitterids. I will use the dataframe index for an index\r\n",
        "twitterLookup = {}\r\n",
        "twitterReverseLookup = {}\r\n",
        "\r\n",
        "for index, row in data.iterrows():\r\n",
        "    twitterLookup[str(row['Twitter'])] = index\r\n",
        "    twitterReverseLookup[index] = str(row['Twitter'])\r\n",
        "\r\n",
        "# Constructs the relationships which will be used for Graph edges\r\n",
        "# Empty list of relationships\r\n",
        "# Dataframe ('Twitter', 'Follower') means User: Twitter is followed by Follower\r\n",
        "twitter_relationships = pd.read_csv(twitter_relationships_url, header=None)\r\n",
        "twitter_relationships.columns = ['User', 'Follower']"
      ],
      "execution_count": null,
      "outputs": []
    },
    {
      "cell_type": "markdown",
      "metadata": {
        "id": "5nVzcyeO5s9C"
      },
      "source": [
        "---\r\n",
        "# Data View\r\n",
        "\r\n",
        "Here are snippets of the data that has been imported.\r\n",
        "\r\n",
        "**Senator Data**: the `data` dataframe contains such information as the senator's state, name, web site, and other social media information. I went through several iterations to complete the data and format it. "
      ]
    },
    {
      "cell_type": "code",
      "metadata": {
        "colab": {
          "base_uri": "https://localhost:8080/"
        },
        "id": "z9vjpG0j50uT",
        "outputId": "de1f6e85-d2c6-4264-8768-d2a2e12f4664"
      },
      "source": [
        "print(tabulate(data.head()))"
      ],
      "execution_count": null,
      "outputs": [
        {
          "output_type": "stream",
          "text": [
            "-  -----------  ------------  -------------------  ---------------------------------------  -  ---------------  ------------------------------------------------------------------------------------------  ----------------  ------------------------------------------------  -  --------------------------------------------\n",
            "0  Wisconsin    U.S. Senator  Baldwin, Tammy       https://www.baldwin.senate.gov/          D  SenatorBaldwin   https://twitter.com/SenatorBaldwin?ref_src=twsrc%5Egoogle%7Ctwcamp%5Eserp%7Ctwgr%5Eauthor   @senatorbaldwin   https://www.instagram.com/senatorbaldwin/?hl=en   x  https://www.facebook.com/senatortammybaldwin\n",
            "1  Wyoming      U.S. Senator  Barrasso, John       https://www.barrasso.senate.gov/public/  R  SenJohnBarrasso  https://twitter.com/SenJohnBarrasso?ref_src=twsrc%5Egoogle%7Ctwcamp%5Eserp%7Ctwgr%5Eauthor  @senjohnbarrasso  https://www.instagram.com/senjohnbarrasso/?hl=en  x  https://www.facebook.com/johnbarrasso\n",
            "2  Colorado     U.S. Senator  Bennet, Michael      https://www.bennet.senate.gov/           D  MichaelBennet    https://twitter.com/michaelbennet?lang=en                                                   @senatorbennet    https://www.instagram.com/senatorbennet/?hl=en    x  https://www.facebook.com/senbennetco/\n",
            "3  Tennessee    U.S. Senator  Blackburn, Marsha    https://www.blackburn.senate.gov/        R  MarshaBlackburn  https://twitter.com/MarshaBlackburn?ref_src=twsrc%5Egoogle%7Ctwcamp%5Eserp%7Ctwgr%5Eauthor  @marshablackburn  https://www.instagram.com/marshablackburn/?hl=en  x  https://www.facebook.com/marshablackburn/\n",
            "4  Connecticut  U.S. Senator  Blumenthal, Richard  https://www.blumenthal.senate.gov/       D  SenBlumenthal    https://twitter.com/SenBlumenthal?ref_src=twsrc%5Egoogle%7Ctwcamp%5Eserp%7Ctwgr%5Eauthor    @senblumenthal    https://www.instagram.com/senblumenthal/?hl=en    x  https://www.facebook.com/SenBlumenthal\n",
            "-  -----------  ------------  -------------------  ---------------------------------------  -  ---------------  ------------------------------------------------------------------------------------------  ----------------  ------------------------------------------------  -  --------------------------------------------\n"
          ],
          "name": "stdout"
        }
      ]
    },
    {
      "cell_type": "markdown",
      "metadata": {
        "id": "lcGYPjUE6iqL"
      },
      "source": [
        "**Twitter Relationships**: the `twitter_relationships` data frame contains the `User` and `Follower` columns which denote the individual's Twitter username. \r\n",
        "\r\n",
        "For example,\r\n",
        "\r\n",
        "|User      | Follower |\r\n",
        "|----------|----------|\r\n",
        "|LindseyGrahamSC| MarshaBlackburn|\r\n",
        "\r\n",
        "means that `MarshaBlackburn` follows `LindseyGrahamSC` on Twitter. \r\n",
        "\r\n",
        "These relationships will be used to construct the edges of the graph.\r\n",
        "\r\n"
      ]
    },
    {
      "cell_type": "code",
      "metadata": {
        "colab": {
          "base_uri": "https://localhost:8080/"
        },
        "id": "2YjTkYAu7YVC",
        "outputId": "51dce9ae-bc43-4d92-de18-ec953e99829c"
      },
      "source": [
        "print(tabulate(twitter_relationships.head()))"
      ],
      "execution_count": null,
      "outputs": [
        {
          "output_type": "stream",
          "text": [
            "-  ---------------  ---------------\n",
            "0  LindseyGrahamSC  SenJohnBarrasso\n",
            "1  LindseyGrahamSC  MarshaBlackburn\n",
            "2  MarshaBlackburn  LindseyGrahamSC\n",
            "3  LindseyGrahamSC  SenBlumenthal\n",
            "4  LindseyGrahamSC  RoyBlunt\n",
            "-  ---------------  ---------------\n"
          ],
          "name": "stdout"
        }
      ]
    },
    {
      "cell_type": "markdown",
      "metadata": {
        "id": "GVOhZkdi8to8"
      },
      "source": [
        "---\r\n",
        "# Constructing the Graph\r\n",
        "\r\n",
        "The graph will be constructed using the senators as nodes and their Twitter relationships as edges. The information stored in each node will be `State`, `Name`, `Party`, and `Twitter`.\r\n",
        "\r\n",
        "In addition, the senators are organized into different groups: Republicans, Democrats, and Independents. These are simply arrays with the integer index of the senator.\r\n",
        "\r\n",
        "Nodes and edges are added."
      ]
    },
    {
      "cell_type": "code",
      "metadata": {
        "colab": {
          "base_uri": "https://localhost:8080/"
        },
        "id": "zi1Jn0qu89Jb",
        "outputId": "6ae1062b-9cdf-47ba-b5ee-d6968b5c93e8"
      },
      "source": [
        "# Create a graph\r\n",
        "G = nx.Graph()\r\n",
        "\r\n",
        "# Construct the nodes with some attributes from the dataframe\r\n",
        "for index, row in data.iterrows():\r\n",
        "\tG.add_node(index, \r\n",
        "\t\tState = str(row['State']),\r\n",
        "\t\tName = str(row['Name']),\r\n",
        "\t\tParty = str(row['Party']),\r\n",
        "\t\tTwitter = str(row['Twitter'])\r\n",
        "\t\t)\r\n",
        "\r\n",
        "# Construct the edges using the relationships dataframe\r\n",
        "for index, row in twitter_relationships.iterrows():\r\n",
        "\tUser = twitterLookup[row['User']]\r\n",
        "\tFollower = twitterLookup[row['Follower']]\r\n",
        "\tG.add_edge(User,Follower)\r\n",
        "\r\n",
        "# Sorting nodes into Republican, Democrat, and Independent. Only the index is stored.\r\n",
        "republicans = data.index[data['Party'] == 'R'].tolist()\r\n",
        "democrats = data.index[data['Party'] == 'D'].tolist()\r\n",
        "independents = data.index[data['Party'] == 'I'].tolist()\r\n",
        "\r\n",
        "print(\"Indices for Republicans\" + str(republicans))\r\n",
        "print(\"Indices for Democrats\" + str(democrats))\r\n",
        "print(\"Indices for Independents\" + str(independents))"
      ],
      "execution_count": null,
      "outputs": [
        {
          "output_type": "stream",
          "text": [
            "Indices for Republicans[1, 3, 5, 7, 8, 10, 12, 16, 17, 19, 20, 21, 22, 23, 24, 26, 28, 30, 31, 32, 34, 38, 39, 40, 41, 44, 47, 49, 51, 54, 55, 58, 59, 64, 66, 68, 69, 71, 72, 74, 77, 78, 80, 84, 86, 87, 88, 89, 95, 97]\n",
            "Indices for Democrats[0, 2, 4, 6, 9, 11, 13, 14, 15, 18, 25, 27, 29, 33, 35, 36, 37, 42, 43, 46, 48, 50, 52, 53, 56, 57, 60, 61, 62, 63, 65, 67, 70, 75, 76, 79, 81, 82, 83, 85, 90, 91, 92, 93, 94, 96, 98, 99]\n",
            "Indices for Independents[45, 73]\n"
          ],
          "name": "stdout"
        }
      ]
    },
    {
      "cell_type": "markdown",
      "metadata": {
        "id": "-ZIFXUmcjRN-"
      },
      "source": [
        "# Nodes and Edges\r\n",
        "\r\n",
        "To draw the graph, I decided to use different colors because of the number of nodes and edges in the graph. I represented the Republicans as red nodes, Democrats as blue nodes, and Independents as gray. The relationships are represented in the table below.\r\n",
        "\r\n",
        "|Nature of Relationship|Color|\r\n",
        "|------------|-------------|\r\n",
        "|Intra-Republican Relationships| Orange |\r\n",
        "|Intra-Democratic Relationships| Skyblue |\r\n",
        "|Intra-Independent Relationships| Green|\r\n",
        "|Inter-Party Relationships| Black|\r\n",
        "\r\n",
        "## Nodes with Attributes\r\n",
        "Here is a look at the attributes for the nodes.\r\n",
        "\r\n",
        "\r\n",
        "\r\n",
        "\r\n"
      ]
    },
    {
      "cell_type": "code",
      "metadata": {
        "colab": {
          "base_uri": "https://localhost:8080/",
          "height": 147
        },
        "id": "r_xKBoCS3Dic",
        "outputId": "1791039c-cae8-4cda-cb81-5c699629c02b"
      },
      "source": [
        "states = nx.get_node_attributes(G,'State')\r\n",
        "names = nx.get_node_attributes(G,'Name')\r\n",
        "parties = nx.get_node_attributes(G,'Party')\r\n",
        "twitters = nx.get_node_attributes(G,'Twitter')\r\n",
        "\r\n",
        "table = []\r\n",
        "headers = ['State', 'Name', 'Party', 'Twitter']\r\n",
        "for i in range(5):\r\n",
        "  table.append([states[i], names[i], parties[i], twitters[i]])\r\n",
        "\r\n",
        "display(HTML(tabulate(table, headers, tablefmt=\"html\")))"
      ],
      "execution_count": null,
      "outputs": [
        {
          "output_type": "display_data",
          "data": {
            "text/html": [
              "<table>\n",
              "<thead>\n",
              "<tr><th>State      </th><th>Name               </th><th>Party  </th><th>Twitter        </th></tr>\n",
              "</thead>\n",
              "<tbody>\n",
              "<tr><td>Wisconsin  </td><td>Baldwin, Tammy     </td><td>D      </td><td>SenatorBaldwin </td></tr>\n",
              "<tr><td>Wyoming    </td><td>Barrasso, John     </td><td>R      </td><td>SenJohnBarrasso</td></tr>\n",
              "<tr><td>Colorado   </td><td>Bennet, Michael    </td><td>D      </td><td>MichaelBennet  </td></tr>\n",
              "<tr><td>Tennessee  </td><td>Blackburn, Marsha  </td><td>R      </td><td>MarshaBlackburn</td></tr>\n",
              "<tr><td>Connecticut</td><td>Blumenthal, Richard</td><td>D      </td><td>SenBlumenthal  </td></tr>\n",
              "</tbody>\n",
              "</table>"
            ],
            "text/plain": [
              "<IPython.core.display.HTML object>"
            ]
          },
          "metadata": {
            "tags": []
          }
        }
      ]
    },
    {
      "cell_type": "markdown",
      "metadata": {
        "id": "lydLtKRK3CPu"
      },
      "source": [
        "# Drawing the Nodes\r\n",
        "The following draws the nodes for the graph."
      ]
    },
    {
      "cell_type": "code",
      "metadata": {
        "id": "SeJ1KUV5CJ0J",
        "colab": {
          "base_uri": "https://localhost:8080/",
          "height": 266
        },
        "outputId": "4981caaf-bb4e-4291-e7a0-07ccc9c544ea"
      },
      "source": [
        "pos = nx.kamada_kawai_layout(G)\r\n",
        "nx.draw_networkx_nodes(G, pos, node_size = 15, nodelist = republicans, node_color = 'red', alpha = 0.75)\r\n",
        "nx.draw_networkx_nodes(G, pos, node_size = 15, nodelist = democrats, node_color = 'blue', alpha = 0.75)\r\n",
        "nx.draw_networkx_nodes(G, pos, node_size = 15, nodelist = independents, node_color = 'silver')\r\n"
      ],
      "execution_count": null,
      "outputs": [
        {
          "output_type": "execute_result",
          "data": {
            "text/plain": [
              "<matplotlib.collections.PathCollection at 0x7f02c5b88210>"
            ]
          },
          "metadata": {
            "tags": []
          },
          "execution_count": 61
        },
        {
          "output_type": "display_data",
          "data": {
            "image/png": "[encoded data removed]",
            "text/plain": [
              "<Figure size 432x288 with 1 Axes>"
            ]
          },
          "metadata": {
            "tags": []
          }
        }
      ]
    },
    {
      "cell_type": "markdown",
      "metadata": {
        "id": "UXgBi_az0U2b"
      },
      "source": [
        "# Drawing the Edges\r\n",
        "The following code draws the edges between the nodes.  \r\n",
        "\r\n",
        "An observation that surprised me was to see the number of inter-party relationships. Senators from opposite parties were following one another on Twitter. I had expected a dichotomy in relationships. I was glad to see that there were relationships between senators of opposite parties."
      ]
    },
    {
      "cell_type": "code",
      "metadata": {
        "colab": {
          "base_uri": "https://localhost:8080/",
          "height": 266
        },
        "id": "hyTv-7qG0ZtO",
        "outputId": "6f3b8147-58a8-4242-bccd-1ff640353d04"
      },
      "source": [
        "pos = nx.kamada_kawai_layout(G)\r\n",
        "nx.draw_networkx_nodes(G, pos, node_size = 15, nodelist = republicans, node_color = 'red', alpha = 0.75)\r\n",
        "nx.draw_networkx_nodes(G, pos, node_size = 15, nodelist = democrats, node_color = 'blue', alpha = 0.75)\r\n",
        "nx.draw_networkx_nodes(G, pos, node_size = 15, nodelist = independents, node_color = 'silver')\r\n",
        "\r\n",
        "edges = G.edges()\r\n",
        "rep_relationships = []\r\n",
        "dem_relationships = []\r\n",
        "ind_relationships = []\r\n",
        "out_relationships = []\r\n",
        "\r\n",
        "# Determines which edges are between nodes that are not in the same party or same party\r\n",
        "for edge in edges:\r\n",
        "\tif (edge[0] in republicans and edge[1] in republicans):\r\n",
        "\t\trep_relationships.append(edge)\r\n",
        "\telif (edge[0] in democrats and edge[1] in democrats):\r\n",
        "\t\tdem_relationships.append(edge)\r\n",
        "\telif (edge[0] in independents and edge[1] in independents):\r\n",
        "\t\tind_relationships.append(edge)\r\n",
        "\telse:\r\n",
        "\t\tout_relationships.append(edge)\r\n",
        "\r\n",
        "nx.draw_networkx_edges(\r\n",
        "    G,\r\n",
        "    pos,\r\n",
        "    edgelist=rep_relationships,\r\n",
        "    width = 1,\r\n",
        "    style = \"dashed\",\r\n",
        "    alpha = 0.25,\r\n",
        "    edge_color=\"orange\"\r\n",
        ")\r\n",
        "\r\n",
        "nx.draw_networkx_edges(\r\n",
        "    G,\r\n",
        "    pos,\r\n",
        "    edgelist=dem_relationships,\r\n",
        "    width = 1,\r\n",
        "    style = \"dashed\",\r\n",
        "    alpha = 0.25,\r\n",
        "    edge_color=\"skyblue\"\r\n",
        ")\r\n",
        "\r\n",
        "nx.draw_networkx_edges(\r\n",
        "    G,\r\n",
        "    pos,\r\n",
        "    edgelist=ind_relationships,\r\n",
        "    width = 1,\r\n",
        "    style = \"dashed\",    \r\n",
        "    alpha = 0.15,\r\n",
        "    edge_color=\"green\"\r\n",
        ")\r\n",
        "\r\n",
        "nx.draw_networkx_edges(\r\n",
        "    G,\r\n",
        "    pos,\r\n",
        "    edgelist=out_relationships,\r\n",
        "    width = 1,\r\n",
        "    alpha = 0.15,\r\n",
        "    edge_color=\"black\"\r\n",
        ")"
      ],
      "execution_count": null,
      "outputs": [
        {
          "output_type": "execute_result",
          "data": {
            "text/plain": [
              "<matplotlib.collections.LineCollection at 0x7f02c63f4810>"
            ]
          },
          "metadata": {
            "tags": []
          },
          "execution_count": 62
        },
        {
          "output_type": "display_data",
          "data": {
            "image/png": "[encoded data removed]",
            "text/plain": [
              "<Figure size 432x288 with 1 Axes>"
            ]
          },
          "metadata": {
            "tags": []
          }
        }
      ]
    },
    {
      "cell_type": "markdown",
      "metadata": {
        "id": "qjYvPVFlnsC_"
      },
      "source": [
        "# Degree Centrality and Eigenvector Centrality\r\n",
        "\r\n",
        "This section will calculate degree centrality and eigenvector centrality for each node.\r\n",
        "\r\n",
        "## Degree Centrality\r\n",
        "\r\n",
        "Degree centrality can be calculated using the `degree_centrality` function. More information can be found [here](https://networkx.org/documentation/stable/reference/algorithms/generated/networkx.algorithms.centrality.degree_centrality.html).\r\n"
      ]
    },
    {
      "cell_type": "code",
      "metadata": {
        "colab": {
          "base_uri": "https://localhost:8080/",
          "height": 254
        },
        "id": "h2SEqrFz7am8",
        "outputId": "1fa80a12-9105-432d-a72e-dd6a03734964"
      },
      "source": [
        "# Calculates the degree centrality for each node\r\n",
        "deg_centralities = nx.degree_centrality(G)\r\n",
        "\r\n",
        "# Prints a sample of the centralities\r\n",
        "table = []\r\n",
        "headers = ['Node', 'Twitter', 'Degree Centrality']\r\n",
        "for i in range(5):\r\n",
        "  table.append([i, twitterReverseLookup[i], deg_centralities[i]])\r\n",
        "\r\n",
        "for i in range(len(deg_centralities) - 5, len(deg_centralities)):\r\n",
        "  table.append([i, twitterReverseLookup[i], deg_centralities[i]])\r\n",
        "\r\n",
        "display(HTML(tabulate(table, headers, tablefmt=\"html\")))"
      ],
      "execution_count": null,
      "outputs": [
        {
          "output_type": "display_data",
          "data": {
            "text/html": [
              "<table>\n",
              "<thead>\n",
              "<tr><th style=\"text-align: right;\">  Node</th><th>Twitter        </th><th style=\"text-align: right;\">  Degree Centrality</th></tr>\n",
              "</thead>\n",
              "<tbody>\n",
              "<tr><td style=\"text-align: right;\">     0</td><td>SenatorBaldwin </td><td style=\"text-align: right;\">           0.828283</td></tr>\n",
              "<tr><td style=\"text-align: right;\">     1</td><td>SenJohnBarrasso</td><td style=\"text-align: right;\">           0.737374</td></tr>\n",
              "<tr><td style=\"text-align: right;\">     2</td><td>MichaelBennet  </td><td style=\"text-align: right;\">           0.111111</td></tr>\n",
              "<tr><td style=\"text-align: right;\">     3</td><td>MarshaBlackburn</td><td style=\"text-align: right;\">           0.555556</td></tr>\n",
              "<tr><td style=\"text-align: right;\">     4</td><td>SenBlumenthal  </td><td style=\"text-align: right;\">           0.666667</td></tr>\n",
              "<tr><td style=\"text-align: right;\">    95</td><td>SenatorWicker  </td><td style=\"text-align: right;\">           0.69697 </td></tr>\n",
              "<tr><td style=\"text-align: right;\">    96</td><td>RonWyden       </td><td style=\"text-align: right;\">           0.757576</td></tr>\n",
              "<tr><td style=\"text-align: right;\">    97</td><td>SenToddYoung   </td><td style=\"text-align: right;\">           0.464646</td></tr>\n",
              "<tr><td style=\"text-align: right;\">    98</td><td>SenCortezMasto </td><td style=\"text-align: right;\">           0.787879</td></tr>\n",
              "<tr><td style=\"text-align: right;\">    99</td><td>SenDuckworth   </td><td style=\"text-align: right;\">           0.727273</td></tr>\n",
              "</tbody>\n",
              "</table>"
            ],
            "text/plain": [
              "<IPython.core.display.HTML object>"
            ]
          },
          "metadata": {
            "tags": []
          }
        }
      ]
    },
    {
      "cell_type": "markdown",
      "metadata": {
        "id": "qF4eZXtV_MLr"
      },
      "source": [
        "## Eigenvector Centrality\r\n",
        "\r\n",
        "The eigenvector centrality can be calculated using the function `eigenvector_centrality`. Additional information can be found [here](https://networkx.org/documentation/stable/reference/algorithms/generated/networkx.algorithms.centrality.eigenvector_centrality.html)."
      ]
    },
    {
      "cell_type": "code",
      "metadata": {
        "colab": {
          "base_uri": "https://localhost:8080/",
          "height": 254
        },
        "id": "SlL5n_AW_M1D",
        "outputId": "84c387a6-6a2a-413c-edae-1e10a7d9f69e"
      },
      "source": [
        "# Calculates the eigenvector centrality for each node\r\n",
        "eig_centralities = nx.eigenvector_centrality(G)\r\n",
        "\r\n",
        "# Prints a sample of the centralities\r\n",
        "table = []\r\n",
        "headers = ['Node', 'Twitter', 'Eigenvector Centrality']\r\n",
        "for i in range(5):\r\n",
        "  table.append([i, twitterReverseLookup[i], eig_centralities[i]])\r\n",
        "\r\n",
        "for i in range(len(eig_centralities) - 5, len(eig_centralities)):\r\n",
        "  table.append([i, twitterReverseLookup[i], eig_centralities[i]])\r\n",
        "\r\n",
        "display(HTML(tabulate(table, headers, tablefmt=\"html\")))"
      ],
      "execution_count": null,
      "outputs": [
        {
          "output_type": "display_data",
          "data": {
            "text/html": [
              "<table>\n",
              "<thead>\n",
              "<tr><th style=\"text-align: right;\">  Node</th><th>Twitter        </th><th style=\"text-align: right;\">  Eigenvector Centrality</th></tr>\n",
              "</thead>\n",
              "<tbody>\n",
              "<tr><td style=\"text-align: right;\">     0</td><td>SenatorBaldwin </td><td style=\"text-align: right;\">               0.122513 </td></tr>\n",
              "<tr><td style=\"text-align: right;\">     1</td><td>SenJohnBarrasso</td><td style=\"text-align: right;\">               0.10812  </td></tr>\n",
              "<tr><td style=\"text-align: right;\">     2</td><td>MichaelBennet  </td><td style=\"text-align: right;\">               0.014081 </td></tr>\n",
              "<tr><td style=\"text-align: right;\">     3</td><td>MarshaBlackburn</td><td style=\"text-align: right;\">               0.0764617</td></tr>\n",
              "<tr><td style=\"text-align: right;\">     4</td><td>SenBlumenthal  </td><td style=\"text-align: right;\">               0.100687 </td></tr>\n",
              "<tr><td style=\"text-align: right;\">    95</td><td>SenatorWicker  </td><td style=\"text-align: right;\">               0.103686 </td></tr>\n",
              "<tr><td style=\"text-align: right;\">    96</td><td>RonWyden       </td><td style=\"text-align: right;\">               0.113987 </td></tr>\n",
              "<tr><td style=\"text-align: right;\">    97</td><td>SenToddYoung   </td><td style=\"text-align: right;\">               0.0683995</td></tr>\n",
              "<tr><td style=\"text-align: right;\">    98</td><td>SenCortezMasto </td><td style=\"text-align: right;\">               0.11741  </td></tr>\n",
              "<tr><td style=\"text-align: right;\">    99</td><td>SenDuckworth   </td><td style=\"text-align: right;\">               0.109879 </td></tr>\n",
              "</tbody>\n",
              "</table>"
            ],
            "text/plain": [
              "<IPython.core.display.HTML object>"
            ]
          },
          "metadata": {
            "tags": []
          }
        }
      ]
    },
    {
      "cell_type": "markdown",
      "metadata": {
        "id": "vtP23BXwE8QB"
      },
      "source": [
        "# Comparison of Centrality Measures\r\n",
        "\r\n",
        "Here are the top ten for each of the centrality measures."
      ]
    },
    {
      "cell_type": "code",
      "metadata": {
        "id": "b403X3_PFFkf"
      },
      "source": [
        "sorted_deg_centralities = dict(sorted(deg_centralities.items(), key=lambda item: item[1], reverse=True))\r\n",
        "sorted_eig_centralities = dict(sorted(eig_centralities.items(), key=lambda item: item[1], reverse=True))\r\n",
        "\r\n",
        "dict_deg = sorted_deg_centralities.items()\r\n",
        "dict_eig = sorted_eig_centralities.items()\r\n",
        "table1 = []\r\n",
        "table2 = []\r\n",
        "\r\n",
        "headers1 = ['Name', 'Party', 'Degree Centralities']\r\n",
        "headers2 = ['Name', 'Party', 'Eigenvector Centralities']\r\n",
        "\r\n",
        "temp1 = list(dict_deg)[:10]\r\n",
        "temp2 = list(dict_eig)[:10]\r\n",
        "\r\n",
        "for item in temp1:\r\n",
        "  table1.append([names[item[0]], parties[item[0]], item[1]])\r\n",
        "\r\n",
        "for item in temp2:\r\n",
        "  table2.append([names[item[0]], parties[item[0]], item[1]])\r\n"
      ],
      "execution_count": null,
      "outputs": []
    },
    {
      "cell_type": "markdown",
      "metadata": {
        "id": "GjSecApDhCno"
      },
      "source": [
        "**Top 10 Degree Centralities**\r\n",
        "\r\n",
        "According to the `Networkx` documentation, the degree centrality score is calculated for a node by examining the fraction of nodes it is connected to. Surprisingly, the majority of the top ten nodes for degree centralities are Republicans $\\frac{4}{5}$ compared to Democrats for $\\frac{2}{5}$\r\n",
        "\r\n",
        "\r\n"
      ]
    },
    {
      "cell_type": "code",
      "metadata": {
        "colab": {
          "base_uri": "https://localhost:8080/",
          "height": 254
        },
        "id": "ufOJmr59hDB4",
        "outputId": "1d404f50-a082-4ac1-d533-cc44742b0c0e"
      },
      "source": [
        "\r\n",
        "display(HTML(tabulate(table1, headers1, tablefmt=\"html\")))\r\n"
      ],
      "execution_count": null,
      "outputs": [
        {
          "output_type": "display_data",
          "data": {
            "text/html": [
              "<table>\n",
              "<thead>\n",
              "<tr><th>Name           </th><th>Party  </th><th style=\"text-align: right;\">  Degree Centralities</th></tr>\n",
              "</thead>\n",
              "<tbody>\n",
              "<tr><td>Marshall, Roger</td><td>R      </td><td style=\"text-align: right;\">             0.939394</td></tr>\n",
              "<tr><td>Johnson, Ron   </td><td>R      </td><td style=\"text-align: right;\">             0.929293</td></tr>\n",
              "<tr><td>Cantwell, Maria</td><td>D      </td><td style=\"text-align: right;\">             0.89899 </td></tr>\n",
              "<tr><td>Murkowski, Lisa</td><td>R      </td><td style=\"text-align: right;\">             0.888889</td></tr>\n",
              "<tr><td>Scott, Tim     </td><td>R      </td><td style=\"text-align: right;\">             0.888889</td></tr>\n",
              "<tr><td>Lankford, James</td><td>R      </td><td style=\"text-align: right;\">             0.868687</td></tr>\n",
              "<tr><td>Collins, Susan </td><td>R      </td><td style=\"text-align: right;\">             0.858586</td></tr>\n",
              "<tr><td>Cornyn, John   </td><td>R      </td><td style=\"text-align: right;\">             0.858586</td></tr>\n",
              "<tr><td>Fischer, Deb   </td><td>R      </td><td style=\"text-align: right;\">             0.858586</td></tr>\n",
              "<tr><td>Manchin, Joe   </td><td>D      </td><td style=\"text-align: right;\">             0.858586</td></tr>\n",
              "</tbody>\n",
              "</table>"
            ],
            "text/plain": [
              "<IPython.core.display.HTML object>"
            ]
          },
          "metadata": {
            "tags": []
          }
        }
      ]
    },
    {
      "cell_type": "markdown",
      "metadata": {
        "id": "EAaXnkq7hZ-0"
      },
      "source": [
        "**Top 10 Eigenvector Centralities**\r\n",
        "\r\n",
        "For top 10 eigenvalue centralities, Johnson-R is 1st instead of Marshall-R. In addition, Sinema-D, and Markey-D are in the list. According to *Social Network Analysis for Startups*, p 56, \"An actor who is high on eigenvector centrality is connected to many actors who are themselves connected to many actors.\" A high eigenvector centrality score here means that the node is connected to other nodes that have high scores."
      ]
    },
    {
      "cell_type": "code",
      "metadata": {
        "colab": {
          "base_uri": "https://localhost:8080/",
          "height": 254
        },
        "id": "xXsuayKWhaJb",
        "outputId": "65be7669-7802-472d-938f-f3cd7d5bc723"
      },
      "source": [
        "display(HTML(tabulate(table2, headers2, tablefmt=\"html\")))"
      ],
      "execution_count": null,
      "outputs": [
        {
          "output_type": "display_data",
          "data": {
            "text/html": [
              "<table>\n",
              "<thead>\n",
              "<tr><th>Name           </th><th>Party  </th><th style=\"text-align: right;\">  Eigenvector Centralities</th></tr>\n",
              "</thead>\n",
              "<tbody>\n",
              "<tr><td>Johnson, Ron   </td><td>R      </td><td style=\"text-align: right;\">                  0.1302  </td></tr>\n",
              "<tr><td>Marshall, Roger</td><td>R      </td><td style=\"text-align: right;\">                  0.129783</td></tr>\n",
              "<tr><td>Cantwell, Maria</td><td>D      </td><td style=\"text-align: right;\">                  0.128684</td></tr>\n",
              "<tr><td>Murkowski, Lisa</td><td>R      </td><td style=\"text-align: right;\">                  0.128167</td></tr>\n",
              "<tr><td>Scott, Tim     </td><td>R      </td><td style=\"text-align: right;\">                  0.126651</td></tr>\n",
              "<tr><td>Sinema, Kyrsten</td><td>D      </td><td style=\"text-align: right;\">                  0.125601</td></tr>\n",
              "<tr><td>Markey, Edward </td><td>D      </td><td style=\"text-align: right;\">                  0.125222</td></tr>\n",
              "<tr><td>Collins, Susan </td><td>R      </td><td style=\"text-align: right;\">                  0.124943</td></tr>\n",
              "<tr><td>Fischer, Deb   </td><td>R      </td><td style=\"text-align: right;\">                  0.124915</td></tr>\n",
              "<tr><td>Lankford, James</td><td>R      </td><td style=\"text-align: right;\">                  0.124906</td></tr>\n",
              "</tbody>\n",
              "</table>"
            ],
            "text/plain": [
              "<IPython.core.display.HTML object>"
            ]
          },
          "metadata": {
            "tags": []
          }
        }
      ]
    },
    {
      "cell_type": "markdown",
      "metadata": {
        "id": "4vojhYKir2yc"
      },
      "source": [
        "---\r\n",
        "\r\n",
        "# T-tests\r\n",
        "\r\n",
        "Now, I wanted to perform a t-test for the difference of means between the Republican and Democratic parties in the Degree Centrality and Eigenvector Centrality Scores. I chose these two mainly because they are the rival majorities in the U.S. Senate. \r\n",
        "\r\n",
        "To start, I will find the mean and standard deviation for the different groups for each centrality score.\r\n",
        "\r\n",
        "## Degree Centrality t-test\r\n",
        "\r\n",
        "First, I will work with the scores for both parties from the Degree Centrality Scores.\r\n"
      ]
    },
    {
      "cell_type": "code",
      "metadata": {
        "colab": {
          "base_uri": "https://localhost:8080/",
          "height": 104
        },
        "id": "OCtsXFcDuKy8",
        "outputId": "0c4a1872-ebe9-48d9-a34e-959e9a7050a6"
      },
      "source": [
        "# Obtain the Republican and Democrat indices\r\n",
        "reps = []\r\n",
        "dems = []\r\n",
        "for key in parties.keys():\r\n",
        "  if parties[key] == 'R':\r\n",
        "    reps.append(key)\r\n",
        "  elif parties[key] == 'D':\r\n",
        "    dems.append(key)\r\n",
        "\r\n",
        "# Obtain the scores for each party\r\n",
        "rep_scores = []\r\n",
        "dem_scores = []\r\n",
        "\r\n",
        "for key in reps:\r\n",
        "  rep_scores.append(deg_centralities[key])\r\n",
        "\r\n",
        "for key in dems:\r\n",
        "  dem_scores.append(deg_centralities[key])\r\n",
        "\r\n",
        "\r\n",
        "# Obtain the means and standard deviations of each party\r\n",
        "table = []\r\n",
        "headers = [' ', 'Republicans', 'Democrats']\r\n",
        "r_mean = statistics.mean(rep_scores)\r\n",
        "r_std = statistics.stdev(rep_scores)\r\n",
        "r_num = len(rep_scores)\r\n",
        "\r\n",
        "d_mean = statistics.mean(dem_scores)\r\n",
        "d_std = statistics.stdev(dem_scores)\r\n",
        "d_num = len(dem_scores)\r\n",
        "\r\n",
        "table.append([\"Mean\", r_mean, d_mean])\r\n",
        "table.append([\"Standard Deviation\", r_std, d_std])\r\n",
        "table.append([\"Number of Scores\", r_num, d_num])\r\n",
        "\r\n",
        "display(HTML(tabulate(table, headers, tablefmt=\"html\")))\r\n"
      ],
      "execution_count": null,
      "outputs": [
        {
          "output_type": "display_data",
          "data": {
            "text/html": [
              "<table>\n",
              "<thead>\n",
              "<tr><th>                  </th><th style=\"text-align: right;\">  Republicans</th><th style=\"text-align: right;\">  Democrats</th></tr>\n",
              "</thead>\n",
              "<tbody>\n",
              "<tr><td>Mean              </td><td style=\"text-align: right;\">     0.634141</td><td style=\"text-align: right;\">   0.658249</td></tr>\n",
              "<tr><td>Standard Deviation</td><td style=\"text-align: right;\">     0.234134</td><td style=\"text-align: right;\">   0.196699</td></tr>\n",
              "<tr><td>Number of Scores  </td><td style=\"text-align: right;\">    50       </td><td style=\"text-align: right;\">  48       </td></tr>\n",
              "</tbody>\n",
              "</table>"
            ],
            "text/plain": [
              "<IPython.core.display.HTML object>"
            ]
          },
          "metadata": {
            "tags": []
          }
        }
      ]
    },
    {
      "cell_type": "markdown",
      "metadata": {
        "id": "Zs3TbSJe-spy"
      },
      "source": [
        "I will make the null hypothesis that the scores are the same and the alternate hypothesis is that the scores are not the same:  \r\n",
        "\r\n",
        "$H_0: \\mu_R = \\mu_D$  \r\n",
        "$H_A: \\mu_R \\ne \\mu_D$  \r\n",
        "\r\n",
        "I will use a significance level $\\alpha = 0.05$\r\n",
        "\r\n",
        "The t statistic is calculated by using the formula:\r\n",
        "\r\n",
        "$$t = \\frac{\\bar{X}_R - \\bar{X}_D}{\\sqrt{ \\frac{s_R^2}{n_R} + \\frac{s^2_D}{n_D}   }}$$  \r\n",
        "\r\n"
      ]
    },
    {
      "cell_type": "code",
      "metadata": {
        "colab": {
          "base_uri": "https://localhost:8080/"
        },
        "id": "LBp9kkmeBWCu",
        "outputId": "a14db3ed-a4d0-4275-dcdb-66ef0722e746"
      },
      "source": [
        "r_mean = statistics.mean(rep_scores)\r\n",
        "r_std = statistics.stdev(rep_scores)\r\n",
        "r_num = len(rep_scores)\r\n",
        "\r\n",
        "\r\n",
        "t_value = (r_mean - d_mean) / math.sqrt( ( r_std**2 / r_num  ) + (d_std**2 / d_num))\r\n",
        "\r\n",
        "# I used degrees of freedom = 47 (1 less than the smallest sample size)\r\n",
        "p_value = t.sf(abs(t_value), d_num - 1) * 2\r\n",
        "\r\n",
        "print(\"The t-value is \" + str(t_value))\r\n",
        "print(\"The p-value is \" + str(p_value))"
      ],
      "execution_count": null,
      "outputs": [
        {
          "output_type": "stream",
          "text": [
            "The t-value is -0.5527170667514161\n",
            "The p-value is 0.5830765192355435\n"
          ],
          "name": "stdout"
        }
      ]
    },
    {
      "cell_type": "markdown",
      "metadata": {
        "id": "7girVI9fC8y1"
      },
      "source": [
        "$$P(|t| \\ge 0.5527) \\approx 0.5831$$  \r\n",
        "\r\n",
        "The p-value is greater than our significance level of 0.05. There is not sufficient evidence to reject the null hypothesis. There is not a difference in the scores between the parties for degree centrality.\r\n",
        "\r\n",
        "---\r\n",
        "\r\n",
        "## Eigenvector Centrality t-test\r\n",
        "\r\n",
        "Next, I will work with the scores for both parties from the Eigenvector Centrality Scores."
      ]
    },
    {
      "cell_type": "code",
      "metadata": {
        "colab": {
          "base_uri": "https://localhost:8080/",
          "height": 104
        },
        "id": "MSXoaq_OJAmT",
        "outputId": "7d33c65c-6466-4fd6-b763-8cac36319b3f"
      },
      "source": [
        "# Obtain the scores for each party\r\n",
        "rep_scores = []\r\n",
        "dem_scores = []\r\n",
        "\r\n",
        "for key in reps:\r\n",
        "  rep_scores.append(eig_centralities[key])\r\n",
        "\r\n",
        "for key in dems:\r\n",
        "  dem_scores.append(eig_centralities[key])\r\n",
        "\r\n",
        "\r\n",
        "# Obtain the means and standard deviations of each party\r\n",
        "table = []\r\n",
        "headers = [' ', 'Republicans', 'Democrats']\r\n",
        "r_mean = statistics.mean(rep_scores)\r\n",
        "r_std = statistics.stdev(rep_scores)\r\n",
        "r_num = len(rep_scores)\r\n",
        "\r\n",
        "d_mean = statistics.mean(dem_scores)\r\n",
        "d_std = statistics.stdev(dem_scores)\r\n",
        "d_num = len(dem_scores)\r\n",
        "\r\n",
        "table.append([\"Mean\", r_mean, d_mean])\r\n",
        "table.append([\"Standard Deviation\", r_std, d_std])\r\n",
        "table.append([\"Number of Scores\", r_num, d_num])\r\n",
        "\r\n",
        "display(HTML(tabulate(table, headers, tablefmt=\"html\")))"
      ],
      "execution_count": null,
      "outputs": [
        {
          "output_type": "display_data",
          "data": {
            "text/html": [
              "<table>\n",
              "<thead>\n",
              "<tr><th>                  </th><th style=\"text-align: right;\">  Republicans</th><th style=\"text-align: right;\">  Democrats</th></tr>\n",
              "</thead>\n",
              "<tbody>\n",
              "<tr><td>Mean              </td><td style=\"text-align: right;\">    0.0919557</td><td style=\"text-align: right;\">  0.0976238</td></tr>\n",
              "<tr><td>Standard Deviation</td><td style=\"text-align: right;\">    0.0341269</td><td style=\"text-align: right;\">  0.0289991</td></tr>\n",
              "<tr><td>Number of Scores  </td><td style=\"text-align: right;\">   50        </td><td style=\"text-align: right;\"> 48        </td></tr>\n",
              "</tbody>\n",
              "</table>"
            ],
            "text/plain": [
              "<IPython.core.display.HTML object>"
            ]
          },
          "metadata": {
            "tags": []
          }
        }
      ]
    },
    {
      "cell_type": "markdown",
      "metadata": {
        "id": "8hqk_r_eJP7i"
      },
      "source": [
        "\r\n",
        "Similar to how we tested for the Degree Centrality Scores, we calculate for the Eigenvector Centrality Scores.\r\n",
        "\r\n"
      ]
    },
    {
      "cell_type": "code",
      "metadata": {
        "colab": {
          "base_uri": "https://localhost:8080/"
        },
        "id": "tYP1i4umJaQr",
        "outputId": "856b87f7-7723-4db6-c2e5-192427320396"
      },
      "source": [
        "r_mean = statistics.mean(rep_scores)\r\n",
        "r_std = statistics.stdev(rep_scores)\r\n",
        "r_num = len(rep_scores)\r\n",
        "\r\n",
        "\r\n",
        "t_value = (r_mean - d_mean) / math.sqrt( ( r_std**2 / r_num  ) + (d_std**2 / d_num))\r\n",
        "\r\n",
        "# I used degrees of freedom = 47 (1 less than the smallest sample size)\r\n",
        "p_value = t.sf(abs(t_value), d_num - 1) * 2\r\n",
        "\r\n",
        "print(\"The t-value is \" + str(t_value))\r\n",
        "print(\"The p-value is \" + str(p_value))"
      ],
      "execution_count": null,
      "outputs": [
        {
          "output_type": "stream",
          "text": [
            "The t-value is -0.8872407905042479\n",
            "The p-value is 0.3794670820724275\n"
          ],
          "name": "stdout"
        }
      ]
    },
    {
      "cell_type": "markdown",
      "metadata": {
        "id": "vP7KHoY-JlM0"
      },
      "source": [
        "$$P(|t| \\ge 0.8872) \\approx 0.3795$$  \r\n",
        "\r\n",
        "The p-value is greater than our significance level of 0.05. There is not sufficient evidence to reject the null hypothesis. There is not a difference in the scores between the parties for eigenvector centrality scores.\r\n",
        "\r\n",
        "\r\n",
        "---  \r\n",
        "\r\n",
        "# Conclusion  \r\n",
        "\r\n",
        "There does not seem to be evidence to support differences in party for degree or eigenvector centrality scores. Initially, I thought that Democrats would have an advantage in clout for influencing the network because of broad appeal. I stand corrected. \r\n",
        "\r\n",
        "In future studies, I hope to examine the relationships between party candidates and possibly how to improve relationships for a healthier government. Also, I appreciate the time spent in understanding the Twitter API and learning the intricacies of Twitter."
      ]
    }
  ]
}