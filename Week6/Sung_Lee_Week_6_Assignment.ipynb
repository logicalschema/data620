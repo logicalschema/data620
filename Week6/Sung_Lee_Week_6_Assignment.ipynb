{
  "nbformat": 4,
  "nbformat_minor": 0,
  "metadata": {
    "kernelspec": {
      "display_name": "Python 3",
      "language": "python",
      "name": "python3"
    },
    "language_info": {
      "codemirror_mode": {
        "name": "ipython",
        "version": 3
      },
      "file_extension": ".py",
      "mimetype": "text/x-python",
      "name": "python",
      "nbconvert_exporter": "python",
      "pygments_lexer": "ipython3",
      "version": "3.7.1"
    },
    "colab": {
      "name": "Sung Lee Week 6 Assignment.ipynb",
      "provenance": [],
      "collapsed_sections": [],
      "include_colab_link": true
    }
  },
  "cells": [
    {
      "cell_type": "markdown",
      "metadata": {
        "id": "view-in-github",
        "colab_type": "text"
      },
      "source": [
        "<a href=\"https://colab.research.google.com/github/logicalschema/data620/blob/main/Week6/Sung_Lee_Week_6_Assignment.ipynb\" target=\"_parent\"><img src=\"https://colab.research.google.com/assets/colab-badge.svg\" alt=\"Open In Colab\"/></a>"
      ]
    },
    {
      "cell_type": "markdown",
      "metadata": {
        "id": "bPTne71AOLCE"
      },
      "source": [
        "# Sung Lee Data 620 Week 6 Assignment\r\n",
        "\r\n",
        "This assignment is based upon the Davis Jupyter Notebook found here: https://networkx.org/documentation/stable/auto_examples/algorithms/plot_davis_club.html. The main purpose of this assignment is to infer what we can about the relationships between (1) the women, and (2) the social events. My initial hypothesis is that there will be cliques in this club with \"celebrities\" and \"wallflowers\"; individual women who stand out in the number of events they attend and relationships with others: i.e. the more events a woman attends, she has more relationships in the network.\r\n",
        "\r\n",
        "This will be done by first understanding the data, visualizing the data, analysis of measures for each of the nodes, and coming up with an upshot.\r\n",
        "\r\n",
        "## Background  \r\n",
        "\r\n",
        "The data was collected in the 1930s and represent the \"observed attendance at 14 social events by 18 Southern women\" forming a person-by-event matrix: \"cell (i,j) is 1 if person i attended social event j, and 0 otherwise\". These links http://vlado.fmf.uni-lj.si/pub/networks/data/ucinet/ucidata.htm#davis and https://networkdata.ics.uci.edu/netdata/html/davis.html contains information about the dataset. \r\n",
        "\r\n",
        "## Thanks  \r\n",
        "I am thankful for the work of [Joy Payton](https://education.arcus.chop.edu/intro-to-networkx/) in this topic.\r\n",
        "\r\n",
        "\r\n"
      ]
    },
    {
      "cell_type": "markdown",
      "metadata": {
        "id": "ShIiEsCANOs5"
      },
      "source": [
        "\n",
        "# Davis Club\n",
        "\n",
        "\n",
        "Davis Southern Club Women\n",
        "\n",
        "Shows how to make unipartite projections of the graph and compute the\n",
        "properties of those graphs.\n",
        "\n",
        "These data were collected by Davis et al. in the 1930s.\n",
        "They represent observed attendance at 14 social events by 18 Southern women.\n",
        "The graph is bipartite (clubs, women).\n",
        "\n",
        "\n",
        "Let's start by setting up our libraries and calling the dataset.\n"
      ]
    },
    {
      "cell_type": "code",
      "metadata": {
        "id": "LhR9-UItNOs5"
      },
      "source": [
        "import matplotlib.pyplot as plt\n",
        "import networkx as nx\n",
        "import networkx.algorithms.bipartite as bipartite\n",
        "import matplotlib.pyplot as plt\n",
        "%matplotlib inline\n",
        "import pandas as pd\n",
        "\n",
        "G = nx.davis_southern_women_graph()"
      ],
      "execution_count": 1,
      "outputs": []
    },
    {
      "cell_type": "markdown",
      "metadata": {
        "id": "HR6V0ellUDHF"
      },
      "source": [
        "# Data  \r\n",
        "Here is a view of the nodes from the dataset."
      ]
    },
    {
      "cell_type": "code",
      "metadata": {
        "id": "KIziGXvdUHy9"
      },
      "source": [
        "nodes = pd.DataFrame.from_dict(G.nodes(data = True))"
      ],
      "execution_count": 2,
      "outputs": []
    },
    {
      "cell_type": "markdown",
      "metadata": {
        "id": "1EemirdVUzyd"
      },
      "source": [
        "Here are the top 5 rows."
      ]
    },
    {
      "cell_type": "code",
      "metadata": {
        "colab": {
          "base_uri": "https://localhost:8080/",
          "height": 206
        },
        "id": "Y_3D4kPWUvIB",
        "outputId": "bc2b07fe-808c-4270-a256-5a5523ab304d"
      },
      "source": [
        "nodes.head()"
      ],
      "execution_count": 3,
      "outputs": [
        {
          "output_type": "execute_result",
          "data": {
            "text/html": [
              "<div>\n",
              "<style scoped>\n",
              "    .dataframe tbody tr th:only-of-type {\n",
              "        vertical-align: middle;\n",
              "    }\n",
              "\n",
              "    .dataframe tbody tr th {\n",
              "        vertical-align: top;\n",
              "    }\n",
              "\n",
              "    .dataframe thead th {\n",
              "        text-align: right;\n",
              "    }\n",
              "</style>\n",
              "<table border=\"1\" class=\"dataframe\">\n",
              "  <thead>\n",
              "    <tr style=\"text-align: right;\">\n",
              "      <th></th>\n",
              "      <th>0</th>\n",
              "      <th>1</th>\n",
              "    </tr>\n",
              "  </thead>\n",
              "  <tbody>\n",
              "    <tr>\n",
              "      <th>0</th>\n",
              "      <td>Evelyn Jefferson</td>\n",
              "      <td>{'bipartite': 0}</td>\n",
              "    </tr>\n",
              "    <tr>\n",
              "      <th>1</th>\n",
              "      <td>Laura Mandeville</td>\n",
              "      <td>{'bipartite': 0}</td>\n",
              "    </tr>\n",
              "    <tr>\n",
              "      <th>2</th>\n",
              "      <td>Theresa Anderson</td>\n",
              "      <td>{'bipartite': 0}</td>\n",
              "    </tr>\n",
              "    <tr>\n",
              "      <th>3</th>\n",
              "      <td>Brenda Rogers</td>\n",
              "      <td>{'bipartite': 0}</td>\n",
              "    </tr>\n",
              "    <tr>\n",
              "      <th>4</th>\n",
              "      <td>Charlotte McDowd</td>\n",
              "      <td>{'bipartite': 0}</td>\n",
              "    </tr>\n",
              "  </tbody>\n",
              "</table>\n",
              "</div>"
            ],
            "text/plain": [
              "                  0                 1\n",
              "0  Evelyn Jefferson  {'bipartite': 0}\n",
              "1  Laura Mandeville  {'bipartite': 0}\n",
              "2  Theresa Anderson  {'bipartite': 0}\n",
              "3     Brenda Rogers  {'bipartite': 0}\n",
              "4  Charlotte McDowd  {'bipartite': 0}"
            ]
          },
          "metadata": {
            "tags": []
          },
          "execution_count": 3
        }
      ]
    },
    {
      "cell_type": "markdown",
      "metadata": {
        "id": "o80xBQjjU3MN"
      },
      "source": [
        "Here are the last 5 rows."
      ]
    },
    {
      "cell_type": "code",
      "metadata": {
        "colab": {
          "base_uri": "https://localhost:8080/",
          "height": 206
        },
        "id": "okD0-aC8Uwf1",
        "outputId": "676b6048-2bc6-4de2-deba-45b4a6173c08"
      },
      "source": [
        "nodes.tail()"
      ],
      "execution_count": 4,
      "outputs": [
        {
          "output_type": "execute_result",
          "data": {
            "text/html": [
              "<div>\n",
              "<style scoped>\n",
              "    .dataframe tbody tr th:only-of-type {\n",
              "        vertical-align: middle;\n",
              "    }\n",
              "\n",
              "    .dataframe tbody tr th {\n",
              "        vertical-align: top;\n",
              "    }\n",
              "\n",
              "    .dataframe thead th {\n",
              "        text-align: right;\n",
              "    }\n",
              "</style>\n",
              "<table border=\"1\" class=\"dataframe\">\n",
              "  <thead>\n",
              "    <tr style=\"text-align: right;\">\n",
              "      <th></th>\n",
              "      <th>0</th>\n",
              "      <th>1</th>\n",
              "    </tr>\n",
              "  </thead>\n",
              "  <tbody>\n",
              "    <tr>\n",
              "      <th>27</th>\n",
              "      <td>E10</td>\n",
              "      <td>{'bipartite': 1}</td>\n",
              "    </tr>\n",
              "    <tr>\n",
              "      <th>28</th>\n",
              "      <td>E11</td>\n",
              "      <td>{'bipartite': 1}</td>\n",
              "    </tr>\n",
              "    <tr>\n",
              "      <th>29</th>\n",
              "      <td>E12</td>\n",
              "      <td>{'bipartite': 1}</td>\n",
              "    </tr>\n",
              "    <tr>\n",
              "      <th>30</th>\n",
              "      <td>E13</td>\n",
              "      <td>{'bipartite': 1}</td>\n",
              "    </tr>\n",
              "    <tr>\n",
              "      <th>31</th>\n",
              "      <td>E14</td>\n",
              "      <td>{'bipartite': 1}</td>\n",
              "    </tr>\n",
              "  </tbody>\n",
              "</table>\n",
              "</div>"
            ],
            "text/plain": [
              "      0                 1\n",
              "27  E10  {'bipartite': 1}\n",
              "28  E11  {'bipartite': 1}\n",
              "29  E12  {'bipartite': 1}\n",
              "30  E13  {'bipartite': 1}\n",
              "31  E14  {'bipartite': 1}"
            ]
          },
          "metadata": {
            "tags": []
          },
          "execution_count": 4
        }
      ]
    },
    {
      "cell_type": "markdown",
      "metadata": {
        "id": "zjwAEp8LVlBF"
      },
      "source": [
        "Because the data is bipartite, the following will separate the data into women and events.\r\n"
      ]
    },
    {
      "cell_type": "code",
      "metadata": {
        "id": "UHd0u5nWVkSN"
      },
      "source": [
        "women = G.graph[\"top\"]\r\n",
        "events = G.graph[\"bottom\"]"
      ],
      "execution_count": 5,
      "outputs": []
    },
    {
      "cell_type": "markdown",
      "metadata": {
        "id": "nnLl1WieV0vd"
      },
      "source": [
        "Here is a view of the women data extrapolated."
      ]
    },
    {
      "cell_type": "code",
      "metadata": {
        "colab": {
          "base_uri": "https://localhost:8080/"
        },
        "id": "rvuHDQFTV3ju",
        "outputId": "b2fccb8d-5879-4d88-bc45-7347654de5a3"
      },
      "source": [
        "print(women)"
      ],
      "execution_count": 6,
      "outputs": [
        {
          "output_type": "stream",
          "text": [
            "['Evelyn Jefferson', 'Laura Mandeville', 'Theresa Anderson', 'Brenda Rogers', 'Charlotte McDowd', 'Frances Anderson', 'Eleanor Nye', 'Pearl Oglethorpe', 'Ruth DeSand', 'Verne Sanderson', 'Myra Liddel', 'Katherina Rogers', 'Sylvia Avondale', 'Nora Fayette', 'Helen Lloyd', 'Dorothy Murchison', 'Olivia Carleton', 'Flora Price']\n"
          ],
          "name": "stdout"
        }
      ]
    },
    {
      "cell_type": "markdown",
      "metadata": {
        "id": "FOgJvvNaV9BI"
      },
      "source": [
        "Here is a view of the events."
      ]
    },
    {
      "cell_type": "code",
      "metadata": {
        "colab": {
          "base_uri": "https://localhost:8080/"
        },
        "id": "1KvlSNBfV_Ft",
        "outputId": "50e59edf-9458-4725-f226-5bb336f7bfed"
      },
      "source": [
        "print(events)"
      ],
      "execution_count": 7,
      "outputs": [
        {
          "output_type": "stream",
          "text": [
            "['E1', 'E2', 'E3', 'E4', 'E5', 'E6', 'E7', 'E8', 'E9', 'E10', 'E11', 'E12', 'E13', 'E14']\n"
          ],
          "name": "stdout"
        }
      ]
    },
    {
      "cell_type": "markdown",
      "metadata": {
        "id": "z3zKtHbYXAim"
      },
      "source": [
        "Here is a snippet view of the edges from the data."
      ]
    },
    {
      "cell_type": "code",
      "metadata": {
        "colab": {
          "base_uri": "https://localhost:8080/",
          "height": 206
        },
        "id": "dWB937MGXEJA",
        "outputId": "fcdcb329-bf84-4701-fe7c-73bf6b32d47f"
      },
      "source": [
        "edges = pd.DataFrame.from_dict(G.edges(data = True))\r\n",
        "edges.head()"
      ],
      "execution_count": 8,
      "outputs": [
        {
          "output_type": "execute_result",
          "data": {
            "text/html": [
              "<div>\n",
              "<style scoped>\n",
              "    .dataframe tbody tr th:only-of-type {\n",
              "        vertical-align: middle;\n",
              "    }\n",
              "\n",
              "    .dataframe tbody tr th {\n",
              "        vertical-align: top;\n",
              "    }\n",
              "\n",
              "    .dataframe thead th {\n",
              "        text-align: right;\n",
              "    }\n",
              "</style>\n",
              "<table border=\"1\" class=\"dataframe\">\n",
              "  <thead>\n",
              "    <tr style=\"text-align: right;\">\n",
              "      <th></th>\n",
              "      <th>0</th>\n",
              "      <th>1</th>\n",
              "      <th>2</th>\n",
              "    </tr>\n",
              "  </thead>\n",
              "  <tbody>\n",
              "    <tr>\n",
              "      <th>0</th>\n",
              "      <td>Evelyn Jefferson</td>\n",
              "      <td>E1</td>\n",
              "      <td>{}</td>\n",
              "    </tr>\n",
              "    <tr>\n",
              "      <th>1</th>\n",
              "      <td>Evelyn Jefferson</td>\n",
              "      <td>E2</td>\n",
              "      <td>{}</td>\n",
              "    </tr>\n",
              "    <tr>\n",
              "      <th>2</th>\n",
              "      <td>Evelyn Jefferson</td>\n",
              "      <td>E3</td>\n",
              "      <td>{}</td>\n",
              "    </tr>\n",
              "    <tr>\n",
              "      <th>3</th>\n",
              "      <td>Evelyn Jefferson</td>\n",
              "      <td>E4</td>\n",
              "      <td>{}</td>\n",
              "    </tr>\n",
              "    <tr>\n",
              "      <th>4</th>\n",
              "      <td>Evelyn Jefferson</td>\n",
              "      <td>E5</td>\n",
              "      <td>{}</td>\n",
              "    </tr>\n",
              "  </tbody>\n",
              "</table>\n",
              "</div>"
            ],
            "text/plain": [
              "                  0   1   2\n",
              "0  Evelyn Jefferson  E1  {}\n",
              "1  Evelyn Jefferson  E2  {}\n",
              "2  Evelyn Jefferson  E3  {}\n",
              "3  Evelyn Jefferson  E4  {}\n",
              "4  Evelyn Jefferson  E5  {}"
            ]
          },
          "metadata": {
            "tags": []
          },
          "execution_count": 8
        }
      ]
    },
    {
      "cell_type": "markdown",
      "metadata": {
        "id": "SwnhMlpVXpg_"
      },
      "source": [
        "# Visualization\r\n",
        "I wanted to visualize the data so that I could make inferences from the data.\r\n",
        "\r\n",
        "## Graphing the Women and Events as Nodes\r\n",
        "\r\n",
        "\r\n",
        "\r\n"
      ]
    },
    {
      "cell_type": "code",
      "metadata": {
        "colab": {
          "base_uri": "https://localhost:8080/",
          "height": 575
        },
        "id": "8rykYqDIZTn3",
        "outputId": "0952d7e3-1fa8-4396-8042-4a199d294326"
      },
      "source": [
        "pos=nx.spring_layout(G) # positions for all nodes\r\n",
        "\r\n",
        "# calculate degree centrality\r\n",
        "womenDegree = nx.degree(G, women) \r\n",
        "eventsDegree = nx.degree(G, events)\r\n",
        "\r\n",
        "plt.figure(1,figsize=(15,10)) \r\n",
        "plt.axis('off')\r\n",
        "\r\n",
        "# nodes\r\n",
        "nx.draw_networkx_nodes(G,pos,\r\n",
        "                       nodelist=women,\r\n",
        "                       node_color='red',\r\n",
        "                       node_size=[v * 100 for v in dict(womenDegree).values()],\r\n",
        "                       alpha=0.8)\r\n",
        "nx.draw_networkx_nodes(G,pos,\r\n",
        "                       nodelist=events,\r\n",
        "                       node_color='blue',\r\n",
        "                       node_size=[v * 200 for v in dict(eventsDegree).values()],\r\n",
        "                       alpha=0.5)\r\n",
        "\r\n",
        "# edges\r\n",
        "nx.draw(G,pos,width=.5,alpha=0.5, with_labels=True)"
      ],
      "execution_count": 9,
      "outputs": [
        {
          "output_type": "display_data",
          "data": {
            "image/png": "[encoded data removed]",
            "text/plain": [
              "<Figure size 1080x720 with 1 Axes>"
            ]
          },
          "metadata": {
            "tags": []
          }
        }
      ]
    },
    {
      "cell_type": "markdown",
      "metadata": {
        "id": "B2KMcpzHfwjz"
      },
      "source": [
        "# Centralities and Measurements\r\n",
        "\r\n",
        "Let's calculate the degree and eigenvector centralities for each node.\r\n",
        "\r\n",
        "\r\n"
      ]
    },
    {
      "cell_type": "code",
      "metadata": {
        "id": "uc240q2VgKjY"
      },
      "source": [
        "deg_centralities = nx.degree_centrality(G)\r\n",
        "eig_centralities = nx.eigenvector_centrality(G)\r\n",
        "\r\n",
        "degrees = pd.DataFrame.from_dict(deg_centralities, orient='index', columns=['Score'])\r\n",
        "eig = pd.DataFrame.from_dict(eig_centralities, orient='index', columns=['Score'])\r\n"
      ],
      "execution_count": 10,
      "outputs": []
    },
    {
      "cell_type": "markdown",
      "metadata": {
        "id": "xIfcEK7em6wx"
      },
      "source": [
        "Here is a view of degree and eigenvector centrality scores by women only (excluding events). These are the top 5 and lowest 5."
      ]
    },
    {
      "cell_type": "markdown",
      "metadata": {
        "id": "XVn_8c-to7hC"
      },
      "source": [
        "**Top 5 Degree Values**"
      ]
    },
    {
      "cell_type": "code",
      "metadata": {
        "colab": {
          "base_uri": "https://localhost:8080/",
          "height": 206
        },
        "id": "Lg3PcAR9nB1K",
        "outputId": "52684460-5c34-462f-9384-498a108d5d19"
      },
      "source": [
        "womenNodeDegrees = degrees[degrees.index.isin(women)]\r\n",
        "womenNodeDegrees = womenNodeDegrees.sort_values(by='Score', ascending=False)\r\n",
        "womenNodeDegrees.head(5)"
      ],
      "execution_count": 11,
      "outputs": [
        {
          "output_type": "execute_result",
          "data": {
            "text/html": [
              "<div>\n",
              "<style scoped>\n",
              "    .dataframe tbody tr th:only-of-type {\n",
              "        vertical-align: middle;\n",
              "    }\n",
              "\n",
              "    .dataframe tbody tr th {\n",
              "        vertical-align: top;\n",
              "    }\n",
              "\n",
              "    .dataframe thead th {\n",
              "        text-align: right;\n",
              "    }\n",
              "</style>\n",
              "<table border=\"1\" class=\"dataframe\">\n",
              "  <thead>\n",
              "    <tr style=\"text-align: right;\">\n",
              "      <th></th>\n",
              "      <th>Score</th>\n",
              "    </tr>\n",
              "  </thead>\n",
              "  <tbody>\n",
              "    <tr>\n",
              "      <th>Evelyn Jefferson</th>\n",
              "      <td>0.258065</td>\n",
              "    </tr>\n",
              "    <tr>\n",
              "      <th>Theresa Anderson</th>\n",
              "      <td>0.258065</td>\n",
              "    </tr>\n",
              "    <tr>\n",
              "      <th>Nora Fayette</th>\n",
              "      <td>0.258065</td>\n",
              "    </tr>\n",
              "    <tr>\n",
              "      <th>Laura Mandeville</th>\n",
              "      <td>0.225806</td>\n",
              "    </tr>\n",
              "    <tr>\n",
              "      <th>Brenda Rogers</th>\n",
              "      <td>0.225806</td>\n",
              "    </tr>\n",
              "  </tbody>\n",
              "</table>\n",
              "</div>"
            ],
            "text/plain": [
              "                     Score\n",
              "Evelyn Jefferson  0.258065\n",
              "Theresa Anderson  0.258065\n",
              "Nora Fayette      0.258065\n",
              "Laura Mandeville  0.225806\n",
              "Brenda Rogers     0.225806"
            ]
          },
          "metadata": {
            "tags": []
          },
          "execution_count": 11
        }
      ]
    },
    {
      "cell_type": "markdown",
      "metadata": {
        "id": "CtqoUfd-pBWp"
      },
      "source": [
        "**Lowest 5 Degree Values**\r\n",
        "\r\n"
      ]
    },
    {
      "cell_type": "code",
      "metadata": {
        "colab": {
          "base_uri": "https://localhost:8080/",
          "height": 206
        },
        "id": "1_RDVM8mo0Mx",
        "outputId": "5bbc631b-c0a8-44fa-90ee-a172e9df2082"
      },
      "source": [
        "womenNodeDegrees.tail(5)"
      ],
      "execution_count": 12,
      "outputs": [
        {
          "output_type": "execute_result",
          "data": {
            "text/html": [
              "<div>\n",
              "<style scoped>\n",
              "    .dataframe tbody tr th:only-of-type {\n",
              "        vertical-align: middle;\n",
              "    }\n",
              "\n",
              "    .dataframe tbody tr th {\n",
              "        vertical-align: top;\n",
              "    }\n",
              "\n",
              "    .dataframe thead th {\n",
              "        text-align: right;\n",
              "    }\n",
              "</style>\n",
              "<table border=\"1\" class=\"dataframe\">\n",
              "  <thead>\n",
              "    <tr style=\"text-align: right;\">\n",
              "      <th></th>\n",
              "      <th>Score</th>\n",
              "    </tr>\n",
              "  </thead>\n",
              "  <tbody>\n",
              "    <tr>\n",
              "      <th>Charlotte McDowd</th>\n",
              "      <td>0.129032</td>\n",
              "    </tr>\n",
              "    <tr>\n",
              "      <th>Pearl Oglethorpe</th>\n",
              "      <td>0.096774</td>\n",
              "    </tr>\n",
              "    <tr>\n",
              "      <th>Dorothy Murchison</th>\n",
              "      <td>0.064516</td>\n",
              "    </tr>\n",
              "    <tr>\n",
              "      <th>Olivia Carleton</th>\n",
              "      <td>0.064516</td>\n",
              "    </tr>\n",
              "    <tr>\n",
              "      <th>Flora Price</th>\n",
              "      <td>0.064516</td>\n",
              "    </tr>\n",
              "  </tbody>\n",
              "</table>\n",
              "</div>"
            ],
            "text/plain": [
              "                      Score\n",
              "Charlotte McDowd   0.129032\n",
              "Pearl Oglethorpe   0.096774\n",
              "Dorothy Murchison  0.064516\n",
              "Olivia Carleton    0.064516\n",
              "Flora Price        0.064516"
            ]
          },
          "metadata": {
            "tags": []
          },
          "execution_count": 12
        }
      ]
    },
    {
      "cell_type": "markdown",
      "metadata": {
        "id": "ZeHkdEXlpOgR"
      },
      "source": [
        "**Top 5 by Eigenvector Score**\r\n",
        "\r\n"
      ]
    },
    {
      "cell_type": "code",
      "metadata": {
        "colab": {
          "base_uri": "https://localhost:8080/",
          "height": 206
        },
        "id": "GStNU7QDoeR7",
        "outputId": "8ab4f259-8297-4966-d3e5-fd9652f5dfe1"
      },
      "source": [
        "womenEigDegrees = eig[eig.index.isin(women)]\r\n",
        "womenEigDegrees = womenEigDegrees.sort_values(by='Score', ascending=False)\r\n",
        "womenEigDegrees.head(5)"
      ],
      "execution_count": 13,
      "outputs": [
        {
          "output_type": "execute_result",
          "data": {
            "text/html": [
              "<div>\n",
              "<style scoped>\n",
              "    .dataframe tbody tr th:only-of-type {\n",
              "        vertical-align: middle;\n",
              "    }\n",
              "\n",
              "    .dataframe tbody tr th {\n",
              "        vertical-align: top;\n",
              "    }\n",
              "\n",
              "    .dataframe thead th {\n",
              "        text-align: right;\n",
              "    }\n",
              "</style>\n",
              "<table border=\"1\" class=\"dataframe\">\n",
              "  <thead>\n",
              "    <tr style=\"text-align: right;\">\n",
              "      <th></th>\n",
              "      <th>Score</th>\n",
              "    </tr>\n",
              "  </thead>\n",
              "  <tbody>\n",
              "    <tr>\n",
              "      <th>Theresa Anderson</th>\n",
              "      <td>0.262027</td>\n",
              "    </tr>\n",
              "    <tr>\n",
              "      <th>Evelyn Jefferson</th>\n",
              "      <td>0.236692</td>\n",
              "    </tr>\n",
              "    <tr>\n",
              "      <th>Brenda Rogers</th>\n",
              "      <td>0.221330</td>\n",
              "    </tr>\n",
              "    <tr>\n",
              "      <th>Laura Mandeville</th>\n",
              "      <td>0.218654</td>\n",
              "    </tr>\n",
              "    <tr>\n",
              "      <th>Sylvia Avondale</th>\n",
              "      <td>0.195992</td>\n",
              "    </tr>\n",
              "  </tbody>\n",
              "</table>\n",
              "</div>"
            ],
            "text/plain": [
              "                     Score\n",
              "Theresa Anderson  0.262027\n",
              "Evelyn Jefferson  0.236692\n",
              "Brenda Rogers     0.221330\n",
              "Laura Mandeville  0.218654\n",
              "Sylvia Avondale   0.195992"
            ]
          },
          "metadata": {
            "tags": []
          },
          "execution_count": 13
        }
      ]
    },
    {
      "cell_type": "markdown",
      "metadata": {
        "id": "hcB1se7ApVNz"
      },
      "source": [
        "**Lowest 5 by Eigenvector Score**\r\n"
      ]
    },
    {
      "cell_type": "code",
      "metadata": {
        "colab": {
          "base_uri": "https://localhost:8080/",
          "height": 206
        },
        "id": "SeS0BPw9pW6A",
        "outputId": "99d267ca-41c5-4bb8-aad5-a58518a05569"
      },
      "source": [
        "womenEigDegrees.tail(5)"
      ],
      "execution_count": 17,
      "outputs": [
        {
          "output_type": "execute_result",
          "data": {
            "text/html": [
              "<div>\n",
              "<style scoped>\n",
              "    .dataframe tbody tr th:only-of-type {\n",
              "        vertical-align: middle;\n",
              "    }\n",
              "\n",
              "    .dataframe tbody tr th {\n",
              "        vertical-align: top;\n",
              "    }\n",
              "\n",
              "    .dataframe thead th {\n",
              "        text-align: right;\n",
              "    }\n",
              "</style>\n",
              "<table border=\"1\" class=\"dataframe\">\n",
              "  <thead>\n",
              "    <tr style=\"text-align: right;\">\n",
              "      <th></th>\n",
              "      <th>Score</th>\n",
              "    </tr>\n",
              "  </thead>\n",
              "  <tbody>\n",
              "    <tr>\n",
              "      <th>Pearl Oglethorpe</th>\n",
              "      <td>0.127300</td>\n",
              "    </tr>\n",
              "    <tr>\n",
              "      <th>Charlotte McDowd</th>\n",
              "      <td>0.118945</td>\n",
              "    </tr>\n",
              "    <tr>\n",
              "      <th>Dorothy Murchison</th>\n",
              "      <td>0.092939</td>\n",
              "    </tr>\n",
              "    <tr>\n",
              "      <th>Olivia Carleton</th>\n",
              "      <td>0.049194</td>\n",
              "    </tr>\n",
              "    <tr>\n",
              "      <th>Flora Price</th>\n",
              "      <td>0.049194</td>\n",
              "    </tr>\n",
              "  </tbody>\n",
              "</table>\n",
              "</div>"
            ],
            "text/plain": [
              "                      Score\n",
              "Pearl Oglethorpe   0.127300\n",
              "Charlotte McDowd   0.118945\n",
              "Dorothy Murchison  0.092939\n",
              "Olivia Carleton    0.049194\n",
              "Flora Price        0.049194"
            ]
          },
          "metadata": {
            "tags": []
          },
          "execution_count": 17
        }
      ]
    },
    {
      "cell_type": "markdown",
      "metadata": {
        "id": "WoUKu9hRpj6S"
      },
      "source": [
        "## Table for Women by Relationships and Events Attended\r\n",
        "Next, let's look at a tabulation of the women's relationships and events attended. This uses Payton's code."
      ]
    },
    {
      "cell_type": "code",
      "metadata": {
        "colab": {
          "base_uri": "https://localhost:8080/",
          "height": 614
        },
        "id": "7u35Zc1up2Kh",
        "outputId": "ebb25ee1-bf19-4c12-94e6-788d01775ca6"
      },
      "source": [
        "W = bipartite.projected_graph(G, women)\r\n",
        "womenDegree = nx.degree(G, women) \r\n",
        "eventsDegree = nx.degree(G, events)\r\n",
        "\r\n",
        "womenDegreeDF = pd.DataFrame()\r\n",
        "womenDegreeDF['Name'] = dict(womenDegree).keys()\r\n",
        "womenDegreeDF['Events'] = dict(womenDegree).values()\r\n",
        "womenDegreeDF.sort_values(by='Events', ascending = False)\r\n",
        "womenRelationships = pd.DataFrame({'Name': [w for w in women], \r\n",
        "                                'Relationships': [W.degree(w) for w in women]})\r\n",
        "womenRelationships = womenRelationships.sort_values(by='Relationships', ascending = False)\r\n",
        "womenActivities = womenDegreeDF.merge(womenRelationships)\r\n",
        "womenActivities = womenActivities.sort_values(by=['Events', 'Relationships'], ascending = False)\r\n",
        "\r\n",
        "womenActivities"
      ],
      "execution_count": 20,
      "outputs": [
        {
          "output_type": "execute_result",
          "data": {
            "text/html": [
              "<div>\n",
              "<style scoped>\n",
              "    .dataframe tbody tr th:only-of-type {\n",
              "        vertical-align: middle;\n",
              "    }\n",
              "\n",
              "    .dataframe tbody tr th {\n",
              "        vertical-align: top;\n",
              "    }\n",
              "\n",
              "    .dataframe thead th {\n",
              "        text-align: right;\n",
              "    }\n",
              "</style>\n",
              "<table border=\"1\" class=\"dataframe\">\n",
              "  <thead>\n",
              "    <tr style=\"text-align: right;\">\n",
              "      <th></th>\n",
              "      <th>Name</th>\n",
              "      <th>Events</th>\n",
              "      <th>Relationships</th>\n",
              "    </tr>\n",
              "  </thead>\n",
              "  <tbody>\n",
              "    <tr>\n",
              "      <th>0</th>\n",
              "      <td>Evelyn Jefferson</td>\n",
              "      <td>8</td>\n",
              "      <td>17</td>\n",
              "    </tr>\n",
              "    <tr>\n",
              "      <th>2</th>\n",
              "      <td>Theresa Anderson</td>\n",
              "      <td>8</td>\n",
              "      <td>17</td>\n",
              "    </tr>\n",
              "    <tr>\n",
              "      <th>13</th>\n",
              "      <td>Nora Fayette</td>\n",
              "      <td>8</td>\n",
              "      <td>17</td>\n",
              "    </tr>\n",
              "    <tr>\n",
              "      <th>12</th>\n",
              "      <td>Sylvia Avondale</td>\n",
              "      <td>7</td>\n",
              "      <td>17</td>\n",
              "    </tr>\n",
              "    <tr>\n",
              "      <th>1</th>\n",
              "      <td>Laura Mandeville</td>\n",
              "      <td>7</td>\n",
              "      <td>15</td>\n",
              "    </tr>\n",
              "    <tr>\n",
              "      <th>3</th>\n",
              "      <td>Brenda Rogers</td>\n",
              "      <td>7</td>\n",
              "      <td>15</td>\n",
              "    </tr>\n",
              "    <tr>\n",
              "      <th>11</th>\n",
              "      <td>Katherina Rogers</td>\n",
              "      <td>6</td>\n",
              "      <td>16</td>\n",
              "    </tr>\n",
              "    <tr>\n",
              "      <th>14</th>\n",
              "      <td>Helen Lloyd</td>\n",
              "      <td>5</td>\n",
              "      <td>17</td>\n",
              "    </tr>\n",
              "    <tr>\n",
              "      <th>8</th>\n",
              "      <td>Ruth DeSand</td>\n",
              "      <td>4</td>\n",
              "      <td>17</td>\n",
              "    </tr>\n",
              "    <tr>\n",
              "      <th>9</th>\n",
              "      <td>Verne Sanderson</td>\n",
              "      <td>4</td>\n",
              "      <td>17</td>\n",
              "    </tr>\n",
              "    <tr>\n",
              "      <th>10</th>\n",
              "      <td>Myra Liddel</td>\n",
              "      <td>4</td>\n",
              "      <td>16</td>\n",
              "    </tr>\n",
              "    <tr>\n",
              "      <th>5</th>\n",
              "      <td>Frances Anderson</td>\n",
              "      <td>4</td>\n",
              "      <td>15</td>\n",
              "    </tr>\n",
              "    <tr>\n",
              "      <th>6</th>\n",
              "      <td>Eleanor Nye</td>\n",
              "      <td>4</td>\n",
              "      <td>15</td>\n",
              "    </tr>\n",
              "    <tr>\n",
              "      <th>4</th>\n",
              "      <td>Charlotte McDowd</td>\n",
              "      <td>4</td>\n",
              "      <td>11</td>\n",
              "    </tr>\n",
              "    <tr>\n",
              "      <th>7</th>\n",
              "      <td>Pearl Oglethorpe</td>\n",
              "      <td>3</td>\n",
              "      <td>16</td>\n",
              "    </tr>\n",
              "    <tr>\n",
              "      <th>15</th>\n",
              "      <td>Dorothy Murchison</td>\n",
              "      <td>2</td>\n",
              "      <td>16</td>\n",
              "    </tr>\n",
              "    <tr>\n",
              "      <th>16</th>\n",
              "      <td>Olivia Carleton</td>\n",
              "      <td>2</td>\n",
              "      <td>12</td>\n",
              "    </tr>\n",
              "    <tr>\n",
              "      <th>17</th>\n",
              "      <td>Flora Price</td>\n",
              "      <td>2</td>\n",
              "      <td>12</td>\n",
              "    </tr>\n",
              "  </tbody>\n",
              "</table>\n",
              "</div>"
            ],
            "text/plain": [
              "                 Name  Events  Relationships\n",
              "0    Evelyn Jefferson       8             17\n",
              "2    Theresa Anderson       8             17\n",
              "13       Nora Fayette       8             17\n",
              "12    Sylvia Avondale       7             17\n",
              "1    Laura Mandeville       7             15\n",
              "3       Brenda Rogers       7             15\n",
              "11   Katherina Rogers       6             16\n",
              "14        Helen Lloyd       5             17\n",
              "8         Ruth DeSand       4             17\n",
              "9     Verne Sanderson       4             17\n",
              "10        Myra Liddel       4             16\n",
              "5    Frances Anderson       4             15\n",
              "6         Eleanor Nye       4             15\n",
              "4    Charlotte McDowd       4             11\n",
              "7    Pearl Oglethorpe       3             16\n",
              "15  Dorothy Murchison       2             16\n",
              "16    Olivia Carleton       2             12\n",
              "17        Flora Price       2             12"
            ]
          },
          "metadata": {
            "tags": []
          },
          "execution_count": 20
        }
      ]
    },
    {
      "cell_type": "markdown",
      "metadata": {
        "id": "EKDr260-sTp6"
      },
      "source": [
        "# Analysis\r\n",
        "\r\n",
        "It does not look like the number of relationships a woman has correlates to the number of events she attends. For example, if we look at `Ruth DeSand`, she has only attended 4 events, but she has 17 relationships. `Evelyn Jefferson`, `Theresa Anderson`, and `Nora Fayette` have a high number of relationships and attended the most number of events, but we have `Dorothy Murchison` who has 16 relationships but only attended 2 events. So my inference needs to be refined. In addition, I may have made an error because I had not collapsed the bipartites graph.\r\n",
        "\r\n",
        "# Cliques\r\n",
        "In this section, I'm going to see if I could identify any cliques within the women because I think that individuals will attend events, sometimes, if certain other friends are going."
      ]
    },
    {
      "cell_type": "code",
      "metadata": {
        "id": "g-txnsUAxWwr"
      },
      "source": [
        "# Collapse the bipartites graph with only the women\r\n",
        "H = bipartite.projected_graph(G, women)\r\n",
        "\r\n",
        "# Obtain the cliques\r\n",
        "cliques = list(nx.find_cliques(H))\r\n"
      ],
      "execution_count": 21,
      "outputs": []
    },
    {
      "cell_type": "markdown",
      "metadata": {
        "id": "3FBPdzpw2ZGM"
      },
      "source": [
        "Here is a list of cliques."
      ]
    },
    {
      "cell_type": "code",
      "metadata": {
        "colab": {
          "base_uri": "https://localhost:8080/"
        },
        "id": "VB8rbmqA2Sgj",
        "outputId": "a7ea6f46-b82f-4c66-bb7c-f50f151c1bf8"
      },
      "source": [
        "for clique in cliques:\r\n",
        "  print(clique)"
      ],
      "execution_count": 22,
      "outputs": [
        {
          "output_type": "stream",
          "text": [
            "['Ruth DeSand', 'Sylvia Avondale', 'Verne Sanderson', 'Helen Lloyd', 'Theresa Anderson', 'Nora Fayette', 'Evelyn Jefferson', 'Dorothy Murchison', 'Pearl Oglethorpe', 'Myra Liddel', 'Katherina Rogers', 'Flora Price', 'Olivia Carleton']\n",
            "['Ruth DeSand', 'Sylvia Avondale', 'Verne Sanderson', 'Helen Lloyd', 'Theresa Anderson', 'Nora Fayette', 'Evelyn Jefferson', 'Dorothy Murchison', 'Pearl Oglethorpe', 'Myra Liddel', 'Katherina Rogers', 'Eleanor Nye', 'Laura Mandeville', 'Brenda Rogers', 'Frances Anderson']\n",
            "['Ruth DeSand', 'Sylvia Avondale', 'Verne Sanderson', 'Helen Lloyd', 'Theresa Anderson', 'Nora Fayette', 'Evelyn Jefferson', 'Charlotte McDowd', 'Laura Mandeville', 'Brenda Rogers', 'Eleanor Nye', 'Frances Anderson']\n"
          ],
          "name": "stdout"
        }
      ]
    },
    {
      "cell_type": "markdown",
      "metadata": {
        "id": "ZVsMnrMG-vBl"
      },
      "source": [
        "# Conclusion\r\n",
        "\r\n",
        "My inference was not correct as members were able to have a high number of relationships but not attend a high number of events. I suspect more can be discovered. Perhaps the commonality of particular members like `Theresa Anderson`, `Ruth DeSand`, etc across the cliques might denote they are leaders of the club."
      ]
    }
  ]
}