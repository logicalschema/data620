{
  "nbformat": 4,
  "nbformat_minor": 0,
  "metadata": {
    "colab": {
      "name": "Data 620 Week 8.ipynb",
      "provenance": [],
      "collapsed_sections": [],
      "authorship_tag": "ABX9TyO0TZISrZd5zyNKzTHLRUft",
      "include_colab_link": true
    },
    "kernelspec": {
      "name": "python3",
      "display_name": "Python 3"
    },
    "language_info": {
      "name": "python"
    }
  },
  "cells": [
    {
      "cell_type": "markdown",
      "metadata": {
        "id": "view-in-github",
        "colab_type": "text"
      },
      "source": [
        "<a href=\"https://colab.research.google.com/github/logicalschema/data620/blob/main/Week8/Data_620_Week_8.ipynb\" target=\"_parent\"><img src=\"https://colab.research.google.com/assets/colab-badge.svg\" alt=\"Open In Colab\"/></a>"
      ]
    },
    {
      "cell_type": "markdown",
      "metadata": {
        "id": "UsKZAbKBcP1g"
      },
      "source": [
        "# Data 620 Week 8 Assignment\n",
        "\n",
        "[Github Link](https://github.com/logicalschema/data620/tree/main/Week8)\n",
        "\n",
        "[YouTube Video](https://youtu.be/HqvhHvftVs4)  \n",
        "\n",
        "<img src=https://github.com/logicalschema/data620/raw/main/Week8/data/bible.jpg width=\"200\">\n",
        "\n",
        "\n",
        "# Introduction\n",
        "The purpose of this assignment is to look at the high frequency words for a corpus of interest. For this assignment, I selected the *NET Bible*. It is an English translation of the Bible. Additional information is available [here](https://netbible.com/about/).\n",
        "\n",
        "\n",
        "# Data\n",
        "The data was gathered by querying the API https://labs.bible.org/api_web_service and obtaining the 66 books of the NET Bible. Each book was obtained as plain text with chapter and verse numbers included. \n",
        "\n"
      ]
    },
    {
      "cell_type": "markdown",
      "metadata": {
        "id": "midA-9NcfszI"
      },
      "source": [
        "The code below sets up the environment."
      ]
    },
    {
      "cell_type": "code",
      "metadata": {
        "id": "kpwgQGxVoKfS"
      },
      "source": [
        "import matplotlib.pyplot as plt\n",
        "%matplotlib inline\n",
        "import urllib.request\n",
        "import pandas as pd\n",
        "from IPython.display import display_html\n",
        "import nltk, re, pprint\n",
        "from nltk import word_tokenize\n",
        "from nltk.probability import FreqDist\n",
        "from nltk.corpus import stopwords\n",
        "\n",
        "\n",
        "# Function that reads the text from an url\n",
        "def readText(url):\n",
        "\tfiletext = urllib.request.urlopen(url)\n",
        "\ttext = filetext.read().decode('utf-8')\n",
        "\treturn text\n",
        "\n",
        "# Function tokenizer\n",
        "# Tokenizes a text variable. Converts words to lowercase and removes stop words\n",
        "def quickTokenizer(textVar):\n",
        "  tokens = word_tokenize(textVar)\n",
        "\n",
        "  # Lowercase the tokens\n",
        "  tokens_l = [w.lower() for w in tokens if w.isalpha()]\n",
        "\n",
        "  filtered = []\n",
        "\n",
        "  for w in tokens_l:\n",
        "    if w not in stop_words:\n",
        "      filtered.append(w)\n",
        "\n",
        "  return filtered\n",
        "\n",
        "# Function for displaying dataframes side by side\n",
        "def display_side_by_side(*args):\n",
        "    html_str=''\n",
        "    for df in args:\n",
        "        html_str+=df.to_html()\n",
        "    display_html(html_str.replace('table','table style=\"display:inline\"'),raw=True)\n",
        "\n",
        "# Variable to keep track of figures\n",
        "fig_no = 1\n"
      ],
      "execution_count": 1,
      "outputs": []
    },
    {
      "cell_type": "markdown",
      "metadata": {
        "id": "kJts9Mghfyap"
      },
      "source": [
        "Additional downloads were needed for the `NLTK` library. `punkt` is the `NLTK` sentence tokenizer and `stopwords` which is used to obtain a list of classic stopwords for different languages. English has stopwords such as \"the\", \"is\", \"in\", etc that can be safely removed without losing meaning."
      ]
    },
    {
      "cell_type": "code",
      "metadata": {
        "colab": {
          "base_uri": "https://localhost:8080/"
        },
        "id": "4gCdgIg0evrW",
        "outputId": "41d626f7-cbb4-4a29-c952-a4aa457aaa15"
      },
      "source": [
        "nltk.download('punkt')\n",
        "nltk.download('stopwords')\n",
        "\n",
        "stop_words = set(stopwords.words(\"english\"))"
      ],
      "execution_count": 2,
      "outputs": [
        {
          "output_type": "stream",
          "text": [
            "[nltk_data] Downloading package punkt to /root/nltk_data...\n",
            "[nltk_data]   Unzipping tokenizers/punkt.zip.\n",
            "[nltk_data] Downloading package stopwords to /root/nltk_data...\n",
            "[nltk_data]   Unzipping corpora/stopwords.zip.\n"
          ],
          "name": "stdout"
        }
      ]
    },
    {
      "cell_type": "markdown",
      "metadata": {
        "id": "Ef8FfkrigfsA"
      },
      "source": [
        "The dataframe contains a list of Bible books and contains various attributes. The `Section` denotes if the book is in the Old or New Testament and `Genre` denotes if the book is `Narrative`, `Poetry`, `Wisdom`, `Prophecy`, `Gospel`, or `Epistle`. The field url contains the Github location of the book downloaded via the NET Bible API."
      ]
    },
    {
      "cell_type": "code",
      "metadata": {
        "colab": {
          "base_uri": "https://localhost:8080/",
          "height": 206
        },
        "id": "f2kwQFqqog5g",
        "outputId": "fdaec9b5-e0f9-4ec6-900f-e7359ae4c7f8"
      },
      "source": [
        "bible_df = pd.read_csv('https://raw.githubusercontent.com/logicalschema/data620/main/Week8/data/bible/biblebooks_df.csv', index_col=False)\n",
        "bible_df.head(5)"
      ],
      "execution_count": 3,
      "outputs": [
        {
          "output_type": "execute_result",
          "data": {
            "text/html": [
              "<div>\n",
              "<style scoped>\n",
              "    .dataframe tbody tr th:only-of-type {\n",
              "        vertical-align: middle;\n",
              "    }\n",
              "\n",
              "    .dataframe tbody tr th {\n",
              "        vertical-align: top;\n",
              "    }\n",
              "\n",
              "    .dataframe thead th {\n",
              "        text-align: right;\n",
              "    }\n",
              "</style>\n",
              "<table border=\"1\" class=\"dataframe\">\n",
              "  <thead>\n",
              "    <tr style=\"text-align: right;\">\n",
              "      <th></th>\n",
              "      <th>Book</th>\n",
              "      <th>Start</th>\n",
              "      <th>End</th>\n",
              "      <th>Section</th>\n",
              "      <th>Genre</th>\n",
              "      <th>url</th>\n",
              "    </tr>\n",
              "  </thead>\n",
              "  <tbody>\n",
              "    <tr>\n",
              "      <th>0</th>\n",
              "      <td>Genesis</td>\n",
              "      <td>1:1</td>\n",
              "      <td>50:26</td>\n",
              "      <td>Old Testament</td>\n",
              "      <td>Narrative</td>\n",
              "      <td>https://raw.githubusercontent.com/logicalschem...</td>\n",
              "    </tr>\n",
              "    <tr>\n",
              "      <th>1</th>\n",
              "      <td>Exodus</td>\n",
              "      <td>1:1</td>\n",
              "      <td>40:38</td>\n",
              "      <td>Old Testament</td>\n",
              "      <td>Narrative</td>\n",
              "      <td>https://raw.githubusercontent.com/logicalschem...</td>\n",
              "    </tr>\n",
              "    <tr>\n",
              "      <th>2</th>\n",
              "      <td>Leviticus</td>\n",
              "      <td>1:1</td>\n",
              "      <td>27:34</td>\n",
              "      <td>Old Testament</td>\n",
              "      <td>Narrative</td>\n",
              "      <td>https://raw.githubusercontent.com/logicalschem...</td>\n",
              "    </tr>\n",
              "    <tr>\n",
              "      <th>3</th>\n",
              "      <td>Numbers</td>\n",
              "      <td>1:1</td>\n",
              "      <td>36:13</td>\n",
              "      <td>Old Testament</td>\n",
              "      <td>Narrative</td>\n",
              "      <td>https://raw.githubusercontent.com/logicalschem...</td>\n",
              "    </tr>\n",
              "    <tr>\n",
              "      <th>4</th>\n",
              "      <td>Deuteronomy</td>\n",
              "      <td>1:1</td>\n",
              "      <td>34:12</td>\n",
              "      <td>Old Testament</td>\n",
              "      <td>Narrative</td>\n",
              "      <td>https://raw.githubusercontent.com/logicalschem...</td>\n",
              "    </tr>\n",
              "  </tbody>\n",
              "</table>\n",
              "</div>"
            ],
            "text/plain": [
              "          Book  ...                                                url\n",
              "0      Genesis  ...  https://raw.githubusercontent.com/logicalschem...\n",
              "1       Exodus  ...  https://raw.githubusercontent.com/logicalschem...\n",
              "2    Leviticus  ...  https://raw.githubusercontent.com/logicalschem...\n",
              "3      Numbers  ...  https://raw.githubusercontent.com/logicalschem...\n",
              "4  Deuteronomy  ...  https://raw.githubusercontent.com/logicalschem...\n",
              "\n",
              "[5 rows x 6 columns]"
            ]
          },
          "metadata": {
            "tags": []
          },
          "execution_count": 3
        }
      ]
    },
    {
      "cell_type": "markdown",
      "metadata": {
        "id": "1ccQs6aMhPIn"
      },
      "source": [
        "The variable `text_dict` is a dictionary that contains the full text of the Bible book."
      ]
    },
    {
      "cell_type": "code",
      "metadata": {
        "id": "uhpZNoV__AUX"
      },
      "source": [
        "text_dict = {}\n",
        "for index, row in bible_df.iterrows():\n",
        "\ttext_dict[row['Book']] = readText(row['url'])"
      ],
      "execution_count": 4,
      "outputs": []
    },
    {
      "cell_type": "markdown",
      "metadata": {
        "id": "Lm6EYpKOheSc"
      },
      "source": [
        "An example of the `text_dict` variable calling 1 Corinthians."
      ]
    },
    {
      "cell_type": "code",
      "metadata": {
        "colab": {
          "base_uri": "https://localhost:8080/"
        },
        "id": "Y5XCX3ijQkB8",
        "outputId": "54693c1e-e110-4a92-8a85-ac9f46d5d299"
      },
      "source": [
        "print(text_dict['Luke'][0:150])"
      ],
      "execution_count": 6,
      "outputs": [
        {
          "output_type": "stream",
          "text": [
            "1:1 Now many have undertaken to compile an account of the things that have been fulfilled among us,   2 like the accounts passed on to us by those who\n"
          ],
          "name": "stdout"
        }
      ]
    },
    {
      "cell_type": "markdown",
      "metadata": {
        "id": "5DUjJz38hxid"
      },
      "source": [
        "# Constructing the Corpus: the Entire Bible\n",
        "\n",
        "Now, since we have the raw text, let's construct the corpus. This section will construct the entire Bible using all of the 66 books.\n",
        "\n",
        "\n"
      ]
    },
    {
      "cell_type": "code",
      "metadata": {
        "id": "5QepfZ8kcdJc"
      },
      "source": [
        "complete_bible = \"\"\n",
        "for book in text_dict.keys():\n",
        "  complete_bible = complete_bible + \" \" + text_dict[book]\n",
        "\n",
        "corpus = quickTokenizer(complete_bible)\n"
      ],
      "execution_count": 7,
      "outputs": []
    },
    {
      "cell_type": "markdown",
      "metadata": {
        "id": "OXe5pGIbj3tg"
      },
      "source": [
        "## Total Unique Words\n",
        "My function `quickTokenizer` converts tokens to lowercase, removes stopwords and only considers words (removing punctuation and verse numbers). "
      ]
    },
    {
      "cell_type": "code",
      "metadata": {
        "colab": {
          "base_uri": "https://localhost:8080/"
        },
        "id": "YI1MUFyHkjTQ",
        "outputId": "d728f8b1-256b-495d-9d89-3c287a5ccba0"
      },
      "source": [
        "print(\"There are \" + str(len(set(corpus))) + \" unique words.\")"
      ],
      "execution_count": 8,
      "outputs": [
        {
          "output_type": "stream",
          "text": [
            "There are 15534 unique words.\n"
          ],
          "name": "stdout"
        }
      ]
    },
    {
      "cell_type": "markdown",
      "metadata": {
        "id": "1Moo-K4amCnA"
      },
      "source": [
        "## Common Words\n",
        "*Taking the most common words, how many unique words represent half of the total words in the corpus?*\n",
        "\n",
        "Now, let's build a frequency table of the words in the corpus and then make a dataframe."
      ]
    },
    {
      "cell_type": "code",
      "metadata": {
        "id": "wUaLn20ImpZJ"
      },
      "source": [
        "# Builds the frequency distribution using FreqDist()\n",
        "freqBible = FreqDist(corpus)\n"
      ],
      "execution_count": 9,
      "outputs": []
    },
    {
      "cell_type": "markdown",
      "metadata": {
        "id": "uMu6w_98pjG0"
      },
      "source": [
        "## How many unique words represent half of the total words in the corpus?\n",
        "\n",
        "The following will work through calculating the unique words that constitute at least half of the corpus. This will use a cummulative sum."
      ]
    },
    {
      "cell_type": "code",
      "metadata": {
        "colab": {
          "base_uri": "https://localhost:8080/"
        },
        "id": "ZW_RPXmirjly",
        "outputId": "7e66595c-4a37-4833-a984-aba92bb82925"
      },
      "source": [
        "# The total number of words in the corpus \n",
        "totalWords = len(corpus)\n",
        "uniqueWords = len(freqBible) \n",
        "\n",
        "print(\"There are \" + str(totalWords) + \" words in the corpus.\")\n",
        "print(\"Half of this number is \" + str(totalWords/2) + \".\")"
      ],
      "execution_count": 10,
      "outputs": [
        {
          "output_type": "stream",
          "text": [
            "There are 331114 words in the corpus.\n",
            "Half of this number is 165557.0.\n"
          ],
          "name": "stdout"
        }
      ]
    },
    {
      "cell_type": "code",
      "metadata": {
        "id": "-Z-qXNNAsOM6"
      },
      "source": [
        "top = pd.DataFrame(freqBible.most_common(500),columns=['Word','Frequency'])\n",
        "top['Relative Frequency'] = top['Frequency']/totalWords\n",
        "\n",
        "index = 0\n",
        "sum = 0\n",
        "stop = totalWords / 2\n",
        "words = []\n",
        "\n",
        "# Develop a cummulative sum until the stop (half of the total words) is reached\n",
        "while sum <= stop:\n",
        "  sum = sum + top.iloc[index,1]\n",
        "  words.append(top.iloc[index,0])\n",
        "  index += 1\n"
      ],
      "execution_count": 11,
      "outputs": []
    },
    {
      "cell_type": "markdown",
      "metadata": {
        "id": "tmDiGYY4yRzj"
      },
      "source": [
        "Working through the frequencies of the most common words, we reach the following:"
      ]
    },
    {
      "cell_type": "code",
      "metadata": {
        "colab": {
          "base_uri": "https://localhost:8080/",
          "height": 442
        },
        "id": "hwZmh9ejypYS",
        "outputId": "beba3aa6-2316-4521-de94-11eadd1b7387"
      },
      "source": [
        "print(\"The first \" + str(index + 1) + \" common words represent half of the corpus.\")\n",
        "top.head(index)"
      ],
      "execution_count": 12,
      "outputs": [
        {
          "output_type": "stream",
          "text": [
            "The first 367 common words represent half of the corpus.\n"
          ],
          "name": "stdout"
        },
        {
          "output_type": "execute_result",
          "data": {
            "text/html": [
              "<div>\n",
              "<style scoped>\n",
              "    .dataframe tbody tr th:only-of-type {\n",
              "        vertical-align: middle;\n",
              "    }\n",
              "\n",
              "    .dataframe tbody tr th {\n",
              "        vertical-align: top;\n",
              "    }\n",
              "\n",
              "    .dataframe thead th {\n",
              "        text-align: right;\n",
              "    }\n",
              "</style>\n",
              "<table border=\"1\" class=\"dataframe\">\n",
              "  <thead>\n",
              "    <tr style=\"text-align: right;\">\n",
              "      <th></th>\n",
              "      <th>Word</th>\n",
              "      <th>Frequency</th>\n",
              "      <th>Relative Frequency</th>\n",
              "    </tr>\n",
              "  </thead>\n",
              "  <tbody>\n",
              "    <tr>\n",
              "      <th>0</th>\n",
              "      <td>lord</td>\n",
              "      <td>7728</td>\n",
              "      <td>0.023339</td>\n",
              "    </tr>\n",
              "    <tr>\n",
              "      <th>1</th>\n",
              "      <td>god</td>\n",
              "      <td>4055</td>\n",
              "      <td>0.012247</td>\n",
              "    </tr>\n",
              "    <tr>\n",
              "      <th>2</th>\n",
              "      <td>one</td>\n",
              "      <td>3411</td>\n",
              "      <td>0.010302</td>\n",
              "    </tr>\n",
              "    <tr>\n",
              "      <th>3</th>\n",
              "      <td>said</td>\n",
              "      <td>3268</td>\n",
              "      <td>0.009870</td>\n",
              "    </tr>\n",
              "    <tr>\n",
              "      <th>4</th>\n",
              "      <td>people</td>\n",
              "      <td>2659</td>\n",
              "      <td>0.008030</td>\n",
              "    </tr>\n",
              "    <tr>\n",
              "      <th>...</th>\n",
              "      <td>...</td>\n",
              "      <td>...</td>\n",
              "      <td>...</td>\n",
              "    </tr>\n",
              "    <tr>\n",
              "      <th>361</th>\n",
              "      <td>bronze</td>\n",
              "      <td>162</td>\n",
              "      <td>0.000489</td>\n",
              "    </tr>\n",
              "    <tr>\n",
              "      <th>362</th>\n",
              "      <td>returned</td>\n",
              "      <td>162</td>\n",
              "      <td>0.000489</td>\n",
              "    </tr>\n",
              "    <tr>\n",
              "      <th>363</th>\n",
              "      <td>used</td>\n",
              "      <td>161</td>\n",
              "      <td>0.000486</td>\n",
              "    </tr>\n",
              "    <tr>\n",
              "      <th>364</th>\n",
              "      <td>officials</td>\n",
              "      <td>161</td>\n",
              "      <td>0.000486</td>\n",
              "    </tr>\n",
              "    <tr>\n",
              "      <th>365</th>\n",
              "      <td>struck</td>\n",
              "      <td>161</td>\n",
              "      <td>0.000486</td>\n",
              "    </tr>\n",
              "  </tbody>\n",
              "</table>\n",
              "<p>366 rows × 3 columns</p>\n",
              "</div>"
            ],
            "text/plain": [
              "          Word  Frequency  Relative Frequency\n",
              "0         lord       7728            0.023339\n",
              "1          god       4055            0.012247\n",
              "2          one       3411            0.010302\n",
              "3         said       3268            0.009870\n",
              "4       people       2659            0.008030\n",
              "..         ...        ...                 ...\n",
              "361     bronze        162            0.000489\n",
              "362   returned        162            0.000489\n",
              "363       used        161            0.000486\n",
              "364  officials        161            0.000486\n",
              "365     struck        161            0.000486\n",
              "\n",
              "[366 rows x 3 columns]"
            ]
          },
          "metadata": {
            "tags": []
          },
          "execution_count": 12
        }
      ]
    },
    {
      "cell_type": "markdown",
      "metadata": {
        "id": "9NN1cF0ssxEh"
      },
      "source": [
        "## Top 200 Highest Frequency Words\n",
        "\n",
        "Using the dataframe constructed above, we are able to quickly get the top 200 highest frequency words."
      ]
    },
    {
      "cell_type": "code",
      "metadata": {
        "colab": {
          "base_uri": "https://localhost:8080/",
          "height": 363
        },
        "id": "KmNevxHSs2Ar",
        "outputId": "f550f071-0a6e-4e76-cc22-6f4fe6a4c330"
      },
      "source": [
        "# Top 200 words exrapolated from the top dataframe\n",
        "top200 = top.head(200)\n",
        "\n",
        "# Top 10 and Bottom 10 of the top 200\n",
        "display_side_by_side(top200.head(10), top200.tail(10) )\n"
      ],
      "execution_count": 13,
      "outputs": [
        {
          "output_type": "display_data",
          "data": {
            "text/html": [
              "<table style=\"display:inline\" border=\"1\" class=\"dataframe\">\n",
              "  <thead>\n",
              "    <tr style=\"text-align: right;\">\n",
              "      <th></th>\n",
              "      <th>Word</th>\n",
              "      <th>Frequency</th>\n",
              "      <th>Relative Frequency</th>\n",
              "    </tr>\n",
              "  </thead>\n",
              "  <tbody>\n",
              "    <tr>\n",
              "      <th>0</th>\n",
              "      <td>lord</td>\n",
              "      <td>7728</td>\n",
              "      <td>0.023339</td>\n",
              "    </tr>\n",
              "    <tr>\n",
              "      <th>1</th>\n",
              "      <td>god</td>\n",
              "      <td>4055</td>\n",
              "      <td>0.012247</td>\n",
              "    </tr>\n",
              "    <tr>\n",
              "      <th>2</th>\n",
              "      <td>one</td>\n",
              "      <td>3411</td>\n",
              "      <td>0.010302</td>\n",
              "    </tr>\n",
              "    <tr>\n",
              "      <th>3</th>\n",
              "      <td>said</td>\n",
              "      <td>3268</td>\n",
              "      <td>0.009870</td>\n",
              "    </tr>\n",
              "    <tr>\n",
              "      <th>4</th>\n",
              "      <td>people</td>\n",
              "      <td>2659</td>\n",
              "      <td>0.008030</td>\n",
              "    </tr>\n",
              "    <tr>\n",
              "      <th>5</th>\n",
              "      <td>king</td>\n",
              "      <td>2558</td>\n",
              "      <td>0.007725</td>\n",
              "    </tr>\n",
              "    <tr>\n",
              "      <th>6</th>\n",
              "      <td>son</td>\n",
              "      <td>2281</td>\n",
              "      <td>0.006889</td>\n",
              "    </tr>\n",
              "    <tr>\n",
              "      <th>7</th>\n",
              "      <td>israel</td>\n",
              "      <td>1899</td>\n",
              "      <td>0.005735</td>\n",
              "    </tr>\n",
              "    <tr>\n",
              "      <th>8</th>\n",
              "      <td>must</td>\n",
              "      <td>1825</td>\n",
              "      <td>0.005512</td>\n",
              "    </tr>\n",
              "    <tr>\n",
              "      <th>9</th>\n",
              "      <td>land</td>\n",
              "      <td>1787</td>\n",
              "      <td>0.005397</td>\n",
              "    </tr>\n",
              "  </tbody>\n",
              "</table style=\"display:inline\"><table style=\"display:inline\" border=\"1\" class=\"dataframe\">\n",
              "  <thead>\n",
              "    <tr style=\"text-align: right;\">\n",
              "      <th></th>\n",
              "      <th>Word</th>\n",
              "      <th>Frequency</th>\n",
              "      <th>Relative Frequency</th>\n",
              "    </tr>\n",
              "  </thead>\n",
              "  <tbody>\n",
              "    <tr>\n",
              "      <th>190</th>\n",
              "      <td>nothing</td>\n",
              "      <td>268</td>\n",
              "      <td>0.000809</td>\n",
              "    </tr>\n",
              "    <tr>\n",
              "      <th>191</th>\n",
              "      <td>gods</td>\n",
              "      <td>266</td>\n",
              "      <td>0.000803</td>\n",
              "    </tr>\n",
              "    <tr>\n",
              "      <th>192</th>\n",
              "      <td>levites</td>\n",
              "      <td>266</td>\n",
              "      <td>0.000803</td>\n",
              "    </tr>\n",
              "    <tr>\n",
              "      <th>193</th>\n",
              "      <td>destroy</td>\n",
              "      <td>265</td>\n",
              "      <td>0.000800</td>\n",
              "    </tr>\n",
              "    <tr>\n",
              "      <th>194</th>\n",
              "      <td>daughter</td>\n",
              "      <td>265</td>\n",
              "      <td>0.000800</td>\n",
              "    </tr>\n",
              "    <tr>\n",
              "      <th>195</th>\n",
              "      <td>battle</td>\n",
              "      <td>265</td>\n",
              "      <td>0.000800</td>\n",
              "    </tr>\n",
              "    <tr>\n",
              "      <th>196</th>\n",
              "      <td>help</td>\n",
              "      <td>265</td>\n",
              "      <td>0.000800</td>\n",
              "    </tr>\n",
              "    <tr>\n",
              "      <th>197</th>\n",
              "      <td>keep</td>\n",
              "      <td>264</td>\n",
              "      <td>0.000797</td>\n",
              "    </tr>\n",
              "    <tr>\n",
              "      <th>198</th>\n",
              "      <td>world</td>\n",
              "      <td>264</td>\n",
              "      <td>0.000797</td>\n",
              "    </tr>\n",
              "    <tr>\n",
              "      <th>199</th>\n",
              "      <td>praise</td>\n",
              "      <td>262</td>\n",
              "      <td>0.000791</td>\n",
              "    </tr>\n",
              "  </tbody>\n",
              "</table style=\"display:inline\">"
            ]
          },
          "metadata": {
            "tags": []
          }
        }
      ]
    },
    {
      "cell_type": "markdown",
      "metadata": {
        "id": "2OvRalNH7Tfn"
      },
      "source": [
        "## Graph of the Top 200"
      ]
    },
    {
      "cell_type": "code",
      "metadata": {
        "colab": {
          "base_uri": "https://localhost:8080/",
          "height": 1000
        },
        "id": "AIhUTUX90plj",
        "outputId": "26827435-c453-4289-c824-aa1486f75506"
      },
      "source": [
        "x = top200['Word'].tolist()\n",
        "y = top200['Relative Frequency'].tolist()\n",
        "\n",
        "plt.figure(fig_no,figsize=(20,20)) \n",
        "plt.barh(x, y, color='red', align='center')\n",
        "plt.savefig('Figure' + str(fig_no) + '.png')\n",
        "fig_no +=1"
      ],
      "execution_count": 14,
      "outputs": [
        {
          "output_type": "display_data",
          "data": {
            "image/png": "[encoded data removed]",
            "text/plain": [
              "<Figure size 1440x1440 with 1 Axes>"
            ]
          },
          "metadata": {
            "tags": [],
            "needs_background": "light"
          }
        }
      ]
    },
    {
      "cell_type": "markdown",
      "metadata": {
        "id": "Q0SXY7aF7ZCE"
      },
      "source": [
        "## Graph of the Top 20"
      ]
    },
    {
      "cell_type": "code",
      "metadata": {
        "colab": {
          "base_uri": "https://localhost:8080/",
          "height": 592
        },
        "id": "0o9Z1oRDikce",
        "outputId": "baeab493-6380-49eb-963d-00a60a1fd28c"
      },
      "source": [
        "x = top200.head(20)['Word'].tolist()\n",
        "y = top200.head(20)['Relative Frequency'].tolist()\n",
        "\n",
        "\n",
        "plt.figure(fig_no,figsize=(15,10)) \n",
        "plt.barh(x, y, color='red', edgecolor='black')\n",
        "plt.savefig('bar' + str(fig_no) + '.png')\n",
        "fig_no +=1"
      ],
      "execution_count": 15,
      "outputs": [
        {
          "output_type": "display_data",
          "data": {
            "image/png": "[encoded data removed]",
            "text/plain": [
              "<Figure size 1080x720 with 1 Axes>"
            ]
          },
          "metadata": {
            "tags": [],
            "needs_background": "light"
          }
        }
      ]
    },
    {
      "cell_type": "markdown",
      "metadata": {
        "id": "dds9BUwL7dWe"
      },
      "source": [
        "# Zipf's Law\n",
        "\n",
        "\"**Zipf’s Law**: Let f(w) be the frequency of a word w in free text. Suppose that all the words of a text are ranked according to their frequency, with the most frequent word first. Zipf’s Law states that the frequency of a word type is inversely proportional to its rank (i.e., f × r = k, for some constant k). For example, the 50th most common word type should occur three times as frequently as the 150th most common word type.\" \n",
        "\n",
        "—*Natural Language Processing with Python (p. 128). O'Reilly Media. Kindle Edition.*\n",
        "\n",
        "\n",
        "\n",
        "\n",
        "**Does the observed relative frequency of these words follow Zipf’s law?  Explain.**  \n",
        "\n",
        "Yes, Zipf's Law can be observed in the relative frequencies of the common words. \n",
        "\n",
        "\n",
        "\n",
        "\n",
        "\n",
        "**In what ways do you think the frequency of the words in this corpus differ from “all words in all corpora.”** The law holds for all corpora. For ways they would differ would be in the words being compared as they relate to their respective corpus. \n"
      ]
    },
    {
      "cell_type": "markdown",
      "metadata": {
        "id": "NdTNl5jnDKfY"
      },
      "source": [
        "# Additional Work\n",
        "\n",
        "This section looks at differences in common words of the NET Bible by section and genre."
      ]
    },
    {
      "cell_type": "markdown",
      "metadata": {
        "id": "797aFuOaDXJu"
      },
      "source": [
        "## Section: Old and New Testament Common Words\n",
        "\n",
        "Let's look at the differences, if any, of the Old and New Testaments in terms of frequency of words.\n"
      ]
    },
    {
      "cell_type": "code",
      "metadata": {
        "colab": {
          "base_uri": "https://localhost:8080/"
        },
        "id": "m_v5pH1YDmCP",
        "outputId": "0ebf413e-8cc4-451f-aa2f-bf6b5996f208"
      },
      "source": [
        "# Gather the book names of the different sections Old and New Testament\n",
        "old_testament = bible_df[bible_df['Section'] == 'Old Testament']['Book'].tolist()\n",
        "new_testament = bible_df[bible_df['Section'] == 'New Testament']['Book'].tolist()\n",
        "\n",
        "print(old_testament)\n",
        "print(new_testament)"
      ],
      "execution_count": 16,
      "outputs": [
        {
          "output_type": "stream",
          "text": [
            "['Genesis', 'Exodus', 'Leviticus', 'Numbers', 'Deuteronomy', 'Joshua', 'Judges', 'Ruth', '1 Samuel', '2 Samuel', '1 Kings', '2 Kings', '1 Chronicles', '2 Chronicles', 'Ezra', 'Nehemiah', 'Esther', 'Job', 'Psalm', 'Proverbs', 'Ecclesiastes', 'Song of Solomon', 'Isaiah', 'Jeremiah', 'Lamentations', 'Ezekiel', 'Daniel', 'Hosea', 'Joel', 'Amos', 'Obadiah', 'Jonah', 'Micah', 'Nahum', 'Habakkuk', 'Zephaniah', 'Haggai', 'Zechariah', 'Malachi']\n",
            "['Matthew', 'Mark', 'Luke', 'John', 'Acts', 'Romans', '1 Corinthians', '2 Corinthians', 'Galatians', 'Ephesians', 'Philippians', 'Colossians', '1 Thessalonians', '2 Thessalonians', '1 Timothy', '2 Timothy', 'Titus', 'Philemon', 'Hebrews', 'James', '1 Peter', '2 Peter', '1 John', '2 John', '3 John', 'Jude', 'Revelation']\n"
          ],
          "name": "stdout"
        }
      ]
    },
    {
      "cell_type": "markdown",
      "metadata": {
        "id": "Yk33jHBnEd5R"
      },
      "source": [
        "### Build the Corpora"
      ]
    },
    {
      "cell_type": "code",
      "metadata": {
        "id": "czQc02paEdTQ"
      },
      "source": [
        "otText = \"\"\n",
        "ntText = \"\"\n",
        "\n",
        "for book in old_testament:\n",
        "  otText = otText + text_dict[book] + \" \"\n",
        "\n",
        "for book in new_testament:\n",
        "  ntText = ntText + text_dict[book] + \" \"\n",
        "\n",
        "otCorpus = quickTokenizer(otText)\n",
        "ntCorpus = quickTokenizer(ntText)\n"
      ],
      "execution_count": 17,
      "outputs": []
    },
    {
      "cell_type": "markdown",
      "metadata": {
        "id": "AN4LfqTyFx2A"
      },
      "source": [
        "### Build the Frequency Tables"
      ]
    },
    {
      "cell_type": "code",
      "metadata": {
        "id": "-GyH_hdzF2hv"
      },
      "source": [
        "otfreqBible = FreqDist(otCorpus)\n",
        "ntfreqBible = FreqDist(ntCorpus)"
      ],
      "execution_count": 18,
      "outputs": []
    },
    {
      "cell_type": "markdown",
      "metadata": {
        "id": "qlOWzwKtF_Ve"
      },
      "source": [
        "### Top 10 Common Words for the Old and New Testaments\n",
        "\n",
        "\n"
      ]
    },
    {
      "cell_type": "code",
      "metadata": {
        "colab": {
          "base_uri": "https://localhost:8080/",
          "height": 363
        },
        "id": "p-k0W0xIGN8n",
        "outputId": "7879a55d-fd55-4d4c-c193-15d50bd523a8"
      },
      "source": [
        "ot = pd.DataFrame(otfreqBible.most_common(50),columns=['Word','Frequency'])\n",
        "ot['Relative Frequency'] = ot['Frequency']/len(otCorpus)\n",
        "\n",
        "nt = pd.DataFrame(ntfreqBible.most_common(50),columns=['Word','Frequency'])\n",
        "nt['Relative Frequency'] = nt['Frequency']/len(ntCorpus)\n",
        "\n",
        "display_side_by_side(ot.head(10), nt.head(10) )\n"
      ],
      "execution_count": 20,
      "outputs": [
        {
          "output_type": "display_data",
          "data": {
            "text/html": [
              "<table style=\"display:inline\" border=\"1\" class=\"dataframe\">\n",
              "  <thead>\n",
              "    <tr style=\"text-align: right;\">\n",
              "      <th></th>\n",
              "      <th>Word</th>\n",
              "      <th>Frequency</th>\n",
              "      <th>Relative Frequency</th>\n",
              "    </tr>\n",
              "  </thead>\n",
              "  <tbody>\n",
              "    <tr>\n",
              "      <th>0</th>\n",
              "      <td>lord</td>\n",
              "      <td>7076</td>\n",
              "      <td>0.027638</td>\n",
              "    </tr>\n",
              "    <tr>\n",
              "      <th>1</th>\n",
              "      <td>god</td>\n",
              "      <td>2691</td>\n",
              "      <td>0.010511</td>\n",
              "    </tr>\n",
              "    <tr>\n",
              "      <th>2</th>\n",
              "      <td>king</td>\n",
              "      <td>2466</td>\n",
              "      <td>0.009632</td>\n",
              "    </tr>\n",
              "    <tr>\n",
              "      <th>3</th>\n",
              "      <td>said</td>\n",
              "      <td>2242</td>\n",
              "      <td>0.008757</td>\n",
              "    </tr>\n",
              "    <tr>\n",
              "      <th>4</th>\n",
              "      <td>people</td>\n",
              "      <td>2188</td>\n",
              "      <td>0.008546</td>\n",
              "    </tr>\n",
              "    <tr>\n",
              "      <th>5</th>\n",
              "      <td>one</td>\n",
              "      <td>2181</td>\n",
              "      <td>0.008519</td>\n",
              "    </tr>\n",
              "    <tr>\n",
              "      <th>6</th>\n",
              "      <td>son</td>\n",
              "      <td>1865</td>\n",
              "      <td>0.007285</td>\n",
              "    </tr>\n",
              "    <tr>\n",
              "      <th>7</th>\n",
              "      <td>israel</td>\n",
              "      <td>1830</td>\n",
              "      <td>0.007148</td>\n",
              "    </tr>\n",
              "    <tr>\n",
              "      <th>8</th>\n",
              "      <td>land</td>\n",
              "      <td>1746</td>\n",
              "      <td>0.006820</td>\n",
              "    </tr>\n",
              "    <tr>\n",
              "      <th>9</th>\n",
              "      <td>must</td>\n",
              "      <td>1618</td>\n",
              "      <td>0.006320</td>\n",
              "    </tr>\n",
              "  </tbody>\n",
              "</table style=\"display:inline\"><table style=\"display:inline\" border=\"1\" class=\"dataframe\">\n",
              "  <thead>\n",
              "    <tr style=\"text-align: right;\">\n",
              "      <th></th>\n",
              "      <th>Word</th>\n",
              "      <th>Frequency</th>\n",
              "      <th>Relative Frequency</th>\n",
              "    </tr>\n",
              "  </thead>\n",
              "  <tbody>\n",
              "    <tr>\n",
              "      <th>0</th>\n",
              "      <td>god</td>\n",
              "      <td>1364</td>\n",
              "      <td>0.018165</td>\n",
              "    </tr>\n",
              "    <tr>\n",
              "      <th>1</th>\n",
              "      <td>one</td>\n",
              "      <td>1230</td>\n",
              "      <td>0.016380</td>\n",
              "    </tr>\n",
              "    <tr>\n",
              "      <th>2</th>\n",
              "      <td>jesus</td>\n",
              "      <td>1202</td>\n",
              "      <td>0.016007</td>\n",
              "    </tr>\n",
              "    <tr>\n",
              "      <th>3</th>\n",
              "      <td>said</td>\n",
              "      <td>1026</td>\n",
              "      <td>0.013663</td>\n",
              "    </tr>\n",
              "    <tr>\n",
              "      <th>4</th>\n",
              "      <td>lord</td>\n",
              "      <td>652</td>\n",
              "      <td>0.008683</td>\n",
              "    </tr>\n",
              "    <tr>\n",
              "      <th>5</th>\n",
              "      <td>christ</td>\n",
              "      <td>532</td>\n",
              "      <td>0.007085</td>\n",
              "    </tr>\n",
              "    <tr>\n",
              "      <th>6</th>\n",
              "      <td>man</td>\n",
              "      <td>498</td>\n",
              "      <td>0.006632</td>\n",
              "    </tr>\n",
              "    <tr>\n",
              "      <th>7</th>\n",
              "      <td>people</td>\n",
              "      <td>471</td>\n",
              "      <td>0.006272</td>\n",
              "    </tr>\n",
              "    <tr>\n",
              "      <th>8</th>\n",
              "      <td>us</td>\n",
              "      <td>455</td>\n",
              "      <td>0.006059</td>\n",
              "    </tr>\n",
              "    <tr>\n",
              "      <th>9</th>\n",
              "      <td>things</td>\n",
              "      <td>437</td>\n",
              "      <td>0.005820</td>\n",
              "    </tr>\n",
              "  </tbody>\n",
              "</table style=\"display:inline\">"
            ]
          },
          "metadata": {
            "tags": []
          }
        }
      ]
    },
    {
      "cell_type": "markdown",
      "metadata": {
        "id": "TWi97gz3G5Ov"
      },
      "source": [
        "## Genre Top Common Words\n",
        "\n",
        "This section looks at the top common words for the Bible by genre. The genres that I classified the books are `Narrative`, `Poetry`, `Wisdom`, `Prophecy`, `Gospel`, and `Epistle`."
      ]
    },
    {
      "cell_type": "code",
      "metadata": {
        "colab": {
          "base_uri": "https://localhost:8080/"
        },
        "id": "5dFg0oWSHYBI",
        "outputId": "cb7ac788-a6da-4ae1-d6ac-697849b7b9b9"
      },
      "source": [
        "# Gather the books by genre\n",
        "narratives = bible_df[bible_df['Genre'] == 'Narrative']['Book'].tolist()\n",
        "poetry = bible_df[bible_df['Genre'] == 'Poetry']['Book'].tolist()\n",
        "wisdom = bible_df[bible_df['Genre'] == 'Wisdom']['Book'].tolist()\n",
        "prophecies = bible_df[bible_df['Genre'] == 'Prophecy']['Book'].tolist()\n",
        "gospels = bible_df[bible_df['Genre'] == 'Gospel']['Book'].tolist()\n",
        "epistles = bible_df[bible_df['Genre'] == 'Epistle']['Book'].tolist()\n",
        "\n",
        "# Epistles sample\n",
        "print(epistles)"
      ],
      "execution_count": 21,
      "outputs": [
        {
          "output_type": "stream",
          "text": [
            "['Romans', '1 Corinthians', '2 Corinthians', 'Galatians', 'Ephesians', 'Philippians', 'Colossians', '1 Thessalonians', '2 Thessalonians', '1 Timothy', '2 Timothy', 'Titus', 'Philemon', 'Hebrews', 'James', '1 Peter', '2 Peter', '1 John', '2 John', '3 John', 'Jude']\n"
          ],
          "name": "stdout"
        }
      ]
    },
    {
      "cell_type": "markdown",
      "metadata": {
        "id": "Nna3wT3iITvP"
      },
      "source": [
        "### Build the Corpora"
      ]
    },
    {
      "cell_type": "code",
      "metadata": {
        "id": "QHnUS3KBIWrH"
      },
      "source": [
        "narrativeText = \"\"\n",
        "poetryText = \"\"\n",
        "wisdomText = \"\"\n",
        "prophecyText = \"\"\n",
        "gospelText = \"\"\n",
        "epistleText = \"\"\n",
        "\n",
        "for book in narratives:\n",
        "  narrativeText = narrativeText + text_dict[book] + \" \"\n",
        "\n",
        "for book in poetry:\n",
        "  poetryText = poetryText + text_dict[book] + \" \"\n",
        "\n",
        "for book in wisdom:\n",
        "  wisdomText = wisdomText + text_dict[book] + \" \"\n",
        "\n",
        "for book in prophecies:\n",
        "  prophecyText = prophecyText + text_dict[book] + \" \"\n",
        "\n",
        "for book in gospels:\n",
        "  gospelText = gospelText + text_dict[book] + \" \"\n",
        "\n",
        "for book in epistles:\n",
        "  epistleText = epistleText + text_dict[book] + \" \"\n",
        "\n",
        "narCorpus = quickTokenizer(narrativeText)\n",
        "poeCorpus = quickTokenizer(poetryText)\n",
        "wisCorpus = quickTokenizer(wisdomText)\n",
        "proCorpus = quickTokenizer(prophecyText)\n",
        "gosCorpus = quickTokenizer(gospelText)\n",
        "epiCorpus = quickTokenizer(epistleText)\n"
      ],
      "execution_count": 22,
      "outputs": []
    },
    {
      "cell_type": "markdown",
      "metadata": {
        "id": "r3OtoZ2hJsi3"
      },
      "source": [
        "### Build the Frequency Tables"
      ]
    },
    {
      "cell_type": "code",
      "metadata": {
        "id": "TiTgNJhwJtef"
      },
      "source": [
        "narCorpusF = FreqDist(narCorpus)\n",
        "poeCorpusF = FreqDist(poeCorpus)\n",
        "wisCorpusF = FreqDist(wisCorpus)\n",
        "proCorpusF = FreqDist(proCorpus)\n",
        "gosCorpusF  = FreqDist(gosCorpus)\n",
        "epiCorpusF = FreqDist(epiCorpus)\n",
        "\n"
      ],
      "execution_count": 23,
      "outputs": []
    },
    {
      "cell_type": "markdown",
      "metadata": {
        "id": "1tN2F1uOKVNv"
      },
      "source": [
        "### Top 10 Common Words for Genres\n",
        "\n"
      ]
    },
    {
      "cell_type": "code",
      "metadata": {
        "colab": {
          "base_uri": "https://localhost:8080/",
          "height": 363
        },
        "id": "8lzTwXO0Kcw3",
        "outputId": "f7c9701a-8c77-48cb-a261-7f3aee631cfe"
      },
      "source": [
        "n = pd.DataFrame(narCorpusF.most_common(50),columns=['Word','Frequency'])\n",
        "n['Relative Frequency'] = n['Frequency']/len(narCorpus)\n",
        "\n",
        "p = pd.DataFrame(poeCorpusF.most_common(50),columns=['Word','Frequency'])\n",
        "p['Relative Frequency'] = p['Frequency']/len(poeCorpus)\n",
        "\n",
        "w = pd.DataFrame(wisCorpusF.most_common(50),columns=['Word','Frequency'])\n",
        "w['Relative Frequency'] = w['Frequency']/len(wisCorpus)\n",
        "\n",
        "pr = pd.DataFrame(proCorpusF.most_common(50),columns=['Word','Frequency'])\n",
        "pr['Relative Frequency'] = pr['Frequency']/len(proCorpus)\n",
        "\n",
        "g = pd.DataFrame(gosCorpusF.most_common(50),columns=['Word','Frequency'])\n",
        "g['Relative Frequency'] = g['Frequency']/len(gosCorpus)\n",
        "\n",
        "e = pd.DataFrame(epiCorpusF.most_common(50),columns=['Word','Frequency'])\n",
        "e['Relative Frequency'] = e['Frequency']/len(epiCorpus)\n",
        "\n",
        "# Narrative, Prophecy, Wisdom\n",
        "display_side_by_side(n.head(10), p.head(10), w.head(10) )\n"
      ],
      "execution_count": 24,
      "outputs": [
        {
          "output_type": "display_data",
          "data": {
            "text/html": [
              "<table style=\"display:inline\" border=\"1\" class=\"dataframe\">\n",
              "  <thead>\n",
              "    <tr style=\"text-align: right;\">\n",
              "      <th></th>\n",
              "      <th>Word</th>\n",
              "      <th>Frequency</th>\n",
              "      <th>Relative Frequency</th>\n",
              "    </tr>\n",
              "  </thead>\n",
              "  <tbody>\n",
              "    <tr>\n",
              "      <th>0</th>\n",
              "      <td>lord</td>\n",
              "      <td>4026</td>\n",
              "      <td>0.025350</td>\n",
              "    </tr>\n",
              "    <tr>\n",
              "      <th>1</th>\n",
              "      <td>said</td>\n",
              "      <td>1985</td>\n",
              "      <td>0.012499</td>\n",
              "    </tr>\n",
              "    <tr>\n",
              "      <th>2</th>\n",
              "      <td>king</td>\n",
              "      <td>1868</td>\n",
              "      <td>0.011762</td>\n",
              "    </tr>\n",
              "    <tr>\n",
              "      <th>3</th>\n",
              "      <td>god</td>\n",
              "      <td>1776</td>\n",
              "      <td>0.011183</td>\n",
              "    </tr>\n",
              "    <tr>\n",
              "      <th>4</th>\n",
              "      <td>son</td>\n",
              "      <td>1553</td>\n",
              "      <td>0.009779</td>\n",
              "    </tr>\n",
              "    <tr>\n",
              "      <th>5</th>\n",
              "      <td>must</td>\n",
              "      <td>1457</td>\n",
              "      <td>0.009174</td>\n",
              "    </tr>\n",
              "    <tr>\n",
              "      <th>6</th>\n",
              "      <td>israel</td>\n",
              "      <td>1276</td>\n",
              "      <td>0.008034</td>\n",
              "    </tr>\n",
              "    <tr>\n",
              "      <th>7</th>\n",
              "      <td>people</td>\n",
              "      <td>1162</td>\n",
              "      <td>0.007317</td>\n",
              "    </tr>\n",
              "    <tr>\n",
              "      <th>8</th>\n",
              "      <td>one</td>\n",
              "      <td>1123</td>\n",
              "      <td>0.007071</td>\n",
              "    </tr>\n",
              "    <tr>\n",
              "      <th>9</th>\n",
              "      <td>land</td>\n",
              "      <td>1119</td>\n",
              "      <td>0.007046</td>\n",
              "    </tr>\n",
              "  </tbody>\n",
              "</table style=\"display:inline\"><table style=\"display:inline\" border=\"1\" class=\"dataframe\">\n",
              "  <thead>\n",
              "    <tr style=\"text-align: right;\">\n",
              "      <th></th>\n",
              "      <th>Word</th>\n",
              "      <th>Frequency</th>\n",
              "      <th>Relative Frequency</th>\n",
              "    </tr>\n",
              "  </thead>\n",
              "  <tbody>\n",
              "    <tr>\n",
              "      <th>0</th>\n",
              "      <td>lord</td>\n",
              "      <td>830</td>\n",
              "      <td>0.037354</td>\n",
              "    </tr>\n",
              "    <tr>\n",
              "      <th>1</th>\n",
              "      <td>god</td>\n",
              "      <td>437</td>\n",
              "      <td>0.019667</td>\n",
              "    </tr>\n",
              "    <tr>\n",
              "      <th>2</th>\n",
              "      <td>like</td>\n",
              "      <td>239</td>\n",
              "      <td>0.010756</td>\n",
              "    </tr>\n",
              "    <tr>\n",
              "      <th>3</th>\n",
              "      <td>may</td>\n",
              "      <td>202</td>\n",
              "      <td>0.009091</td>\n",
              "    </tr>\n",
              "    <tr>\n",
              "      <th>4</th>\n",
              "      <td>one</td>\n",
              "      <td>186</td>\n",
              "      <td>0.008371</td>\n",
              "    </tr>\n",
              "    <tr>\n",
              "      <th>5</th>\n",
              "      <td>people</td>\n",
              "      <td>169</td>\n",
              "      <td>0.007606</td>\n",
              "    </tr>\n",
              "    <tr>\n",
              "      <th>6</th>\n",
              "      <td>praise</td>\n",
              "      <td>157</td>\n",
              "      <td>0.007066</td>\n",
              "    </tr>\n",
              "    <tr>\n",
              "      <th>7</th>\n",
              "      <td>us</td>\n",
              "      <td>153</td>\n",
              "      <td>0.006886</td>\n",
              "    </tr>\n",
              "    <tr>\n",
              "      <th>8</th>\n",
              "      <td>love</td>\n",
              "      <td>138</td>\n",
              "      <td>0.006211</td>\n",
              "    </tr>\n",
              "    <tr>\n",
              "      <th>9</th>\n",
              "      <td>let</td>\n",
              "      <td>132</td>\n",
              "      <td>0.005941</td>\n",
              "    </tr>\n",
              "  </tbody>\n",
              "</table style=\"display:inline\"><table style=\"display:inline\" border=\"1\" class=\"dataframe\">\n",
              "  <thead>\n",
              "    <tr style=\"text-align: right;\">\n",
              "      <th></th>\n",
              "      <th>Word</th>\n",
              "      <th>Frequency</th>\n",
              "      <th>Relative Frequency</th>\n",
              "    </tr>\n",
              "  </thead>\n",
              "  <tbody>\n",
              "    <tr>\n",
              "      <th>0</th>\n",
              "      <td>one</td>\n",
              "      <td>308</td>\n",
              "      <td>0.018133</td>\n",
              "    </tr>\n",
              "    <tr>\n",
              "      <th>1</th>\n",
              "      <td>like</td>\n",
              "      <td>224</td>\n",
              "      <td>0.013187</td>\n",
              "    </tr>\n",
              "    <tr>\n",
              "      <th>2</th>\n",
              "      <td>person</td>\n",
              "      <td>222</td>\n",
              "      <td>0.013070</td>\n",
              "    </tr>\n",
              "    <tr>\n",
              "      <th>3</th>\n",
              "      <td>god</td>\n",
              "      <td>188</td>\n",
              "      <td>0.011068</td>\n",
              "    </tr>\n",
              "    <tr>\n",
              "      <th>4</th>\n",
              "      <td>wicked</td>\n",
              "      <td>122</td>\n",
              "      <td>0.007182</td>\n",
              "    </tr>\n",
              "    <tr>\n",
              "      <th>5</th>\n",
              "      <td>lord</td>\n",
              "      <td>117</td>\n",
              "      <td>0.006888</td>\n",
              "    </tr>\n",
              "    <tr>\n",
              "      <th>6</th>\n",
              "      <td>man</td>\n",
              "      <td>111</td>\n",
              "      <td>0.006535</td>\n",
              "    </tr>\n",
              "    <tr>\n",
              "      <th>7</th>\n",
              "      <td>words</td>\n",
              "      <td>101</td>\n",
              "      <td>0.005946</td>\n",
              "    </tr>\n",
              "    <tr>\n",
              "      <th>8</th>\n",
              "      <td>wise</td>\n",
              "      <td>101</td>\n",
              "      <td>0.005946</td>\n",
              "    </tr>\n",
              "    <tr>\n",
              "      <th>9</th>\n",
              "      <td>heart</td>\n",
              "      <td>94</td>\n",
              "      <td>0.005534</td>\n",
              "    </tr>\n",
              "  </tbody>\n",
              "</table style=\"display:inline\">"
            ]
          },
          "metadata": {
            "tags": []
          }
        }
      ]
    },
    {
      "cell_type": "code",
      "metadata": {
        "colab": {
          "base_uri": "https://localhost:8080/",
          "height": 363
        },
        "id": "WG0IMumpM7LY",
        "outputId": "d853b3a0-8590-424d-b98c-b6e0ba2cb84e"
      },
      "source": [
        "# Prophecy, Gospel, Epistle\n",
        "display_side_by_side(pr.head(10), g.head(10), e.head(10) )"
      ],
      "execution_count": 25,
      "outputs": [
        {
          "output_type": "display_data",
          "data": {
            "text/html": [
              "<table style=\"display:inline\" border=\"1\" class=\"dataframe\">\n",
              "  <thead>\n",
              "    <tr style=\"text-align: right;\">\n",
              "      <th></th>\n",
              "      <th>Word</th>\n",
              "      <th>Frequency</th>\n",
              "      <th>Relative Frequency</th>\n",
              "    </tr>\n",
              "  </thead>\n",
              "  <tbody>\n",
              "    <tr>\n",
              "      <th>0</th>\n",
              "      <td>lord</td>\n",
              "      <td>2231</td>\n",
              "      <td>0.030280</td>\n",
              "    </tr>\n",
              "    <tr>\n",
              "      <th>1</th>\n",
              "      <td>people</td>\n",
              "      <td>891</td>\n",
              "      <td>0.012093</td>\n",
              "    </tr>\n",
              "    <tr>\n",
              "      <th>2</th>\n",
              "      <td>one</td>\n",
              "      <td>741</td>\n",
              "      <td>0.010057</td>\n",
              "    </tr>\n",
              "    <tr>\n",
              "      <th>3</th>\n",
              "      <td>like</td>\n",
              "      <td>734</td>\n",
              "      <td>0.009962</td>\n",
              "    </tr>\n",
              "    <tr>\n",
              "      <th>4</th>\n",
              "      <td>says</td>\n",
              "      <td>565</td>\n",
              "      <td>0.007668</td>\n",
              "    </tr>\n",
              "    <tr>\n",
              "      <th>5</th>\n",
              "      <td>land</td>\n",
              "      <td>555</td>\n",
              "      <td>0.007533</td>\n",
              "    </tr>\n",
              "    <tr>\n",
              "      <th>6</th>\n",
              "      <td>god</td>\n",
              "      <td>549</td>\n",
              "      <td>0.007451</td>\n",
              "    </tr>\n",
              "    <tr>\n",
              "      <th>7</th>\n",
              "      <td>israel</td>\n",
              "      <td>511</td>\n",
              "      <td>0.006935</td>\n",
              "    </tr>\n",
              "    <tr>\n",
              "      <th>8</th>\n",
              "      <td>king</td>\n",
              "      <td>510</td>\n",
              "      <td>0.006922</td>\n",
              "    </tr>\n",
              "    <tr>\n",
              "      <th>9</th>\n",
              "      <td>come</td>\n",
              "      <td>351</td>\n",
              "      <td>0.004764</td>\n",
              "    </tr>\n",
              "  </tbody>\n",
              "</table style=\"display:inline\"><table style=\"display:inline\" border=\"1\" class=\"dataframe\">\n",
              "  <thead>\n",
              "    <tr style=\"text-align: right;\">\n",
              "      <th></th>\n",
              "      <th>Word</th>\n",
              "      <th>Frequency</th>\n",
              "      <th>Relative Frequency</th>\n",
              "    </tr>\n",
              "  </thead>\n",
              "  <tbody>\n",
              "    <tr>\n",
              "      <th>0</th>\n",
              "      <td>jesus</td>\n",
              "      <td>848</td>\n",
              "      <td>0.025216</td>\n",
              "    </tr>\n",
              "    <tr>\n",
              "      <th>1</th>\n",
              "      <td>said</td>\n",
              "      <td>834</td>\n",
              "      <td>0.024800</td>\n",
              "    </tr>\n",
              "    <tr>\n",
              "      <th>2</th>\n",
              "      <td>one</td>\n",
              "      <td>590</td>\n",
              "      <td>0.017544</td>\n",
              "    </tr>\n",
              "    <tr>\n",
              "      <th>3</th>\n",
              "      <td>man</td>\n",
              "      <td>342</td>\n",
              "      <td>0.010170</td>\n",
              "    </tr>\n",
              "    <tr>\n",
              "      <th>4</th>\n",
              "      <td>son</td>\n",
              "      <td>318</td>\n",
              "      <td>0.009456</td>\n",
              "    </tr>\n",
              "    <tr>\n",
              "      <th>5</th>\n",
              "      <td>god</td>\n",
              "      <td>307</td>\n",
              "      <td>0.009129</td>\n",
              "    </tr>\n",
              "    <tr>\n",
              "      <th>6</th>\n",
              "      <td>came</td>\n",
              "      <td>300</td>\n",
              "      <td>0.008921</td>\n",
              "    </tr>\n",
              "    <tr>\n",
              "      <th>7</th>\n",
              "      <td>father</td>\n",
              "      <td>297</td>\n",
              "      <td>0.008832</td>\n",
              "    </tr>\n",
              "    <tr>\n",
              "      <th>8</th>\n",
              "      <td>went</td>\n",
              "      <td>247</td>\n",
              "      <td>0.007345</td>\n",
              "    </tr>\n",
              "    <tr>\n",
              "      <th>9</th>\n",
              "      <td>come</td>\n",
              "      <td>238</td>\n",
              "      <td>0.007077</td>\n",
              "    </tr>\n",
              "  </tbody>\n",
              "</table style=\"display:inline\"><table style=\"display:inline\" border=\"1\" class=\"dataframe\">\n",
              "  <thead>\n",
              "    <tr style=\"text-align: right;\">\n",
              "      <th></th>\n",
              "      <th>Word</th>\n",
              "      <th>Frequency</th>\n",
              "      <th>Relative Frequency</th>\n",
              "    </tr>\n",
              "  </thead>\n",
              "  <tbody>\n",
              "    <tr>\n",
              "      <th>0</th>\n",
              "      <td>god</td>\n",
              "      <td>798</td>\n",
              "      <td>0.030951</td>\n",
              "    </tr>\n",
              "    <tr>\n",
              "      <th>1</th>\n",
              "      <td>one</td>\n",
              "      <td>463</td>\n",
              "      <td>0.017958</td>\n",
              "    </tr>\n",
              "    <tr>\n",
              "      <th>2</th>\n",
              "      <td>christ</td>\n",
              "      <td>447</td>\n",
              "      <td>0.017337</td>\n",
              "    </tr>\n",
              "    <tr>\n",
              "      <th>3</th>\n",
              "      <td>lord</td>\n",
              "      <td>326</td>\n",
              "      <td>0.012644</td>\n",
              "    </tr>\n",
              "    <tr>\n",
              "      <th>4</th>\n",
              "      <td>jesus</td>\n",
              "      <td>267</td>\n",
              "      <td>0.010356</td>\n",
              "    </tr>\n",
              "    <tr>\n",
              "      <th>5</th>\n",
              "      <td>us</td>\n",
              "      <td>255</td>\n",
              "      <td>0.009890</td>\n",
              "    </tr>\n",
              "    <tr>\n",
              "      <th>6</th>\n",
              "      <td>may</td>\n",
              "      <td>192</td>\n",
              "      <td>0.007447</td>\n",
              "    </tr>\n",
              "    <tr>\n",
              "      <th>7</th>\n",
              "      <td>things</td>\n",
              "      <td>187</td>\n",
              "      <td>0.007253</td>\n",
              "    </tr>\n",
              "    <tr>\n",
              "      <th>8</th>\n",
              "      <td>faith</td>\n",
              "      <td>184</td>\n",
              "      <td>0.007136</td>\n",
              "    </tr>\n",
              "    <tr>\n",
              "      <th>9</th>\n",
              "      <td>also</td>\n",
              "      <td>184</td>\n",
              "      <td>0.007136</td>\n",
              "    </tr>\n",
              "  </tbody>\n",
              "</table style=\"display:inline\">"
            ]
          },
          "metadata": {
            "tags": []
          }
        }
      ]
    },
    {
      "cell_type": "markdown",
      "metadata": {
        "id": "A_ddLgk4Q4lB"
      },
      "source": [
        "# Look at Luke + Acts\n",
        "\n",
        "I was always interested in the Luke and Acts so I do a quick look at the common words in these books."
      ]
    },
    {
      "cell_type": "code",
      "metadata": {
        "id": "4rGPBkNGRCVH"
      },
      "source": [
        "# Build the text\n",
        "lukeactsText = text_dict['Luke'] + \" \" + text_dict['Acts']\n",
        "\n",
        "# Build the corpus\n",
        "lkcorpus = quickTokenizer(lukeactsText)\n",
        "\n",
        "# Build the frequency table\n",
        "lkcorpusF = FreqDist(lkcorpus)\n",
        "\n",
        "# Build the dataframe\n",
        "lka = pd.DataFrame(lkcorpusF.most_common(50),columns=['Word','Frequency'])\n",
        "lka['Relative Frequency'] = lka['Frequency']/len(lkcorpus)"
      ],
      "execution_count": 26,
      "outputs": []
    },
    {
      "cell_type": "markdown",
      "metadata": {
        "id": "pA1iSAscRvvT"
      },
      "source": [
        "Here is a look at the most common words."
      ]
    },
    {
      "cell_type": "code",
      "metadata": {
        "colab": {
          "base_uri": "https://localhost:8080/",
          "height": 363
        },
        "id": "mvMhhWQzR1tQ",
        "outputId": "500f947c-2301-4c05-bb2e-0fd2eb02c107"
      },
      "source": [
        "lka.head(10)"
      ],
      "execution_count": 27,
      "outputs": [
        {
          "output_type": "execute_result",
          "data": {
            "text/html": [
              "<div>\n",
              "<style scoped>\n",
              "    .dataframe tbody tr th:only-of-type {\n",
              "        vertical-align: middle;\n",
              "    }\n",
              "\n",
              "    .dataframe tbody tr th {\n",
              "        vertical-align: top;\n",
              "    }\n",
              "\n",
              "    .dataframe thead th {\n",
              "        text-align: right;\n",
              "    }\n",
              "</style>\n",
              "<table border=\"1\" class=\"dataframe\">\n",
              "  <thead>\n",
              "    <tr style=\"text-align: right;\">\n",
              "      <th></th>\n",
              "      <th>Word</th>\n",
              "      <th>Frequency</th>\n",
              "      <th>Relative Frequency</th>\n",
              "    </tr>\n",
              "  </thead>\n",
              "  <tbody>\n",
              "    <tr>\n",
              "      <th>0</th>\n",
              "      <td>said</td>\n",
              "      <td>379</td>\n",
              "      <td>0.018192</td>\n",
              "    </tr>\n",
              "    <tr>\n",
              "      <th>1</th>\n",
              "      <td>jesus</td>\n",
              "      <td>294</td>\n",
              "      <td>0.014112</td>\n",
              "    </tr>\n",
              "    <tr>\n",
              "      <th>2</th>\n",
              "      <td>god</td>\n",
              "      <td>289</td>\n",
              "      <td>0.013872</td>\n",
              "    </tr>\n",
              "    <tr>\n",
              "      <th>3</th>\n",
              "      <td>one</td>\n",
              "      <td>222</td>\n",
              "      <td>0.010656</td>\n",
              "    </tr>\n",
              "    <tr>\n",
              "      <th>4</th>\n",
              "      <td>man</td>\n",
              "      <td>215</td>\n",
              "      <td>0.010320</td>\n",
              "    </tr>\n",
              "    <tr>\n",
              "      <th>5</th>\n",
              "      <td>lord</td>\n",
              "      <td>189</td>\n",
              "      <td>0.009072</td>\n",
              "    </tr>\n",
              "    <tr>\n",
              "      <th>6</th>\n",
              "      <td>people</td>\n",
              "      <td>174</td>\n",
              "      <td>0.008352</td>\n",
              "    </tr>\n",
              "    <tr>\n",
              "      <th>7</th>\n",
              "      <td>paul</td>\n",
              "      <td>169</td>\n",
              "      <td>0.008112</td>\n",
              "    </tr>\n",
              "    <tr>\n",
              "      <th>8</th>\n",
              "      <td>son</td>\n",
              "      <td>162</td>\n",
              "      <td>0.007776</td>\n",
              "    </tr>\n",
              "    <tr>\n",
              "      <th>9</th>\n",
              "      <td>came</td>\n",
              "      <td>154</td>\n",
              "      <td>0.007392</td>\n",
              "    </tr>\n",
              "  </tbody>\n",
              "</table>\n",
              "</div>"
            ],
            "text/plain": [
              "     Word  Frequency  Relative Frequency\n",
              "0    said        379            0.018192\n",
              "1   jesus        294            0.014112\n",
              "2     god        289            0.013872\n",
              "3     one        222            0.010656\n",
              "4     man        215            0.010320\n",
              "5    lord        189            0.009072\n",
              "6  people        174            0.008352\n",
              "7    paul        169            0.008112\n",
              "8     son        162            0.007776\n",
              "9    came        154            0.007392"
            ]
          },
          "metadata": {
            "tags": []
          },
          "execution_count": 27
        }
      ]
    },
    {
      "cell_type": "markdown",
      "metadata": {
        "id": "PpYm2WYgTtH_"
      },
      "source": [
        "## Parts of Speech Tagger\n",
        "I wanted to try out the POS tagger from NLTK."
      ]
    },
    {
      "cell_type": "code",
      "metadata": {
        "id": "AZfTCyvaT2Wk",
        "colab": {
          "base_uri": "https://localhost:8080/"
        },
        "outputId": "28b6b6b2-2679-4cfb-f1ca-ac3048293e01"
      },
      "source": [
        "# Needed download to use pos_tag\n",
        "nltk.download('averaged_perceptron_tagger')\n",
        "pos_lk = nltk.pos_tag(lkcorpus)"
      ],
      "execution_count": 30,
      "outputs": [
        {
          "output_type": "stream",
          "text": [
            "[nltk_data] Downloading package averaged_perceptron_tagger to\n",
            "[nltk_data]     /root/nltk_data...\n",
            "[nltk_data]   Unzipping taggers/averaged_perceptron_tagger.zip.\n"
          ],
          "name": "stdout"
        }
      ]
    },
    {
      "cell_type": "code",
      "metadata": {
        "colab": {
          "base_uri": "https://localhost:8080/"
        },
        "id": "-OOM9QacUMhz",
        "outputId": "f6cb37e3-ed26-48c1-c7a4-6a3e7e366eb3"
      },
      "source": [
        "# View of the POS 20 entries\n",
        "print(pos_lk[0:20])"
      ],
      "execution_count": 33,
      "outputs": [
        {
          "output_type": "stream",
          "text": [
            "[('many', 'JJ'), ('undertaken', 'JJ'), ('compile', 'NN'), ('account', 'NN'), ('things', 'NNS'), ('fulfilled', 'VBD'), ('among', 'IN'), ('us', 'PRP'), ('like', 'IN'), ('accounts', 'NNS'), ('passed', 'VBD'), ('us', 'PRP'), ('eyewitnesses', 'VBZ'), ('servants', 'NNS'), ('word', 'NN'), ('beginning', 'NN'), ('seemed', 'VBD'), ('good', 'JJ'), ('well', 'RB'), ('followed', 'VBN')]\n"
          ],
          "name": "stdout"
        }
      ]
    },
    {
      "cell_type": "markdown",
      "metadata": {
        "id": "IR9ysfm2VcxM"
      },
      "source": [
        "##Tags Galore\n",
        "This section looks at the different tags from the Luke-Acts corpus."
      ]
    },
    {
      "cell_type": "code",
      "metadata": {
        "colab": {
          "base_uri": "https://localhost:8080/"
        },
        "id": "0idJJIwjV-pX",
        "outputId": "d032ee19-9c89-48d1-d2b3-56cb80fad8f4"
      },
      "source": [
        "# POS has these tags for different types of verbs\n",
        "# VB: verb, base form\n",
        "# VBD: verb, past tense\n",
        "# VBG: verb, present participle or gerund\n",
        "# VBN: verb, past participle\n",
        "# VBP: verb, present tense, not 3rd person singular\n",
        "# VBZ: verb, present tense, 3rd person singular\n",
        "\n",
        "verb_types = ['VB', 'VBD', 'VBG', 'VBN', 'VBP', 'VBZ']\n",
        "verbs = []\n",
        "\n",
        "for (word, tag) in pos_lk:\n",
        "  if tag in verb_types:\n",
        "    verbs.append(word)\n",
        "\n",
        "# Snippet of verbs in Luke-Acts\n",
        "print(verbs[0:10])"
      ],
      "execution_count": 34,
      "outputs": [
        {
          "output_type": "stream",
          "text": [
            "['fulfilled', 'passed', 'eyewitnesses', 'seemed', 'followed', 'beginning', 'know', 'taught', 'king', 'lived']\n"
          ],
          "name": "stdout"
        }
      ]
    },
    {
      "cell_type": "code",
      "metadata": {
        "colab": {
          "base_uri": "https://localhost:8080/",
          "height": 363
        },
        "id": "wEvumfZpYVL_",
        "outputId": "c3150709-db7b-4a9f-d1d8-8f56ee379d4f"
      },
      "source": [
        "select_verbs = (x for (x,y) in pos_lk if y in verb_types)\n",
        "\n",
        "freqVerbs = nltk.FreqDist(select_verbs)\n",
        "verbsDF = pd.DataFrame(freqVerbs.most_common(100),columns=['Word','Frequency'])\n",
        "\n",
        "display_side_by_side(verbsDF.head(10), verbsDF.tail(10) )\n",
        "\n"
      ],
      "execution_count": 36,
      "outputs": [
        {
          "output_type": "display_data",
          "data": {
            "text/html": [
              "<table style=\"display:inline\" border=\"1\" class=\"dataframe\">\n",
              "  <thead>\n",
              "    <tr style=\"text-align: right;\">\n",
              "      <th></th>\n",
              "      <th>Word</th>\n",
              "      <th>Frequency</th>\n",
              "    </tr>\n",
              "  </thead>\n",
              "  <tbody>\n",
              "    <tr>\n",
              "      <th>0</th>\n",
              "      <td>said</td>\n",
              "      <td>379</td>\n",
              "    </tr>\n",
              "    <tr>\n",
              "      <th>1</th>\n",
              "      <td>came</td>\n",
              "      <td>154</td>\n",
              "    </tr>\n",
              "    <tr>\n",
              "      <th>2</th>\n",
              "      <td>went</td>\n",
              "      <td>130</td>\n",
              "    </tr>\n",
              "    <tr>\n",
              "      <th>3</th>\n",
              "      <td>saying</td>\n",
              "      <td>91</td>\n",
              "    </tr>\n",
              "    <tr>\n",
              "      <th>4</th>\n",
              "      <td>began</td>\n",
              "      <td>80</td>\n",
              "    </tr>\n",
              "    <tr>\n",
              "      <th>5</th>\n",
              "      <td>come</td>\n",
              "      <td>76</td>\n",
              "    </tr>\n",
              "    <tr>\n",
              "      <th>6</th>\n",
              "      <td>go</td>\n",
              "      <td>74</td>\n",
              "    </tr>\n",
              "    <tr>\n",
              "      <th>7</th>\n",
              "      <td>called</td>\n",
              "      <td>63</td>\n",
              "    </tr>\n",
              "    <tr>\n",
              "      <th>8</th>\n",
              "      <td>say</td>\n",
              "      <td>62</td>\n",
              "    </tr>\n",
              "    <tr>\n",
              "      <th>9</th>\n",
              "      <td>sent</td>\n",
              "      <td>56</td>\n",
              "    </tr>\n",
              "  </tbody>\n",
              "</table style=\"display:inline\"><table style=\"display:inline\" border=\"1\" class=\"dataframe\">\n",
              "  <thead>\n",
              "    <tr style=\"text-align: right;\">\n",
              "      <th></th>\n",
              "      <th>Word</th>\n",
              "      <th>Frequency</th>\n",
              "    </tr>\n",
              "  </thead>\n",
              "  <tbody>\n",
              "    <tr>\n",
              "      <th>90</th>\n",
              "      <td>received</td>\n",
              "      <td>14</td>\n",
              "    </tr>\n",
              "    <tr>\n",
              "      <th>91</th>\n",
              "      <td>turned</td>\n",
              "      <td>14</td>\n",
              "    </tr>\n",
              "    <tr>\n",
              "      <th>92</th>\n",
              "      <td>died</td>\n",
              "      <td>14</td>\n",
              "    </tr>\n",
              "    <tr>\n",
              "      <th>93</th>\n",
              "      <td>gone</td>\n",
              "      <td>14</td>\n",
              "    </tr>\n",
              "    <tr>\n",
              "      <th>94</th>\n",
              "      <td>invited</td>\n",
              "      <td>14</td>\n",
              "    </tr>\n",
              "    <tr>\n",
              "      <th>95</th>\n",
              "      <td>decided</td>\n",
              "      <td>14</td>\n",
              "    </tr>\n",
              "    <tr>\n",
              "      <th>96</th>\n",
              "      <td>paul</td>\n",
              "      <td>14</td>\n",
              "    </tr>\n",
              "    <tr>\n",
              "      <th>97</th>\n",
              "      <td>become</td>\n",
              "      <td>13</td>\n",
              "    </tr>\n",
              "    <tr>\n",
              "      <th>98</th>\n",
              "      <td>sitting</td>\n",
              "      <td>13</td>\n",
              "    </tr>\n",
              "    <tr>\n",
              "      <th>99</th>\n",
              "      <td>started</td>\n",
              "      <td>13</td>\n",
              "    </tr>\n",
              "  </tbody>\n",
              "</table style=\"display:inline\">"
            ]
          },
          "metadata": {
            "tags": []
          }
        }
      ]
    },
    {
      "cell_type": "markdown",
      "metadata": {
        "id": "WKObK9_5fKqX"
      },
      "source": [
        "The next step would be to combine verbs by stems."
      ]
    }
  ]
}