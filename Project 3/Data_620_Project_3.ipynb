{
  "nbformat": 4,
  "nbformat_minor": 0,
  "metadata": {
    "colab": {
      "name": "Data 620 Project 3.ipynb",
      "provenance": [],
      "collapsed_sections": [],
      "authorship_tag": "ABX9TyPOK1W/moB4LKC+jjGigg+U",
      "include_colab_link": true
    },
    "kernelspec": {
      "name": "python3",
      "display_name": "Python 3"
    },
    "language_info": {
      "name": "python"
    }
  },
  "cells": [
    {
      "cell_type": "markdown",
      "metadata": {
        "id": "view-in-github",
        "colab_type": "text"
      },
      "source": [
        "<a href=\"https://colab.research.google.com/github/logicalschema/data620/blob/main/Project%203/Data_620_Project_3.ipynb\" target=\"_parent\"><img src=\"https://colab.research.google.com/assets/colab-badge.svg\" alt=\"Open In Colab\"/></a>"
      ]
    },
    {
      "cell_type": "markdown",
      "metadata": {
        "id": "J-ObSj14_i4l"
      },
      "source": [
        "# Data 620 Project 3\n",
        "\n",
        "[Github Link](https://github.com/logicalschema/data620/tree/main/Project%203/)\n",
        "\n",
        "[YouTube Video](https://youtu.be/HqvhHvftVs4)  \n",
        "\n",
        "<img src=https://github.com/logicalschema/data620/raw/main/Project%203/data/gender.jpg width=\"150\">\n",
        "\n",
        "## Assignment\n",
        "Using any of the three classifiers described in chapter 6 of Natural Language Processing with Python, and any features you can think of, build the best name gender classifier you can. Begin by splitting the Names Corpus into three subsets: 500 words for the test set, 500 words for the dev-test set, and the remaining 6900 words for the training set. Then, starting with the example name gender classifier, make incremental improvements. Use the dev-test set to check your progress. Once you are satisfied with your classifier, check its final performance on the test set. How does the performance on the test set compare to the performance on the dev-test set? Is this what you'd expect?\n",
        "\n",
        "Project is due 4/11.\n",
        "\n",
        "Source: *Natural Language Processing with Python*, exercise 6.10.2.\n"
      ]
    },
    {
      "cell_type": "markdown",
      "metadata": {
        "id": "HO-qQsQr_uCK"
      },
      "source": [
        "# Setup of Libraries and Some Functions"
      ]
    },
    {
      "cell_type": "code",
      "metadata": {
        "colab": {
          "base_uri": "https://localhost:8080/"
        },
        "id": "a_0Gc0uE_cdF",
        "outputId": "cca0f610-77f3-4f67-9172-2c7a0695ef46"
      },
      "source": [
        "# NLTK and the names corpus\n",
        "import nltk\n",
        "from nltk.corpus import names\n",
        "from nltk.classify import apply_features\n",
        "\n",
        "# For calling files from urls\n",
        "import urllib\n",
        "\n",
        "# Pandas dataframe\n",
        "import pandas as pd\n",
        "\n",
        "# Used for matrices\n",
        "import numpy as np\n",
        "\n",
        "# Visualization\n",
        "import matplotlib.pyplot as plt\n",
        "import seaborn as sns\n",
        "\n",
        "# Called for displaying html and for this project displaying dataframes side by side\n",
        "from IPython.display import display_html\n",
        "\n",
        "# Used for regular expressions \n",
        "import re\n",
        "\n",
        "# Used for splitting the data into three groups devtest, test, and training\n",
        "from sklearn.model_selection import train_test_split\n",
        "nltk.download('names')\n",
        "\n",
        "# gender_features is a function that returns the last letter of the string variable\n",
        "def gender_features(word):\n",
        "  return {'last_letter': word[-1]}\n",
        "\n",
        "# https://codereview.stackexchange.com/questions/224177/python-function-to-count-syllables-in-a-word\n",
        "# Function counts the number of syllables in a word\n",
        "def count_syllables(word):\n",
        "    return len(\n",
        "        re.findall('(?!e$)[aeiouy]+', word, re.I) +\n",
        "        re.findall('^[^aeiouy]*e$', word, re.I)\n",
        "    )\n",
        "\n",
        "# Function for displaying dataframes side by side\n",
        "def display_side_by_side(*args):\n",
        "    html_str=''\n",
        "    for df in args:\n",
        "        html_str+=df.to_html()\n",
        "    display_html(html_str.replace('table','table style=\"display:inline\"'),raw=True)\n",
        "\n",
        "# Variable to keep track of figures\n",
        "fig_no = 1"
      ],
      "execution_count": 153,
      "outputs": [
        {
          "output_type": "stream",
          "text": [
            "[nltk_data] Downloading package names to /root/nltk_data...\n",
            "[nltk_data]   Package names is already up-to-date!\n"
          ],
          "name": "stdout"
        }
      ]
    },
    {
      "cell_type": "markdown",
      "metadata": {
        "id": "SRqgLHRLjOne"
      },
      "source": [
        "# Data\n",
        "The data being used is from the `NLTK` corpus. Each name is classified with a gender. "
      ]
    },
    {
      "cell_type": "code",
      "metadata": {
        "colab": {
          "base_uri": "https://localhost:8080/"
        },
        "id": "VsXfcsf-iAm-",
        "outputId": "595cd27d-709b-45a3-ad32-02544ed853dd"
      },
      "source": [
        "nltk.download('names')\n",
        "names.fileids() "
      ],
      "execution_count": 154,
      "outputs": [
        {
          "output_type": "stream",
          "text": [
            "[nltk_data] Downloading package names to /root/nltk_data...\n",
            "[nltk_data]   Package names is already up-to-date!\n"
          ],
          "name": "stdout"
        },
        {
          "output_type": "execute_result",
          "data": {
            "text/plain": [
              "['female.txt', 'male.txt']"
            ]
          },
          "metadata": {
            "tags": []
          },
          "execution_count": 154
        }
      ]
    },
    {
      "cell_type": "code",
      "metadata": {
        "colab": {
          "base_uri": "https://localhost:8080/"
        },
        "id": "gwiT_AAMiEie",
        "outputId": "17f4c179-7a9e-4ab6-de2f-7a4919864a62"
      },
      "source": [
        "# Labeled names contains all of the data as tuples with male or female as the second field\n",
        "labeled_names = ([(name.lower(), 'male') for name in names.words('male.txt')] + [(name.lower(), 'female') for name in names.words('female.txt')])\n",
        "\n",
        "\n",
        "# Individual male and female variables and lowercase the name\n",
        "males = []\n",
        "females = []\n",
        "for name in names.words('male.txt'):\n",
        "  males.append(name.lower())\n",
        "\n",
        "for name in names.words('female.txt'):\n",
        "  females.append(name.lower())\n",
        "\n",
        "\n",
        "# Print snippets of each variable\n",
        "print(\"Here is a snippet of the labeled_names variable: \" + str(labeled_names[0:10]))\n",
        "print(\"Here is a snippet of female names variable: \" + str(females[0:10]))\n",
        "print(\"Here is a snippet of male names variable: \" + str(males[0:10]) + \"\\n\")\n",
        "\n",
        "# Additional Information about the data\n",
        "print(\"There are \" + str(len(labeled_names)) + \" total names.\")\n",
        "print(\"There are \" + str(len(females)) + \" female names.\")\n",
        "print(\"There are \" + str(len(males)) + \" male names.\")"
      ],
      "execution_count": 155,
      "outputs": [
        {
          "output_type": "stream",
          "text": [
            "Here is a snippet of the labeled_names variable: [('aamir', 'male'), ('aaron', 'male'), ('abbey', 'male'), ('abbie', 'male'), ('abbot', 'male'), ('abbott', 'male'), ('abby', 'male'), ('abdel', 'male'), ('abdul', 'male'), ('abdulkarim', 'male')]\n",
            "Here is a snippet of female names variable: ['abagael', 'abagail', 'abbe', 'abbey', 'abbi', 'abbie', 'abby', 'abigael', 'abigail', 'abigale']\n",
            "Here is a snippet of male names variable: ['aamir', 'aaron', 'abbey', 'abbie', 'abbot', 'abbott', 'abby', 'abdel', 'abdul', 'abdulkarim']\n",
            "\n",
            "There are 7944 total names.\n",
            "There are 5001 female names.\n",
            "There are 2943 male names.\n"
          ],
          "name": "stdout"
        }
      ]
    },
    {
      "cell_type": "markdown",
      "metadata": {
        "id": "oETt-KouWzzS"
      },
      "source": [
        "## Problems with Data: Unisex Names\n",
        "\n",
        "There was a problem that arose with the data. Some of the names are unisex names and classified as both male and female. I decided to remove these names from the data before training. The next steps build sets from the `males` and `females` variables, finds their intersection, and then removes them from the variables. Though this approach maybe controversial, I will reuse the unisex names at the end. "
      ]
    },
    {
      "cell_type": "code",
      "metadata": {
        "colab": {
          "base_uri": "https://localhost:8080/"
        },
        "id": "hYtQ7rTjXZsG",
        "outputId": "da907811-fdd1-43f6-f529-5757fb239d1c"
      },
      "source": [
        "# Convert the male and female lists to sets\n",
        "maleSet = set(males)\n",
        "femaleSet = set(females)\n",
        "\n",
        "# The intersection of the two sets are the unisex names\n",
        "unisexSet = maleSet.intersection(femaleSet) \n",
        "\n",
        "# Update the sets by removing the unisex names\n",
        "maleSet = maleSet.difference(unisexSet)\n",
        "femaleSet = femaleSet.difference(unisexSet)\n",
        "\n",
        "print(\"Snippet of unisex names: \" + str(list(unisexSet)[:10]))\n"
      ],
      "execution_count": 156,
      "outputs": [
        {
          "output_type": "stream",
          "text": [
            "Snippet of unisex names: ['van', 'page', 'ginger', 'deane', 'sibyl', 'frank', 'christie', 'heath', 'maurise', 'dennie']\n"
          ],
          "name": "stdout"
        }
      ]
    },
    {
      "cell_type": "markdown",
      "metadata": {
        "id": "UCTkj9IK7FiB"
      },
      "source": [
        "I recreate the variables and save the unisex names for a later use."
      ]
    },
    {
      "cell_type": "code",
      "metadata": {
        "colab": {
          "base_uri": "https://localhost:8080/"
        },
        "id": "7AD9b5H_ahCX",
        "outputId": "fab328af-3cca-4ff2-85bc-6d769af5e087"
      },
      "source": [
        "# Recreate the variables\n",
        "males = list(maleSet)\n",
        "females = list(femaleSet)\n",
        "unisex = list(unisexSet)\n",
        "\n",
        "for name in unisex:\n",
        "  # Remove all elements that match the male or female of the unisex name in labeled_names\n",
        "  labeled_names = list(filter(lambda element: element != (name, 'female'), labeled_names))\n",
        "  labeled_names = list(filter(lambda element: element != (name, 'male'), labeled_names))\n",
        "\n",
        "# Remove any duplicates in labeled_names\n",
        "tempSet = set(labeled_names)\n",
        "labeled_names = list(tempSet)\n",
        "\n",
        "# Print snippets of each variable\n",
        "print(\"Here is a snippet of the labeled_names variable: \" + str(labeled_names[0:10]))\n",
        "print(\"Here is a snippet of female names variable: \" + str(females[0:10]))\n",
        "print(\"Here is a snippet of male names variable: \" + str(males[0:10]) + \"\\n\")\n",
        "\n",
        "# Additional Information about the data\n",
        "print(\"There are \" + str(len(females)) + \" female names.\")\n",
        "print(\"There are \" + str(len(males)) + \" male names.\")\n",
        "print(\"There are \" + str(len(unisex)) + \" unisex names.\")\n",
        "print(\"There are \" + str(len(labeled_names)) + \" in labeled_names.\")"
      ],
      "execution_count": 157,
      "outputs": [
        {
          "output_type": "stream",
          "text": [
            "Here is a snippet of the labeled_names variable: [('charlott', 'female'), ('tove', 'female'), ('tersina', 'female'), ('malkah', 'female'), ('nickey', 'male'), ('jordanna', 'female'), ('cleva', 'female'), ('sarina', 'female'), ('alli', 'female'), ('selene', 'female')]\n",
            "Here is a snippet of female names variable: ['clementine', 'roch', 'aggie', 'dorit', 'lilia', 'jeri', 'fania', 'gray', 'elisabetta', 'idell']\n",
            "Here is a snippet of male names variable: ['sig', 'aleks', 'tomkin', 'georg', 'flipper', 'wilburn', 'burton', 'konrad', 'timothee', 'desmund']\n",
            "\n",
            "There are 4633 female names.\n",
            "There are 2578 male names.\n",
            "There are 365 unisex names.\n",
            "There are 7211 in labeled_names.\n"
          ],
          "name": "stdout"
        }
      ]
    },
    {
      "cell_type": "code",
      "metadata": {
        "colab": {
          "base_uri": "https://localhost:8080/",
          "height": 336
        },
        "id": "rFMlxCK-dWCf",
        "outputId": "ec890be5-a02d-44c7-b508-da396a19675f"
      },
      "source": [
        "categories = ['Female', 'Male', 'Unisex']\n",
        "counts = [len(females), len(males), len(unisex)]\n",
        "\n",
        "plt.figure(fig_no,figsize=(10,5)) \n",
        "plt.title('Bar Plot of Names By Category')\n",
        "plt.bar(categories, counts, color='dodgerblue', edgecolor='black')\n",
        "plt.savefig('Figure ' + str(fig_no) + '.png')\n",
        "fig_no +=1"
      ],
      "execution_count": 158,
      "outputs": [
        {
          "output_type": "display_data",
          "data": {
            "image/png": "[encoded data removed]",
            "text/plain": [
              "<Figure size 720x360 with 1 Axes>"
            ]
          },
          "metadata": {
            "tags": [],
            "needs_background": "light"
          }
        }
      ]
    },
    {
      "cell_type": "code",
      "metadata": {
        "colab": {
          "base_uri": "https://localhost:8080/"
        },
        "id": "deuboEC6qKoa",
        "outputId": "74a4b419-fd98-4060-f07b-7011be24c555"
      },
      "source": [
        "# Sample of labeled_names\n",
        "print(labeled_names[0:10])\n",
        "print(\"There are \" + str(len(labeled_names)) + \" names.\")"
      ],
      "execution_count": 159,
      "outputs": [
        {
          "output_type": "stream",
          "text": [
            "[('charlott', 'female'), ('tove', 'female'), ('tersina', 'female'), ('malkah', 'female'), ('nickey', 'male'), ('jordanna', 'female'), ('cleva', 'female'), ('sarina', 'female'), ('alli', 'female'), ('selene', 'female')]\n",
            "There are 7211 names.\n"
          ],
          "name": "stdout"
        }
      ]
    },
    {
      "cell_type": "markdown",
      "metadata": {
        "id": "5xhWYD5q6tIP"
      },
      "source": [
        "## Classifiers for the Data\n",
        "\n",
        "I found Anne Fredrickson's [Phonological Cues to Gender in Sex-Typed and Unisex Names](https://www.swarthmore.edu/sites/default/files/assets/documents/linguistics/2007_fredrickson_annie.pdf) online and saw the following table that provides gender cues for names. I was not able to calculate open and closed syllables, but I thought this was a good start to look at the data.\n",
        "\n",
        "<img src=https://github.com/logicalschema/data620/raw/main/Project%203/data/gendercues.png width=\"400\">"
      ]
    },
    {
      "cell_type": "code",
      "metadata": {
        "colab": {
          "base_uri": "https://localhost:8080/",
          "height": 424
        },
        "id": "cZZKkdD8xd7S",
        "outputId": "70eb7bec-dae4-42f8-b606-4b74b7da0dcf"
      },
      "source": [
        "# create dataframe using labeled_names\n",
        "df = pd.DataFrame(labeled_names, columns =['Name', 'Gender'])\n",
        "\n",
        "# Snippet of the df dataframe\n",
        "df.head(5)\n",
        "\n",
        "# Drop NA\n",
        "df.dropna()"
      ],
      "execution_count": 160,
      "outputs": [
        {
          "output_type": "execute_result",
          "data": {
            "text/html": [
              "<div>\n",
              "<style scoped>\n",
              "    .dataframe tbody tr th:only-of-type {\n",
              "        vertical-align: middle;\n",
              "    }\n",
              "\n",
              "    .dataframe tbody tr th {\n",
              "        vertical-align: top;\n",
              "    }\n",
              "\n",
              "    .dataframe thead th {\n",
              "        text-align: right;\n",
              "    }\n",
              "</style>\n",
              "<table border=\"1\" class=\"dataframe\">\n",
              "  <thead>\n",
              "    <tr style=\"text-align: right;\">\n",
              "      <th></th>\n",
              "      <th>Name</th>\n",
              "      <th>Gender</th>\n",
              "    </tr>\n",
              "  </thead>\n",
              "  <tbody>\n",
              "    <tr>\n",
              "      <th>0</th>\n",
              "      <td>charlott</td>\n",
              "      <td>female</td>\n",
              "    </tr>\n",
              "    <tr>\n",
              "      <th>1</th>\n",
              "      <td>tove</td>\n",
              "      <td>female</td>\n",
              "    </tr>\n",
              "    <tr>\n",
              "      <th>2</th>\n",
              "      <td>tersina</td>\n",
              "      <td>female</td>\n",
              "    </tr>\n",
              "    <tr>\n",
              "      <th>3</th>\n",
              "      <td>malkah</td>\n",
              "      <td>female</td>\n",
              "    </tr>\n",
              "    <tr>\n",
              "      <th>4</th>\n",
              "      <td>nickey</td>\n",
              "      <td>male</td>\n",
              "    </tr>\n",
              "    <tr>\n",
              "      <th>...</th>\n",
              "      <td>...</td>\n",
              "      <td>...</td>\n",
              "    </tr>\n",
              "    <tr>\n",
              "      <th>7206</th>\n",
              "      <td>gipsy</td>\n",
              "      <td>female</td>\n",
              "    </tr>\n",
              "    <tr>\n",
              "      <th>7207</th>\n",
              "      <td>britani</td>\n",
              "      <td>female</td>\n",
              "    </tr>\n",
              "    <tr>\n",
              "      <th>7208</th>\n",
              "      <td>ruthe</td>\n",
              "      <td>female</td>\n",
              "    </tr>\n",
              "    <tr>\n",
              "      <th>7209</th>\n",
              "      <td>hallie</td>\n",
              "      <td>female</td>\n",
              "    </tr>\n",
              "    <tr>\n",
              "      <th>7210</th>\n",
              "      <td>tobiah</td>\n",
              "      <td>male</td>\n",
              "    </tr>\n",
              "  </tbody>\n",
              "</table>\n",
              "<p>7211 rows × 2 columns</p>\n",
              "</div>"
            ],
            "text/plain": [
              "          Name  Gender\n",
              "0     charlott  female\n",
              "1         tove  female\n",
              "2      tersina  female\n",
              "3       malkah  female\n",
              "4       nickey    male\n",
              "...        ...     ...\n",
              "7206     gipsy  female\n",
              "7207   britani  female\n",
              "7208     ruthe  female\n",
              "7209    hallie  female\n",
              "7210    tobiah    male\n",
              "\n",
              "[7211 rows x 2 columns]"
            ]
          },
          "metadata": {
            "tags": []
          },
          "execution_count": 160
        }
      ]
    },
    {
      "cell_type": "markdown",
      "metadata": {
        "id": "mcICDT3oW_ej"
      },
      "source": [
        "# Splitting the DataFrame\n",
        "I split the data into three subsets: 500 for the test set, 500 for dev-test, and the remainder for the training set. I accomplish this by calling `train_test_split` two times."
      ]
    },
    {
      "cell_type": "code",
      "metadata": {
        "colab": {
          "base_uri": "https://localhost:8080/",
          "height": 206
        },
        "id": "TyN4moPYSGzE",
        "outputId": "0c33808a-9c0c-4d7b-b60e-b66b9dc28fa6"
      },
      "source": [
        "# Split the original data into two groups 1,000 for the test and the remainder for training\n",
        "# The 1,000 test set will then be split into dev-test and test groups\n",
        "train, testing = train_test_split(df, test_size=1000, random_state=4221, stratify=df[['Gender']])\n",
        "devtest, test = train_test_split(testing, test_size=500, random_state=4222, stratify=testing[['Gender']])\n",
        "\n",
        "display_side_by_side(train.head(5), devtest.head(5), test.head(5))"
      ],
      "execution_count": 161,
      "outputs": [
        {
          "output_type": "display_data",
          "data": {
            "text/html": [
              "<table style=\"display:inline\" border=\"1\" class=\"dataframe\">\n",
              "  <thead>\n",
              "    <tr style=\"text-align: right;\">\n",
              "      <th></th>\n",
              "      <th>Name</th>\n",
              "      <th>Gender</th>\n",
              "    </tr>\n",
              "  </thead>\n",
              "  <tbody>\n",
              "    <tr>\n",
              "      <th>6685</th>\n",
              "      <td>rina</td>\n",
              "      <td>female</td>\n",
              "    </tr>\n",
              "    <tr>\n",
              "      <th>2360</th>\n",
              "      <td>alexine</td>\n",
              "      <td>female</td>\n",
              "    </tr>\n",
              "    <tr>\n",
              "      <th>5154</th>\n",
              "      <td>janice</td>\n",
              "      <td>female</td>\n",
              "    </tr>\n",
              "    <tr>\n",
              "      <th>1848</th>\n",
              "      <td>misti</td>\n",
              "      <td>female</td>\n",
              "    </tr>\n",
              "    <tr>\n",
              "      <th>5504</th>\n",
              "      <td>tatiana</td>\n",
              "      <td>female</td>\n",
              "    </tr>\n",
              "  </tbody>\n",
              "</table style=\"display:inline\"><table style=\"display:inline\" border=\"1\" class=\"dataframe\">\n",
              "  <thead>\n",
              "    <tr style=\"text-align: right;\">\n",
              "      <th></th>\n",
              "      <th>Name</th>\n",
              "      <th>Gender</th>\n",
              "    </tr>\n",
              "  </thead>\n",
              "  <tbody>\n",
              "    <tr>\n",
              "      <th>1739</th>\n",
              "      <td>ardelia</td>\n",
              "      <td>female</td>\n",
              "    </tr>\n",
              "    <tr>\n",
              "      <th>5741</th>\n",
              "      <td>min</td>\n",
              "      <td>female</td>\n",
              "    </tr>\n",
              "    <tr>\n",
              "      <th>471</th>\n",
              "      <td>eveline</td>\n",
              "      <td>female</td>\n",
              "    </tr>\n",
              "    <tr>\n",
              "      <th>5567</th>\n",
              "      <td>kenna</td>\n",
              "      <td>female</td>\n",
              "    </tr>\n",
              "    <tr>\n",
              "      <th>5437</th>\n",
              "      <td>mirabella</td>\n",
              "      <td>female</td>\n",
              "    </tr>\n",
              "  </tbody>\n",
              "</table style=\"display:inline\"><table style=\"display:inline\" border=\"1\" class=\"dataframe\">\n",
              "  <thead>\n",
              "    <tr style=\"text-align: right;\">\n",
              "      <th></th>\n",
              "      <th>Name</th>\n",
              "      <th>Gender</th>\n",
              "    </tr>\n",
              "  </thead>\n",
              "  <tbody>\n",
              "    <tr>\n",
              "      <th>2476</th>\n",
              "      <td>rosabel</td>\n",
              "      <td>female</td>\n",
              "    </tr>\n",
              "    <tr>\n",
              "      <th>2736</th>\n",
              "      <td>elnar</td>\n",
              "      <td>male</td>\n",
              "    </tr>\n",
              "    <tr>\n",
              "      <th>6686</th>\n",
              "      <td>fraser</td>\n",
              "      <td>male</td>\n",
              "    </tr>\n",
              "    <tr>\n",
              "      <th>4076</th>\n",
              "      <td>cami</td>\n",
              "      <td>female</td>\n",
              "    </tr>\n",
              "    <tr>\n",
              "      <th>671</th>\n",
              "      <td>marley</td>\n",
              "      <td>female</td>\n",
              "    </tr>\n",
              "  </tbody>\n",
              "</table style=\"display:inline\">"
            ]
          },
          "metadata": {
            "tags": []
          }
        }
      ]
    },
    {
      "cell_type": "markdown",
      "metadata": {
        "id": "IJRvdDkMg1u-"
      },
      "source": [
        "# Training Data and Models"
      ]
    },
    {
      "cell_type": "markdown",
      "metadata": {
        "id": "4KDvisRDh6Bx"
      },
      "source": [
        "## Gender Percentage by Last Letter\n",
        "In the study listed above as well as the textbook, they noted the significance of the last letter. This section looks at some analysis of the last letter and gender."
      ]
    },
    {
      "cell_type": "code",
      "metadata": {
        "id": "PYfnp1eSgVZF"
      },
      "source": [
        "# Get list of unique last letters of each name\n",
        "letters = set([])\n",
        "for index, row in train.iterrows():\n",
        "  if row['Name'][-1].isalpha():\n",
        "    letters.add(row['Name'][-1])\n",
        "\n",
        "# Convert letters to a list and sort it\n",
        "letters = list(letters)\n",
        "letters.sort()\n",
        "\n",
        "# Create a quick dictionary to tally genders by last letter\n",
        "letterGenders = {}\n",
        "for letter in letters:\n",
        "  letterGenders[letter] = {'male': 0, 'female': 0}\n",
        "  subset = train[train['Name'].str[-1] == letter]\n",
        "  freq = subset.groupby('Gender').size().reset_index(name='counts')\n",
        "  if 'male' in freq.values:\n",
        "    letterGenders[letter]['male'] = freq.query('Gender == \"male\"')['counts'].iloc[0]\n",
        "  if 'female' in freq.values:\n",
        "    letterGenders[letter]['female'] = freq.query('Gender == \"female\"')['counts'].iloc[0]\n",
        "\n",
        "# Convert values to percentages\n",
        "for key in letterGenders.keys():\n",
        "  total = letterGenders[key]['male'] + letterGenders[key]['female']\n",
        "  letterGenders[key]['male'] = (letterGenders[key]['male'] / total) * 100\n",
        "  letterGenders[key]['female'] = (letterGenders[key]['female'] / total) * 100\n"
      ],
      "execution_count": 162,
      "outputs": []
    },
    {
      "cell_type": "markdown",
      "metadata": {
        "id": "AKU03a6bOQev"
      },
      "source": [
        "### Visualization of Gender by the Last Letter\n",
        "After compiling the data from the training set for the last letter and gender, the following is a visualization. There is a significance to the last letter being \"a\" and female classification for a name.\n"
      ]
    },
    {
      "cell_type": "code",
      "metadata": {
        "colab": {
          "base_uri": "https://localhost:8080/",
          "height": 336
        },
        "id": "eT83ZhFWFnaR",
        "outputId": "39e0d58d-553b-4765-9cb5-17271049df93"
      },
      "source": [
        "letterGendersDF = pd.DataFrame.from_dict(letterGenders, orient='index')\n",
        "letterGendersDF.head(5)\n",
        "letterGendersDF.plot.bar(stacked=True, rot=0, color={\"male\": \"royalblue\", \"female\": \"orangered\"}, figsize=(10,5))\n",
        "plt.title('Percentage of Gender By Last Letter')\n",
        "plt.savefig('Figure ' + str(fig_no) + '.png')\n",
        "fig_no +=1\n"
      ],
      "execution_count": 163,
      "outputs": [
        {
          "output_type": "display_data",
          "data": {
            "image/png": "[encoded data removed]",
            "text/plain": [
              "<Figure size 720x360 with 1 Axes>"
            ]
          },
          "metadata": {
            "tags": [],
            "needs_background": "light"
          }
        }
      ]
    },
    {
      "cell_type": "markdown",
      "metadata": {
        "id": "tWMk3CYaKEJK"
      },
      "source": [
        "### First Iteration: Using the Last Letter\n",
        "The 1st iteration of the model uses the last letter as was used in the textbook.\n",
        "\n",
        "*   Last Letter of Name\n",
        "\n",
        "\n"
      ]
    },
    {
      "cell_type": "code",
      "metadata": {
        "colab": {
          "base_uri": "https://localhost:8080/"
        },
        "id": "lERmws0vKKmu",
        "outputId": "ace1c919-9dcc-491c-fd6a-5d124de70524"
      },
      "source": [
        "# Modified Feature Set to use last letter\n",
        "trainsets = []\n",
        "for index, row in train.iterrows():\n",
        "  temp = gender_features(row['Name'])\n",
        "  x = ( temp, row['Gender'] )\n",
        "  trainsets.append(x)\n",
        "\n",
        "print(trainsets[:10])\n",
        "\n",
        "# The training set is used to train a new \"naive Bayes\" classifier.\n",
        "classifier = nltk.NaiveBayesClassifier.train(trainsets)\n",
        "\n",
        "# Top 10 Informative Features\n",
        "classifier.show_most_informative_features(10)\n"
      ],
      "execution_count": 164,
      "outputs": [
        {
          "output_type": "stream",
          "text": [
            "[({'last_letter': 'a'}, 'female'), ({'last_letter': 'e'}, 'female'), ({'last_letter': 'e'}, 'female'), ({'last_letter': 'i'}, 'female'), ({'last_letter': 'a'}, 'female'), ({'last_letter': 'e'}, 'female'), ({'last_letter': 'r'}, 'male'), ({'last_letter': 'n'}, 'female'), ({'last_letter': 'a'}, 'female'), ({'last_letter': 'e'}, 'female')]\n",
            "Most Informative Features\n",
            "             last_letter = 'a'            female : male   =     68.0 : 1.0\n",
            "             last_letter = 'f'              male : female =     28.1 : 1.0\n",
            "             last_letter = 'p'              male : female =     18.5 : 1.0\n",
            "             last_letter = 'm'              male : female =     15.3 : 1.0\n",
            "             last_letter = 'd'              male : female =     11.9 : 1.0\n",
            "             last_letter = 'v'              male : female =     11.1 : 1.0\n",
            "             last_letter = 'o'              male : female =     10.3 : 1.0\n",
            "             last_letter = 'w'              male : female =      7.4 : 1.0\n",
            "             last_letter = 'r'              male : female =      6.9 : 1.0\n",
            "             last_letter = 'z'              male : female =      5.9 : 1.0\n"
          ],
          "name": "stdout"
        }
      ]
    },
    {
      "cell_type": "code",
      "metadata": {
        "id": "KCxdltM5Mg7f"
      },
      "source": [
        "# Run the classifier with the dev_test set\n",
        "devtestsets = []\n",
        "for index, row in devtest.iterrows():\n",
        "  temp = gender_features(row['Name'])\n",
        "  x = ( temp, row['Gender'] )\n",
        "  devtestsets.append(x)"
      ],
      "execution_count": 165,
      "outputs": []
    },
    {
      "cell_type": "markdown",
      "metadata": {
        "id": "OoRzKQGUM003"
      },
      "source": [
        "We get the following for the accuracy for the `devtest` set. We will continue to refine the classifiers."
      ]
    },
    {
      "cell_type": "code",
      "metadata": {
        "colab": {
          "base_uri": "https://localhost:8080/"
        },
        "id": "dspUUavPMxjA",
        "outputId": "e69a8453-c46e-4ce7-cffb-d046528448d4"
      },
      "source": [
        "# Print the accuracy for the devtest set\n",
        "print(nltk.classify.accuracy(classifier, devtestsets))"
      ],
      "execution_count": 166,
      "outputs": [
        {
          "output_type": "stream",
          "text": [
            "0.788\n"
          ],
          "name": "stdout"
        }
      ]
    },
    {
      "cell_type": "markdown",
      "metadata": {
        "id": "eWyVPY-8u6df"
      },
      "source": [
        "## Female Gender Percentage by the Last Two Letters\n",
        "Let's take a look at the feature of grabbing the last two letters of the first name. We will start by constructing a `Numpy` matrix that is initialized with zeroes and by grabbing a set of unique pairs of the last two letters from the training set."
      ]
    },
    {
      "cell_type": "code",
      "metadata": {
        "id": "cjjhX3kXufFS",
        "colab": {
          "base_uri": "https://localhost:8080/"
        },
        "outputId": "08ed5d3f-e68e-41bf-fee5-92a857d3439d"
      },
      "source": [
        "# Create list of letters\n",
        "letters = [chr(x) for x in range(ord('a'), ord('z') + 1)]\n",
        "\n",
        "# Create a dictionary for mapping\n",
        "lookup_letters = {}\n",
        "index = 0\n",
        "for letter in letters:\n",
        "  lookup_letters[letter] = index\n",
        "  index += 1\n",
        "\n",
        "# Create a numpy matrix 0 to 25 (a-z)\n",
        "index = len(letters)\n",
        "matrix = np.zeros(shape=(index, index))\n",
        "\n",
        "\n",
        "# Get list of the unique last two letters of each name\n",
        "strings = set([])\n",
        "for index, row in train.iterrows():\n",
        "  temp = \"\"\n",
        "  if row['Name'][-2].isalpha():\n",
        "    temp = temp + row['Name'][-2]\n",
        "  if row['Name'][-1].isalpha():\n",
        "    temp = temp + row['Name'][-1]\n",
        "  if len(temp) == 2:\n",
        "    strings.add(temp)\n",
        "\n",
        "\n",
        "strings = list(strings)\n",
        "strings.sort()\n",
        "\n",
        "#Snippet of last two letters\n",
        "print(strings[:10])\n",
        "\n",
        "# Length of the two letter strings\n",
        "print(len(strings))\n"
      ],
      "execution_count": 167,
      "outputs": [
        {
          "output_type": "stream",
          "text": [
            "['ab', 'ac', 'ad', 'ae', 'af', 'ag', 'ah', 'ai', 'aj', 'ak']\n",
            "260\n"
          ],
          "name": "stdout"
        }
      ]
    },
    {
      "cell_type": "markdown",
      "metadata": {
        "id": "kd51YB56NPCf"
      },
      "source": [
        "Next, I will fill the matrix with the probabilities of females with regards to the letter pair groupings. The ratios will be used to construct a heatmap with the matrix."
      ]
    },
    {
      "cell_type": "code",
      "metadata": {
        "id": "c2tw8eL-8Bzh"
      },
      "source": [
        "# Probability of women by two letters dictionary\n",
        "probFemaleTwoLetters = {}\n",
        "temp_m = 0\n",
        "temp_f = 0\n",
        "\n",
        "# Compile probabilities: females/total for the group\n",
        "for string in strings:\n",
        "  probFemaleTwoLetters[string] = 0\n",
        "  subset = train[train['Name'].str[-2:] == string]\n",
        "  freq = subset.groupby('Gender').size().reset_index(name='counts')\n",
        "\n",
        "  if 'male' in freq.values:\n",
        "    temp_m = freq.query('Gender == \"male\"')['counts'].iloc[0]\n",
        "  if 'female' in freq.values:\n",
        "    temp_f = freq.query('Gender == \"female\"')['counts'].iloc[0]\n",
        "  \n",
        "  probFemaleTwoLetters[string] = temp_f / (temp_m + temp_f)\n",
        "\n",
        "# Fill the matrix with the probabilities for females of the two letters\n",
        "for string in strings:\n",
        "  x = lookup_letters[string[0]]\n",
        "  y = lookup_letters[string[1]]\n",
        "  matrix[x][y] = probFemaleTwoLetters[string]"
      ],
      "execution_count": 168,
      "outputs": []
    },
    {
      "cell_type": "markdown",
      "metadata": {
        "id": "Rcz-vk4ZOEu_"
      },
      "source": [
        "### Visualization of the Female Probabilities by the Last Two Letters\n",
        "After compiling data using the training set, the following is a visualization of the probability of a female classification for a name given the last two letters. The x-axis denotes the 1st letter and the y-axis denotes the second letter. Because of the high probabilities displayed, the last two letters looks like a good feature to add."
      ]
    },
    {
      "cell_type": "code",
      "metadata": {
        "colab": {
          "base_uri": "https://localhost:8080/",
          "height": 621
        },
        "id": "X-MAdcSrKakn",
        "outputId": "acb6a203-c9ad-4038-8e27-a13fa4e09332"
      },
      "source": [
        "x_axis_labels = letters\n",
        "y_axis_labels = letters\n",
        "fig, ax = plt.subplots(figsize=(15,10))\n",
        "ax = sns.heatmap(matrix, xticklabels=x_axis_labels, yticklabels=y_axis_labels, vmin=0, vmax=1, cmap='Reds')\n",
        "ax.invert_yaxis()\n",
        "ax.set(xlabel='1st Letter', ylabel='2nd Letter')\n",
        "plt.title('Probability of Female by Last Two Letters')\n",
        "plt.savefig('Figure ' + str(fig_no) + '.png')\n",
        "fig_no +=1\n"
      ],
      "execution_count": 169,
      "outputs": [
        {
          "output_type": "display_data",
          "data": {
            "image/png": "[encoded data removed]",
            "text/plain": [
              "<Figure size 1080x720 with 2 Axes>"
            ]
          },
          "metadata": {
            "tags": [],
            "needs_background": "light"
          }
        }
      ]
    },
    {
      "cell_type": "markdown",
      "metadata": {
        "id": "J-W8VCvrsFKU"
      },
      "source": [
        "### Second Iteration: Last Letter and Last Two Letters\n",
        "Let's construct a new model using the features: \n",
        "\n",
        "*   Last Letter of the Name\n",
        "*   Last Two Letters of the Name\n",
        "\n",
        "\n"
      ]
    },
    {
      "cell_type": "code",
      "metadata": {
        "colab": {
          "base_uri": "https://localhost:8080/"
        },
        "id": "t_KzR1tmbxmh",
        "outputId": "d36eec6b-d994-423c-b8b8-5f50e3dd5f70"
      },
      "source": [
        "# Modified Feature Set to use both the last letter and the last two letters\n",
        "trainsets = []\n",
        "for index, row in train.iterrows():\n",
        "  temp = gender_features(row['Name'])\n",
        "  temp['last_twoletters'] = row['Name'][-2:]\n",
        "  x = ( temp, row['Gender'] )\n",
        "  trainsets.append(x)\n",
        "\n",
        "print(trainsets[:10])\n",
        "\n",
        "# The training set is used to train a new \"naive Bayes\" classifier.\n",
        "classifier = nltk.NaiveBayesClassifier.train(trainsets)\n",
        "\n",
        "# Top 10 Informative Features\n",
        "classifier.show_most_informative_features(10)\n"
      ],
      "execution_count": 170,
      "outputs": [
        {
          "output_type": "stream",
          "text": [
            "[({'last_letter': 'a', 'last_twoletters': 'na'}, 'female'), ({'last_letter': 'e', 'last_twoletters': 'ne'}, 'female'), ({'last_letter': 'e', 'last_twoletters': 'ce'}, 'female'), ({'last_letter': 'i', 'last_twoletters': 'ti'}, 'female'), ({'last_letter': 'a', 'last_twoletters': 'na'}, 'female'), ({'last_letter': 'e', 'last_twoletters': 'te'}, 'female'), ({'last_letter': 'r', 'last_twoletters': 'rr'}, 'male'), ({'last_letter': 'n', 'last_twoletters': 'yn'}, 'female'), ({'last_letter': 'a', 'last_twoletters': 'ha'}, 'female'), ({'last_letter': 'e', 'last_twoletters': 'se'}, 'female')]\n",
            "Most Informative Features\n",
            "         last_twoletters = 'na'           female : male   =    142.8 : 1.0\n",
            "         last_twoletters = 'ia'           female : male   =     79.3 : 1.0\n",
            "         last_twoletters = 'ta'           female : male   =     68.2 : 1.0\n",
            "             last_letter = 'a'            female : male   =     68.0 : 1.0\n",
            "         last_twoletters = 'la'           female : male   =     67.5 : 1.0\n",
            "         last_twoletters = 'ra'           female : male   =     50.8 : 1.0\n",
            "         last_twoletters = 'us'             male : female =     39.6 : 1.0\n",
            "         last_twoletters = 'rd'             male : female =     30.3 : 1.0\n",
            "         last_twoletters = 'rt'             male : female =     29.1 : 1.0\n",
            "             last_letter = 'f'              male : female =     28.1 : 1.0\n"
          ],
          "name": "stdout"
        }
      ]
    },
    {
      "cell_type": "markdown",
      "metadata": {
        "id": "r6lC81FLRkxo"
      },
      "source": [
        "Adding the 2nd feature for the last two letters, yields the following accuracy for the devtest set."
      ]
    },
    {
      "cell_type": "code",
      "metadata": {
        "colab": {
          "base_uri": "https://localhost:8080/"
        },
        "id": "d6qcpixBoBml",
        "outputId": "9b36eaf4-7685-42af-b38b-2720891e3e79"
      },
      "source": [
        "# Run the classifier with the dev_test set\n",
        "devtestsets = []\n",
        "for index, row in devtest.iterrows():\n",
        "  temp = gender_features(row['Name'])\n",
        "  temp['last_twoletters'] = row['Name'][-2:]\n",
        "  x = ( temp, row['Gender'] )\n",
        "  devtestsets.append(x)\n",
        "\n",
        "# Print the accuracy for the devtest set\n",
        "print(nltk.classify.accuracy(classifier, devtestsets))"
      ],
      "execution_count": 171,
      "outputs": [
        {
          "output_type": "stream",
          "text": [
            "0.828\n"
          ],
          "name": "stdout"
        }
      ]
    },
    {
      "cell_type": "markdown",
      "metadata": {
        "id": "otC6BxsHR4EQ"
      },
      "source": [
        "## Gender Percentage by Syllables\n",
        "Next, let's look at the ratios of male and female names by the number of syllables. Earlier, I defined a function called `count_syllables` which counts the number of syllables in the word. This calls to mind Fredrickson's paper. At this time, I am unable to count open and closed syllables. "
      ]
    },
    {
      "cell_type": "code",
      "metadata": {
        "colab": {
          "base_uri": "https://localhost:8080/"
        },
        "id": "_wresRmBSeGv",
        "outputId": "349c4c77-eeea-4890-b7a8-906bbd2e0ce9"
      },
      "source": [
        "# Initial variable to keep track of syllables in our training set\n",
        "syllables = {}\n",
        "\n",
        "# Obtain the unique syllable counts for the names in the training set\n",
        "for index, row in train.iterrows():\n",
        "  syllableCount = count_syllables(row['Name'])\n",
        "\n",
        "  if syllableCount in syllables:\n",
        "    if row['Gender'] == 'male':\n",
        "      syllables[syllableCount]['male'] = syllables[syllableCount]['male'] + 1\n",
        "    else:\n",
        "      syllables[syllableCount]['female'] = syllables[syllableCount]['female'] + 1\n",
        "  else:\n",
        "    syllables[syllableCount] = {'male': 0, 'female': 0}\n",
        "    if row['Gender'] == 'male':\n",
        "      syllables[syllableCount]['male'] = syllables[syllableCount]['male'] + 1\n",
        "    else:\n",
        "      syllables[syllableCount]['female'] = syllables[syllableCount]['female'] + 1\n",
        "\n",
        "# Convert counts to percentages\n",
        "for i in sorted(syllables):\n",
        "  m = syllables[i]['male']\n",
        "  f = syllables[i]['female']\n",
        "  total = m + f\n",
        "  syllables[i]['male'] = (m / total) * 100\n",
        "  syllables[i]['female'] = (f / total) * 100\n",
        "\n",
        "# View of the syllable and gender counts\n",
        "for i in sorted(syllables):\n",
        "  print(str(i) + \": \" + str(syllables[i]))\n"
      ],
      "execution_count": 172,
      "outputs": [
        {
          "output_type": "stream",
          "text": [
            "1: {'male': 59.02255639097744, 'female': 40.97744360902256}\n",
            "2: {'male': 37.62748255501879, 'female': 62.37251744498121}\n",
            "3: {'male': 21.41427618412275, 'female': 78.58572381587724}\n",
            "4: {'male': 14.3646408839779, 'female': 85.6353591160221}\n",
            "5: {'male': 0.0, 'female': 100.0}\n",
            "6: {'male': 0.0, 'female': 100.0}\n"
          ],
          "name": "stdout"
        }
      ]
    },
    {
      "cell_type": "markdown",
      "metadata": {
        "id": "TA_J0TozW-Lx"
      },
      "source": [
        "### Visualization Syllable and Gender Counts\n"
      ]
    },
    {
      "cell_type": "code",
      "metadata": {
        "colab": {
          "base_uri": "https://localhost:8080/",
          "height": 336
        },
        "id": "0faBF2QbXDu4",
        "outputId": "4be26994-b0a6-4fa7-f9f1-413bd8764bbe"
      },
      "source": [
        "syllablesDF = pd.DataFrame.from_dict(syllables, orient='index')\n",
        "syllablesDF = syllablesDF.sort_index()\n",
        "syllablesDF.plot.bar(stacked=True, rot=0, color={\"male\": \"royalblue\", \"female\": \"orangered\"}, figsize=(10,5))\n",
        "plt.title('Percentage of Gender by Number of Syllables')\n",
        "plt.savefig('Figure ' + str(fig_no) + '.png')\n",
        "fig_no +=1"
      ],
      "execution_count": 173,
      "outputs": [
        {
          "output_type": "display_data",
          "data": {
            "image/png": "[encoded data removed]",
            "text/plain": [
              "<Figure size 720x360 with 1 Axes>"
            ]
          },
          "metadata": {
            "tags": [],
            "needs_background": "light"
          }
        }
      ]
    },
    {
      "cell_type": "markdown",
      "metadata": {
        "id": "wo4HGnX9ZBCS"
      },
      "source": [
        "### Third Iteration of Model\n",
        "Let's construct a new model using the features: \n",
        "\n",
        "*   Last Letter of the Name\n",
        "*   Last Two Letters of the Name\n",
        "*   Number of Syllables in the Name"
      ]
    },
    {
      "cell_type": "code",
      "metadata": {
        "colab": {
          "base_uri": "https://localhost:8080/"
        },
        "id": "qYFGtP7yZIRB",
        "outputId": "d15a16e4-32fa-4648-bba4-507633073228"
      },
      "source": [
        "# Modified Feature Set to use last letter, last two letters, and the number of syllables\n",
        "trainsets = []\n",
        "for index, row in train.iterrows():\n",
        "  temp = gender_features(row['Name'])\n",
        "  temp['last_twoletters'] = row['Name'][-2:]\n",
        "  temp['noofsyllables'] = count_syllables(row['Name'])\n",
        "  \n",
        "  x = ( temp, row['Gender'] )\n",
        "  trainsets.append(x)\n",
        "\n",
        "# Snippet of the training set\n",
        "print(trainsets[:10])\n",
        "\n",
        "# The training set is used to train a new \"naive Bayes\" classifier.\n",
        "classifier = nltk.NaiveBayesClassifier.train(trainsets)\n",
        "\n",
        "# Top 10 Informative Features\n",
        "classifier.show_most_informative_features(10)"
      ],
      "execution_count": 174,
      "outputs": [
        {
          "output_type": "stream",
          "text": [
            "[({'last_letter': 'a', 'last_twoletters': 'na', 'noofsyllables': 2}, 'female'), ({'last_letter': 'e', 'last_twoletters': 'ne', 'noofsyllables': 3}, 'female'), ({'last_letter': 'e', 'last_twoletters': 'ce', 'noofsyllables': 2}, 'female'), ({'last_letter': 'i', 'last_twoletters': 'ti', 'noofsyllables': 2}, 'female'), ({'last_letter': 'a', 'last_twoletters': 'na', 'noofsyllables': 3}, 'female'), ({'last_letter': 'e', 'last_twoletters': 'te', 'noofsyllables': 2}, 'female'), ({'last_letter': 'r', 'last_twoletters': 'rr', 'noofsyllables': 1}, 'male'), ({'last_letter': 'n', 'last_twoletters': 'yn', 'noofsyllables': 3}, 'female'), ({'last_letter': 'a', 'last_twoletters': 'ha', 'noofsyllables': 3}, 'female'), ({'last_letter': 'e', 'last_twoletters': 'se', 'noofsyllables': 3}, 'female')]\n",
            "Most Informative Features\n",
            "         last_twoletters = 'na'           female : male   =    142.8 : 1.0\n",
            "         last_twoletters = 'ia'           female : male   =     79.3 : 1.0\n",
            "         last_twoletters = 'ta'           female : male   =     68.2 : 1.0\n",
            "             last_letter = 'a'            female : male   =     68.0 : 1.0\n",
            "         last_twoletters = 'la'           female : male   =     67.5 : 1.0\n",
            "         last_twoletters = 'ra'           female : male   =     50.8 : 1.0\n",
            "         last_twoletters = 'us'             male : female =     39.6 : 1.0\n",
            "         last_twoletters = 'rd'             male : female =     30.3 : 1.0\n",
            "         last_twoletters = 'rt'             male : female =     29.1 : 1.0\n",
            "             last_letter = 'f'              male : female =     28.1 : 1.0\n"
          ],
          "name": "stdout"
        }
      ]
    },
    {
      "cell_type": "code",
      "metadata": {
        "colab": {
          "base_uri": "https://localhost:8080/"
        },
        "id": "zYvzWEH2mPjU",
        "outputId": "d71930e8-0b4c-4953-a970-c09b4b44e08e"
      },
      "source": [
        "# Run the classifier with the dev_test set\n",
        "devtestsets = []\n",
        "for index, row in devtest.iterrows():\n",
        "  temp = gender_features(row['Name'])\n",
        "  temp['last_twoletters'] = row['Name'][-2:]\n",
        "  temp['noofsyllables'] = count_syllables(row['Name'])\n",
        "  x = ( temp, row['Gender'] )\n",
        "  devtestsets.append(x)\n",
        "\n",
        "# Print the accuracy for the devtest set\n",
        "print(nltk.classify.accuracy(classifier, devtestsets))"
      ],
      "execution_count": 175,
      "outputs": [
        {
          "output_type": "stream",
          "text": [
            "0.838\n"
          ],
          "name": "stdout"
        }
      ]
    },
    {
      "cell_type": "markdown",
      "metadata": {
        "id": "yswoC2MR_-L6"
      },
      "source": [
        "## Gender Percentage by First Letter\n",
        "Let's further train the model by examining if the first letter has any observable phenomena for gender classification."
      ]
    },
    {
      "cell_type": "code",
      "metadata": {
        "id": "83bAjUHUAJpu"
      },
      "source": [
        "# Get list of unique last letters of each name\n",
        "letters = set([])\n",
        "for index, row in train.iterrows():\n",
        "  if row['Name'][0].isalpha():\n",
        "    letters.add(row['Name'][0])\n",
        "\n",
        "# Convert letters to a list and sort it\n",
        "letters = list(letters)\n",
        "letters.sort()\n",
        "\n",
        "# Create a quick dictionary to tally genders by last letter\n",
        "firstletterGenders = {}\n",
        "for letter in letters:\n",
        "  firstletterGenders[letter] = {'male': 0, 'female': 0}\n",
        "  subset = train[train['Name'].str[0] == letter]\n",
        "  freq = subset.groupby('Gender').size().reset_index(name='counts')\n",
        "  if 'male' in freq.values:\n",
        "    firstletterGenders[letter]['male'] = freq.query('Gender == \"male\"')['counts'].iloc[0]\n",
        "  if 'female' in freq.values:\n",
        "    firstletterGenders[letter]['female'] = freq.query('Gender == \"female\"')['counts'].iloc[0]\n",
        "\n",
        "# Convert values to percentages\n",
        "for key in firstletterGenders.keys():\n",
        "  total = firstletterGenders[key]['male'] + firstletterGenders[key]['female']\n",
        "  firstletterGenders[key]['male'] = (firstletterGenders[key]['male'] / total) * 100\n",
        "  firstletterGenders[key]['female'] = (firstletterGenders[key]['female'] / total) * 100\n"
      ],
      "execution_count": 176,
      "outputs": []
    },
    {
      "cell_type": "markdown",
      "metadata": {
        "id": "lFYcWKtnBQQu"
      },
      "source": [
        "### Visualization of First Letter by Gender"
      ]
    },
    {
      "cell_type": "code",
      "metadata": {
        "colab": {
          "base_uri": "https://localhost:8080/",
          "height": 336
        },
        "id": "oLEJO0LyBS8G",
        "outputId": "5c7aff86-cd9a-4576-b6b5-2558127dba05"
      },
      "source": [
        "firstletterGendersDF = pd.DataFrame.from_dict(firstletterGenders, orient='index')\n",
        "firstletterGendersDF.plot.bar(stacked=True, rot=0, color={\"male\": \"royalblue\", \"female\": \"orangered\"}, figsize=(10,5))\n",
        "plt.title('Percentage of Gender By First Letter')\n",
        "plt.savefig('Figure ' + str(fig_no) + '.png')\n",
        "fig_no +=1"
      ],
      "execution_count": 177,
      "outputs": [
        {
          "output_type": "display_data",
          "data": {
            "image/png": "[encoded data removed]",
            "text/plain": [
              "<Figure size 720x360 with 1 Axes>"
            ]
          },
          "metadata": {
            "tags": [],
            "needs_background": "light"
          }
        }
      ]
    },
    {
      "cell_type": "markdown",
      "metadata": {
        "id": "7ebZo9yfBpPH"
      },
      "source": [
        "### Fourth Iteration of Model\n",
        "Let's construct a new model using the features: \n",
        "\n",
        "*   Last Letter of the Name\n",
        "*   Last Two Letters of the Name\n",
        "*   Number of Syllables in the Name\n",
        "*   First Letter of the Name"
      ]
    },
    {
      "cell_type": "code",
      "metadata": {
        "colab": {
          "base_uri": "https://localhost:8080/"
        },
        "id": "Dwlyx2YmB1gg",
        "outputId": "1a2a3e4e-b55b-48fa-ea1c-1ccbce4a93e3"
      },
      "source": [
        "# Modified Feature Set to use last letter, last two letters, and the number of syllables\n",
        "trainsets = []\n",
        "for index, row in train.iterrows():\n",
        "  temp = gender_features(row['Name'])\n",
        "  temp['last_twoletters'] = row['Name'][-2:]\n",
        "  temp['noofsyllables'] = count_syllables(row['Name'])\n",
        "  temp['first_letter'] = row['Name'][0]\n",
        "\n",
        "  x = ( temp, row['Gender'] )\n",
        "  trainsets.append(x)\n",
        "\n",
        "# Snippet of the training set\n",
        "print(trainsets[:10])\n",
        "\n",
        "# The training set is used to train a new \"naive Bayes\" classifier.\n",
        "classifier = nltk.NaiveBayesClassifier.train(trainsets)\n",
        "\n",
        "# Top 10 Informative Features\n",
        "classifier.show_most_informative_features(10)"
      ],
      "execution_count": 178,
      "outputs": [
        {
          "output_type": "stream",
          "text": [
            "[({'last_letter': 'a', 'last_twoletters': 'na', 'noofsyllables': 2, 'first_letter': 'r'}, 'female'), ({'last_letter': 'e', 'last_twoletters': 'ne', 'noofsyllables': 3, 'first_letter': 'a'}, 'female'), ({'last_letter': 'e', 'last_twoletters': 'ce', 'noofsyllables': 2, 'first_letter': 'j'}, 'female'), ({'last_letter': 'i', 'last_twoletters': 'ti', 'noofsyllables': 2, 'first_letter': 'm'}, 'female'), ({'last_letter': 'a', 'last_twoletters': 'na', 'noofsyllables': 3, 'first_letter': 't'}, 'female'), ({'last_letter': 'e', 'last_twoletters': 'te', 'noofsyllables': 2, 'first_letter': 'b'}, 'female'), ({'last_letter': 'r', 'last_twoletters': 'rr', 'noofsyllables': 1, 'first_letter': 'b'}, 'male'), ({'last_letter': 'n', 'last_twoletters': 'yn', 'noofsyllables': 3, 'first_letter': 'r'}, 'female'), ({'last_letter': 'a', 'last_twoletters': 'ha', 'noofsyllables': 3, 'first_letter': 'j'}, 'female'), ({'last_letter': 'e', 'last_twoletters': 'se', 'noofsyllables': 3, 'first_letter': 'a'}, 'female')]\n",
            "Most Informative Features\n",
            "         last_twoletters = 'na'           female : male   =    142.8 : 1.0\n",
            "         last_twoletters = 'ia'           female : male   =     79.3 : 1.0\n",
            "         last_twoletters = 'ta'           female : male   =     68.2 : 1.0\n",
            "             last_letter = 'a'            female : male   =     68.0 : 1.0\n",
            "         last_twoletters = 'la'           female : male   =     67.5 : 1.0\n",
            "         last_twoletters = 'ra'           female : male   =     50.8 : 1.0\n",
            "         last_twoletters = 'us'             male : female =     39.6 : 1.0\n",
            "         last_twoletters = 'rd'             male : female =     30.3 : 1.0\n",
            "         last_twoletters = 'rt'             male : female =     29.1 : 1.0\n",
            "             last_letter = 'f'              male : female =     28.1 : 1.0\n"
          ],
          "name": "stdout"
        }
      ]
    },
    {
      "cell_type": "code",
      "metadata": {
        "colab": {
          "base_uri": "https://localhost:8080/"
        },
        "id": "NaCKDm0kCFxn",
        "outputId": "a55f6575-74c7-4bed-d810-939f3ef68314"
      },
      "source": [
        "# Run the classifier with the dev_test set\n",
        "devtestsets = []\n",
        "for index, row in devtest.iterrows():\n",
        "  temp = gender_features(row['Name'])\n",
        "  temp['last_twoletters'] = row['Name'][-2:]\n",
        "  temp['noofsyllables'] = count_syllables(row['Name'])\n",
        "  temp['first_letter'] = row['Name'][0]\n",
        "  x = ( temp, row['Gender'] )\n",
        "  devtestsets.append(x)\n",
        "\n",
        "# Print the accuracy for the devtest set\n",
        "print(nltk.classify.accuracy(classifier, devtestsets))"
      ],
      "execution_count": 179,
      "outputs": [
        {
          "output_type": "stream",
          "text": [
            "0.848\n"
          ],
          "name": "stdout"
        }
      ]
    },
    {
      "cell_type": "markdown",
      "metadata": {
        "id": "E73XSWdXHKwh"
      },
      "source": [
        "## Sharp and Round Consonants in a Name\n",
        "\n",
        "In the article [*What's in a Name? Sound Symbolism and Gender in First Names*](https://www.ncbi.nlm.nih.gov/pmc/articles/PMC4446333/) by David Sidhu and Penny Pexman, they studied gender and looked at sharp and round sounding phonemes (units of sound) in different names:\n",
        "\n",
        "> Drawing on previous literature... we considered the consonants /b/, /l/, /m/ and /n/ to be round-sounding, and the consonants /k/, /p/ and /t/ to be sharp-sounding; in addition the vowels /u/, /o/ and /ɒ/ were considered round-sounding while the vowels /i/, /e/, /ɛ/ and /ʌ/ were considered sharp-sounding.\n",
        "\n",
        "I made a table to translate the notation to [ARPAbet](https://en.wikipedia.org/wiki/ARPABET) notation.\n",
        "\n",
        "**Round Sounding Consonants**  \n",
        "\n",
        "|Article|ARPAbet|\n",
        "|------|------|\n",
        "|/l/  |L  |\n",
        "|/m/  |M  |\n",
        "|/n/  |N  |\n",
        "\n",
        "\n",
        "**Sharp Sounding Consonants**  \n",
        "\n",
        "|Article|ARPAbet|\n",
        "|------|------|\n",
        "|/k/  |K  |\n",
        "|/p/  |P  |\n",
        "|/t/  |T  |\n",
        "\n",
        "**The ARPAbet**  \n",
        "\n",
        "<img src=https://github.com/logicalschema/data620/raw/main/Project%203/data/phonemes.png width=\"150\">\n",
        "\n",
        "\n",
        "\n",
        "With the translation, I took the dataset of all the names and fed them to the [CMU Lexicon Tool](http://www.speech.cs.cmu.edu/tools/lextool.html). The tool converts words to phonemes and can give multiple forms for a single word. The dictionary is located [here](https://raw.githubusercontent.com/logicalschema/data620/main/Project%203/data/lextool/1499.dict). \n",
        "\n",
        "Here is an example for `Doris` which has 4 ways it can be pronounced:\n",
        "```\n",
        "DORIS\tD AO R AH S\n",
        "DORIS(2)\tD AO R IH S\n",
        "DORIS(3)\tD AA R AH S\n",
        "DORIS(4)\tD AA R IH S\n",
        "```\n",
        "\n",
        "For this project, I decided to remove the multiple pronunciations. I will download the dictionary created by CMU for the names I submitted and count the number of round and sharp sounding consonants/vowels.\n"
      ]
    },
    {
      "cell_type": "markdown",
      "metadata": {
        "id": "YLyBOlNEYilj"
      },
      "source": [
        "### CMU Data for the Name Set"
      ]
    },
    {
      "cell_type": "code",
      "metadata": {
        "colab": {
          "base_uri": "https://localhost:8080/"
        },
        "id": "DUCbu0G0YUvu",
        "outputId": "bc450714-b334-4032-99ba-81520069b3c7"
      },
      "source": [
        "file = urllib.request.urlopen('https://raw.githubusercontent.com/logicalschema/data620/main/Project%203/data/lextool/1499.dict')\n",
        "\n",
        "name_cmu_dict = {}\n",
        "\n",
        "# Split each line by the tab delimiter and add the phonemes to the name_cmu_dict. \n",
        "# The index will be the lowercase version of the name\n",
        "for line in file:\n",
        "  decoded_line = line.decode(\"utf-8\")\n",
        "  if '(' not in decoded_line:\n",
        "    temp_list = decoded_line.strip().split('\\t')\n",
        "    temp_name = temp_list[0].lower()\n",
        "    phoneme_list = temp_list[1].split(' ')\n",
        "    name_cmu_dict[temp_name] = phoneme_list\n",
        "\n",
        "# Snippet of name_cmu_dict\n",
        "for name in list(name_cmu_dict)[:5]:\n",
        "  print(name + \" : \" + str(name_cmu_dict[name]))\n"
      ],
      "execution_count": 180,
      "outputs": [
        {
          "output_type": "stream",
          "text": [
            "aamir : ['AA', 'M', 'AH', 'R']\n",
            "aaron : ['EH', 'R', 'AH', 'N']\n",
            "abagael : ['AE', 'B', 'AH', 'G', 'IY', 'L']\n",
            "abagail : ['AH', 'B', 'AE', 'G', 'EY', 'L']\n",
            "abbe : ['AE', 'B', 'IY']\n"
          ],
          "name": "stdout"
        }
      ]
    },
    {
      "cell_type": "markdown",
      "metadata": {
        "id": "GwySwIPJdyx7"
      },
      "source": [
        "### Visualization of Gender by Round and Sharp Sounds"
      ]
    },
    {
      "cell_type": "code",
      "metadata": {
        "colab": {
          "base_uri": "https://localhost:8080/",
          "height": 143
        },
        "id": "KcRQaB7kc_pd",
        "outputId": "7133f42f-bc7f-45aa-887c-e80fb1716439"
      },
      "source": [
        "# Round Sounding Phonemes\n",
        "roundPhonemes = ['L', 'M', 'N']\n",
        "\n",
        "# Sharp Sounding Phonemes\n",
        "sharpPhonemes = ['K', 'P', 'T']\n",
        "\n",
        "# rs_phonemes is a function that returns the count of round and soft phonemes in a word\n",
        "# softPhonemes and roundPhonemes needs to be declared\n",
        "# word needs to exist in name_cmu_dict\n",
        "def rs_phonemes(word):\n",
        "  temp = {'Round': 0, 'Sharp': 0}\n",
        "  for phoneme in roundPhonemes:\n",
        "    if phoneme in name_cmu_dict[word]:\n",
        "      temp['Round'] = temp['Round'] + 1\n",
        "\n",
        "  for phoneme in sharpPhonemes:\n",
        "    if phoneme in name_cmu_dict[word]:\n",
        "      temp['Sharp'] = temp['Sharp'] + 1\n",
        "\n",
        "  return temp\n",
        "\n",
        "# Tally of round and sharp phonemes \n",
        "tallyPhonemeDict = {'Gender': [], 'Round': [], 'Sharp': []}\n",
        "\n",
        "# male names from Training Set\n",
        "maleTDF = train[train['Gender'] == 'male']\n",
        "\n",
        "# female names from Training Set\n",
        "femaleTDF = train[train['Gender'] == 'female']\n",
        "\n",
        "for index, row in maleTDF.iterrows():\n",
        "  tempName = row['Name']\n",
        "  temp = rs_phonemes(tempName)\n",
        "  tallyPhonemeDict['Gender'].append('male')\n",
        "  tallyPhonemeDict['Round'].append(temp['Round'])\n",
        "  tallyPhonemeDict['Sharp'].append(temp['Sharp'])\n",
        "\n",
        "\n",
        "for index, row in femaleTDF.iterrows():\n",
        "  tempName = row['Name']\n",
        "  temp = rs_phonemes(tempName)\n",
        "  tallyPhonemeDict['Gender'].append('female')\n",
        "  tallyPhonemeDict['Round'].append(temp['Round'])\n",
        "  tallyPhonemeDict['Sharp'].append(temp['Sharp'])\n",
        "\n",
        "plotDF = pd.DataFrame(data=tallyPhonemeDict)\n",
        "plotDF.head()\n",
        "plotDF.groupby('Gender').sum()"
      ],
      "execution_count": 181,
      "outputs": [
        {
          "output_type": "execute_result",
          "data": {
            "text/html": [
              "<div>\n",
              "<style scoped>\n",
              "    .dataframe tbody tr th:only-of-type {\n",
              "        vertical-align: middle;\n",
              "    }\n",
              "\n",
              "    .dataframe tbody tr th {\n",
              "        vertical-align: top;\n",
              "    }\n",
              "\n",
              "    .dataframe thead th {\n",
              "        text-align: right;\n",
              "    }\n",
              "</style>\n",
              "<table border=\"1\" class=\"dataframe\">\n",
              "  <thead>\n",
              "    <tr style=\"text-align: right;\">\n",
              "      <th></th>\n",
              "      <th>Round</th>\n",
              "      <th>Sharp</th>\n",
              "    </tr>\n",
              "    <tr>\n",
              "      <th>Gender</th>\n",
              "      <th></th>\n",
              "      <th></th>\n",
              "    </tr>\n",
              "  </thead>\n",
              "  <tbody>\n",
              "    <tr>\n",
              "      <th>female</th>\n",
              "      <td>4142</td>\n",
              "      <td>1566</td>\n",
              "    </tr>\n",
              "    <tr>\n",
              "      <th>male</th>\n",
              "      <td>1947</td>\n",
              "      <td>1011</td>\n",
              "    </tr>\n",
              "  </tbody>\n",
              "</table>\n",
              "</div>"
            ],
            "text/plain": [
              "        Round  Sharp\n",
              "Gender              \n",
              "female   4142   1566\n",
              "male     1947   1011"
            ]
          },
          "metadata": {
            "tags": []
          },
          "execution_count": 181
        }
      ]
    },
    {
      "cell_type": "markdown",
      "metadata": {
        "id": "9Mu3FjKq-eV0"
      },
      "source": [
        "### Fifth Iteration of Model\n",
        "Let's construct a new model using the features: \n",
        "\n",
        "*   Last Letter of the Name\n",
        "*   Last Two Letters of the Name\n",
        "*   Number of Syllables in the Name\n",
        "*   First Letter of the Name\n",
        "*   Number of Round Consonant Phonemes\n",
        "*   Number of Sharp Consonant Phonemes"
      ]
    },
    {
      "cell_type": "code",
      "metadata": {
        "colab": {
          "base_uri": "https://localhost:8080/"
        },
        "id": "9ufQcXwA-nD4",
        "outputId": "246c81ec-30e0-43ee-ea60-d990a2b78ac6"
      },
      "source": [
        "# Modified Feature Set to use last letter, last two letters, and the number of syllables\n",
        "trainsets = []\n",
        "for index, row in train.iterrows():\n",
        "  temp = gender_features(row['Name'])\n",
        "  rs_dict = rs_phonemes(row['Name'])\n",
        "  temp['last_twoletters'] = row['Name'][-2:]\n",
        "  temp['noofsyllables'] = count_syllables(row['Name'])\n",
        "  temp['first_letter'] = row['Name'][0]\n",
        "  temp['round_consonants'] = rs_dict['Round']\n",
        "  temp['sharp_consonants'] = rs_dict['Sharp']\n",
        "\n",
        "  x = ( temp, row['Gender'] )\n",
        "  trainsets.append(x)\n",
        "\n",
        "# Snippet of the training set\n",
        "print(trainsets[:10])\n",
        "\n",
        "# The training set is used to train a new \"naive Bayes\" classifier.\n",
        "classifier = nltk.NaiveBayesClassifier.train(trainsets)\n",
        "\n",
        "# Top 10 Informative Features\n",
        "classifier.show_most_informative_features(10)"
      ],
      "execution_count": 182,
      "outputs": [
        {
          "output_type": "stream",
          "text": [
            "[({'last_letter': 'a', 'last_twoletters': 'na', 'noofsyllables': 2, 'first_letter': 'r', 'round_consonants': 1, 'sharp_consonants': 0}, 'female'), ({'last_letter': 'e', 'last_twoletters': 'ne', 'noofsyllables': 3, 'first_letter': 'a', 'round_consonants': 2, 'sharp_consonants': 1}, 'female'), ({'last_letter': 'e', 'last_twoletters': 'ce', 'noofsyllables': 2, 'first_letter': 'j', 'round_consonants': 1, 'sharp_consonants': 0}, 'female'), ({'last_letter': 'i', 'last_twoletters': 'ti', 'noofsyllables': 2, 'first_letter': 'm', 'round_consonants': 1, 'sharp_consonants': 1}, 'female'), ({'last_letter': 'a', 'last_twoletters': 'na', 'noofsyllables': 3, 'first_letter': 't', 'round_consonants': 1, 'sharp_consonants': 1}, 'female'), ({'last_letter': 'e', 'last_twoletters': 'te', 'noofsyllables': 2, 'first_letter': 'b', 'round_consonants': 0, 'sharp_consonants': 1}, 'female'), ({'last_letter': 'r', 'last_twoletters': 'rr', 'noofsyllables': 1, 'first_letter': 'b', 'round_consonants': 0, 'sharp_consonants': 0}, 'male'), ({'last_letter': 'n', 'last_twoletters': 'yn', 'noofsyllables': 3, 'first_letter': 'r', 'round_consonants': 2, 'sharp_consonants': 0}, 'female'), ({'last_letter': 'a', 'last_twoletters': 'ha', 'noofsyllables': 3, 'first_letter': 'j', 'round_consonants': 0, 'sharp_consonants': 0}, 'female'), ({'last_letter': 'e', 'last_twoletters': 'se', 'noofsyllables': 3, 'first_letter': 'a', 'round_consonants': 2, 'sharp_consonants': 0}, 'female')]\n",
            "Most Informative Features\n",
            "         last_twoletters = 'na'           female : male   =    142.8 : 1.0\n",
            "         last_twoletters = 'ia'           female : male   =     79.3 : 1.0\n",
            "         last_twoletters = 'ta'           female : male   =     68.2 : 1.0\n",
            "             last_letter = 'a'            female : male   =     68.0 : 1.0\n",
            "         last_twoletters = 'la'           female : male   =     67.5 : 1.0\n",
            "         last_twoletters = 'ra'           female : male   =     50.8 : 1.0\n",
            "         last_twoletters = 'us'             male : female =     39.6 : 1.0\n",
            "         last_twoletters = 'rd'             male : female =     30.3 : 1.0\n",
            "         last_twoletters = 'rt'             male : female =     29.1 : 1.0\n",
            "             last_letter = 'f'              male : female =     28.1 : 1.0\n"
          ],
          "name": "stdout"
        }
      ]
    },
    {
      "cell_type": "code",
      "metadata": {
        "colab": {
          "base_uri": "https://localhost:8080/"
        },
        "id": "7EGu1v5F_dYY",
        "outputId": "454ad64b-2a2a-49b2-981f-e8bf5371d944"
      },
      "source": [
        "# Run the classifier with the dev_test set\n",
        "devtestsets = []\n",
        "for index, row in devtest.iterrows():\n",
        "  temp = gender_features(row['Name'])\n",
        "  temp['last_twoletters'] = row['Name'][-2:]\n",
        "  temp['noofsyllables'] = count_syllables(row['Name'])\n",
        "  temp['first_letter'] = row['Name'][0]\n",
        "  temp['round_consonants'] = rs_dict['Round']\n",
        "  temp['sharp_consonants'] = rs_dict['Sharp']\n",
        "\n",
        "  x = ( temp, row['Gender'] )\n",
        "  devtestsets.append(x)\n",
        "\n",
        "# Print the accuracy for the devtest set\n",
        "print(nltk.classify.accuracy(classifier, devtestsets))"
      ],
      "execution_count": 183,
      "outputs": [
        {
          "output_type": "stream",
          "text": [
            "0.848\n"
          ],
          "name": "stdout"
        }
      ]
    },
    {
      "cell_type": "markdown",
      "metadata": {
        "id": "9i7Ra2u3Fc_2"
      },
      "source": [
        "## Initial Voiced Phoneme\n",
        "\n",
        "In the article, [*The Voiced Pronunciation of Initial Phonemes Predicts theGender of Names*](http://www.columbia.edu/~ms4992/Pubs/2016_Slepian-Galinsky_JPSP.pdf) by Michael Slepian and Adam Galinsky, they observed gender classification by looking at the first voiced or unvoiced phoneme of the name.\n",
        "\n",
        "The following is a table that organizes voiced and unvoiced by letter according to Slepian and Galinsky:\n",
        "\n",
        "<img src=https://github.com/logicalschema/data620/raw/main/Project%203/data/initialphoneme.png width=\"400\">\n",
        "\n",
        "Because we have already examined the first letter in the name, I will add this feature to the model."
      ]
    },
    {
      "cell_type": "markdown",
      "metadata": {
        "id": "wgHo7c9EH00o"
      },
      "source": [
        "### Sixth Iteration of Model\n",
        "\n",
        "Let's construct a new model using the features: \n",
        "\n",
        "*   Last Letter of the Name\n",
        "*   Last Two Letters of the Name\n",
        "*   Number of Syllables in the Name\n",
        "*   First Letter of the Name\n",
        "*   Number of Round Consonant Phonemes\n",
        "*   Number of Sharp Consonant Phonemes\n",
        "*   Presence of Initial Voiced Phoneme\n",
        "\n"
      ]
    },
    {
      "cell_type": "code",
      "metadata": {
        "colab": {
          "base_uri": "https://localhost:8080/"
        },
        "id": "RkvJeqEzHww3",
        "outputId": "c1539a70-8777-46f3-a9ef-ff7f9a317cbb"
      },
      "source": [
        "# is_initial_voiced function returns 1 if the 1st letter is voiced otherwise 0\n",
        "# Assumes word is lowercase \n",
        "def is_initial_voiced(word):\n",
        "  if word[0] in ['c', 'f', 'h', 'k', 'p', 'q', 's', 't']:\n",
        "    return 0\n",
        "  else:\n",
        "    return 1\n",
        "\n",
        "# Modified Feature Set to use last letter, last two letters, and the number of syllables\n",
        "trainsets = []\n",
        "for index, row in train.iterrows():\n",
        "  temp = gender_features(row['Name'])\n",
        "  rs_dict = rs_phonemes(row['Name'])\n",
        "  temp['last_twoletters'] = row['Name'][-2:]\n",
        "  temp['noofsyllables'] = count_syllables(row['Name'])\n",
        "  temp['first_letter'] = row['Name'][0]\n",
        "  temp['round_consonants'] = rs_dict['Round']\n",
        "  temp['sharp_consonants'] = rs_dict['Sharp']\n",
        "  temp['is_initial_voiced'] = is_initial_voiced(row['Name'])\n",
        "\n",
        "  x = ( temp, row['Gender'] )\n",
        "  trainsets.append(x)\n",
        "\n",
        "# Snippet of the training set\n",
        "print(trainsets[:10])\n",
        "\n",
        "# The training set is used to train a new \"naive Bayes\" classifier.\n",
        "classifier = nltk.NaiveBayesClassifier.train(trainsets)\n",
        "\n",
        "# Top 10 Informative Features\n",
        "classifier.show_most_informative_features(10)"
      ],
      "execution_count": 184,
      "outputs": [
        {
          "output_type": "stream",
          "text": [
            "[({'last_letter': 'a', 'last_twoletters': 'na', 'noofsyllables': 2, 'first_letter': 'r', 'round_consonants': 1, 'sharp_consonants': 0, 'is_initial_voiced': 1}, 'female'), ({'last_letter': 'e', 'last_twoletters': 'ne', 'noofsyllables': 3, 'first_letter': 'a', 'round_consonants': 2, 'sharp_consonants': 1, 'is_initial_voiced': 1}, 'female'), ({'last_letter': 'e', 'last_twoletters': 'ce', 'noofsyllables': 2, 'first_letter': 'j', 'round_consonants': 1, 'sharp_consonants': 0, 'is_initial_voiced': 1}, 'female'), ({'last_letter': 'i', 'last_twoletters': 'ti', 'noofsyllables': 2, 'first_letter': 'm', 'round_consonants': 1, 'sharp_consonants': 1, 'is_initial_voiced': 1}, 'female'), ({'last_letter': 'a', 'last_twoletters': 'na', 'noofsyllables': 3, 'first_letter': 't', 'round_consonants': 1, 'sharp_consonants': 1, 'is_initial_voiced': 0}, 'female'), ({'last_letter': 'e', 'last_twoletters': 'te', 'noofsyllables': 2, 'first_letter': 'b', 'round_consonants': 0, 'sharp_consonants': 1, 'is_initial_voiced': 1}, 'female'), ({'last_letter': 'r', 'last_twoletters': 'rr', 'noofsyllables': 1, 'first_letter': 'b', 'round_consonants': 0, 'sharp_consonants': 0, 'is_initial_voiced': 1}, 'male'), ({'last_letter': 'n', 'last_twoletters': 'yn', 'noofsyllables': 3, 'first_letter': 'r', 'round_consonants': 2, 'sharp_consonants': 0, 'is_initial_voiced': 1}, 'female'), ({'last_letter': 'a', 'last_twoletters': 'ha', 'noofsyllables': 3, 'first_letter': 'j', 'round_consonants': 0, 'sharp_consonants': 0, 'is_initial_voiced': 1}, 'female'), ({'last_letter': 'e', 'last_twoletters': 'se', 'noofsyllables': 3, 'first_letter': 'a', 'round_consonants': 2, 'sharp_consonants': 0, 'is_initial_voiced': 1}, 'female')]\n",
            "Most Informative Features\n",
            "         last_twoletters = 'na'           female : male   =    142.8 : 1.0\n",
            "         last_twoletters = 'ia'           female : male   =     79.3 : 1.0\n",
            "         last_twoletters = 'ta'           female : male   =     68.2 : 1.0\n",
            "             last_letter = 'a'            female : male   =     68.0 : 1.0\n",
            "         last_twoletters = 'la'           female : male   =     67.5 : 1.0\n",
            "         last_twoletters = 'ra'           female : male   =     50.8 : 1.0\n",
            "         last_twoletters = 'us'             male : female =     39.6 : 1.0\n",
            "         last_twoletters = 'rd'             male : female =     30.3 : 1.0\n",
            "         last_twoletters = 'rt'             male : female =     29.1 : 1.0\n",
            "             last_letter = 'f'              male : female =     28.1 : 1.0\n"
          ],
          "name": "stdout"
        }
      ]
    },
    {
      "cell_type": "code",
      "metadata": {
        "colab": {
          "base_uri": "https://localhost:8080/"
        },
        "id": "pEVgFsmlK3A_",
        "outputId": "7d0bef2d-5a2c-40b0-c1d0-6a60ff516d35"
      },
      "source": [
        "# Run the classifier with the dev_test set\n",
        "devtestsets = []\n",
        "for index, row in devtest.iterrows():\n",
        "  temp = gender_features(row['Name'])\n",
        "  temp['last_twoletters'] = row['Name'][-2:]\n",
        "  temp['noofsyllables'] = count_syllables(row['Name'])\n",
        "  temp['first_letter'] = row['Name'][0]\n",
        "  temp['round_consonants'] = rs_dict['Round']\n",
        "  temp['sharp_consonants'] = rs_dict['Sharp']\n",
        "  temp['is_initial_voiced'] = is_initial_voiced(row['Name'])\n",
        "\n",
        "  x = ( temp, row['Gender'] )\n",
        "  devtestsets.append(x)\n",
        "\n",
        "# Print the accuracy for the devtest set\n",
        "print(nltk.classify.accuracy(classifier, devtestsets))"
      ],
      "execution_count": 185,
      "outputs": [
        {
          "output_type": "stream",
          "text": [
            "0.848\n"
          ],
          "name": "stdout"
        }
      ]
    },
    {
      "cell_type": "markdown",
      "metadata": {
        "id": "7Gh3ECy-Qt2j"
      },
      "source": [
        "## Number of Consonants and Vowels\n",
        "\n",
        "### Seventh Iteration of Model\n",
        "\n",
        "Let's construct a new model using the features: \n",
        "\n",
        "*   Last Letter of the Name\n",
        "*   Last Two Letters of the Name\n",
        "*   Number of Syllables in the Name\n",
        "*   First Letter of the Name\n",
        "*   Number of Round Consonant Phonemes\n",
        "*   Number of Sharp Consonant Phonemes\n",
        "*   Presence of Initial Voiced Phoneme\n",
        "*   Number of Consonants\n",
        "*   Number of Vowels\n",
        "\n"
      ]
    },
    {
      "cell_type": "code",
      "metadata": {
        "colab": {
          "base_uri": "https://localhost:8080/"
        },
        "id": "_-n2Ym6-Q03I",
        "outputId": "ff5bac6e-dece-4d86-d12d-1d00fd3985c0"
      },
      "source": [
        "# count_vowels_consonants returns the number of vowels and consonants in the word\n",
        "# Assumes the word is lowercase\n",
        "def count_vowels_consonants(word):\n",
        "  temp = word.replace(' ', '')\n",
        "  v_count = 0\n",
        "  for s in temp:\n",
        "    if s in 'aeiouy':\n",
        "      v_count = v_count + 1\n",
        "  \n",
        "  return v_count, len(temp) - v_count\n",
        "\n",
        "# Modified Feature Set to use last letter, last two letters, and the number of syllables\n",
        "trainsets = []\n",
        "for index, row in train.iterrows():\n",
        "  temp = gender_features(row['Name'])\n",
        "  rs_dict = rs_phonemes(row['Name'])\n",
        "  temp['last_twoletters'] = row['Name'][-2:]\n",
        "  temp['noofsyllables'] = count_syllables(row['Name'])\n",
        "  temp['first_letter'] = row['Name'][0]\n",
        "  temp['round_consonants'] = rs_dict['Round']\n",
        "  temp['sharp_consonants'] = rs_dict['Sharp']\n",
        "  temp['is_initial_voiced'] = is_initial_voiced(row['Name'])\n",
        "  temp['noofvowels'], temp['noofconsonants'] = count_vowels_consonants(row['Name'])\n",
        "\n",
        "  x = ( temp, row['Gender'] )\n",
        "  trainsets.append(x)\n",
        "\n",
        "# Snippet of the training set\n",
        "print(trainsets[:10])\n",
        "\n",
        "# The training set is used to train a new \"naive Bayes\" classifier.\n",
        "classifier = nltk.NaiveBayesClassifier.train(trainsets)\n",
        "\n",
        "# Top 10 Informative Features\n",
        "classifier.show_most_informative_features(10)\n"
      ],
      "execution_count": 186,
      "outputs": [
        {
          "output_type": "stream",
          "text": [
            "[({'last_letter': 'a', 'last_twoletters': 'na', 'noofsyllables': 2, 'first_letter': 'r', 'round_consonants': 1, 'sharp_consonants': 0, 'is_initial_voiced': 1, 'noofvowels': 2, 'noofconsonants': 2}, 'female'), ({'last_letter': 'e', 'last_twoletters': 'ne', 'noofsyllables': 3, 'first_letter': 'a', 'round_consonants': 2, 'sharp_consonants': 1, 'is_initial_voiced': 1, 'noofvowels': 4, 'noofconsonants': 3}, 'female'), ({'last_letter': 'e', 'last_twoletters': 'ce', 'noofsyllables': 2, 'first_letter': 'j', 'round_consonants': 1, 'sharp_consonants': 0, 'is_initial_voiced': 1, 'noofvowels': 3, 'noofconsonants': 3}, 'female'), ({'last_letter': 'i', 'last_twoletters': 'ti', 'noofsyllables': 2, 'first_letter': 'm', 'round_consonants': 1, 'sharp_consonants': 1, 'is_initial_voiced': 1, 'noofvowels': 2, 'noofconsonants': 3}, 'female'), ({'last_letter': 'a', 'last_twoletters': 'na', 'noofsyllables': 3, 'first_letter': 't', 'round_consonants': 1, 'sharp_consonants': 1, 'is_initial_voiced': 0, 'noofvowels': 4, 'noofconsonants': 3}, 'female'), ({'last_letter': 'e', 'last_twoletters': 'te', 'noofsyllables': 2, 'first_letter': 'b', 'round_consonants': 0, 'sharp_consonants': 1, 'is_initial_voiced': 1, 'noofvowels': 3, 'noofconsonants': 4}, 'female'), ({'last_letter': 'r', 'last_twoletters': 'rr', 'noofsyllables': 1, 'first_letter': 'b', 'round_consonants': 0, 'sharp_consonants': 0, 'is_initial_voiced': 1, 'noofvowels': 1, 'noofconsonants': 3}, 'male'), ({'last_letter': 'n', 'last_twoletters': 'yn', 'noofsyllables': 3, 'first_letter': 'r', 'round_consonants': 2, 'sharp_consonants': 0, 'is_initial_voiced': 1, 'noofvowels': 3, 'noofconsonants': 4}, 'female'), ({'last_letter': 'a', 'last_twoletters': 'ha', 'noofsyllables': 3, 'first_letter': 'j', 'round_consonants': 0, 'sharp_consonants': 0, 'is_initial_voiced': 1, 'noofvowels': 3, 'noofconsonants': 4}, 'female'), ({'last_letter': 'e', 'last_twoletters': 'se', 'noofsyllables': 3, 'first_letter': 'a', 'round_consonants': 2, 'sharp_consonants': 0, 'is_initial_voiced': 1, 'noofvowels': 4, 'noofconsonants': 4}, 'female')]\n",
            "Most Informative Features\n",
            "         last_twoletters = 'na'           female : male   =    142.8 : 1.0\n",
            "         last_twoletters = 'ia'           female : male   =     79.3 : 1.0\n",
            "         last_twoletters = 'ta'           female : male   =     68.2 : 1.0\n",
            "             last_letter = 'a'            female : male   =     68.0 : 1.0\n",
            "         last_twoletters = 'la'           female : male   =     67.5 : 1.0\n",
            "         last_twoletters = 'ra'           female : male   =     50.8 : 1.0\n",
            "         last_twoletters = 'us'             male : female =     39.6 : 1.0\n",
            "         last_twoletters = 'rd'             male : female =     30.3 : 1.0\n",
            "         last_twoletters = 'rt'             male : female =     29.1 : 1.0\n",
            "             last_letter = 'f'              male : female =     28.1 : 1.0\n"
          ],
          "name": "stdout"
        }
      ]
    },
    {
      "cell_type": "code",
      "metadata": {
        "colab": {
          "base_uri": "https://localhost:8080/"
        },
        "id": "rajvupVaU9hS",
        "outputId": "a4259500-c13f-4c04-f0ed-6b5f4d42fb4f"
      },
      "source": [
        "# Run the classifier with the dev_test set\n",
        "devtestsets = []\n",
        "for index, row in devtest.iterrows():\n",
        "  temp = gender_features(row['Name'])\n",
        "  temp['last_twoletters'] = row['Name'][-2:]\n",
        "  temp['noofsyllables'] = count_syllables(row['Name'])\n",
        "  temp['first_letter'] = row['Name'][0]\n",
        "  temp['round_consonants'] = rs_dict['Round']\n",
        "  temp['sharp_consonants'] = rs_dict['Sharp']\n",
        "  temp['is_initial_voiced'] = is_initial_voiced(row['Name'])\n",
        "  temp['noofvowels'], temp['noofconsonants'] = count_vowels_consonants(row['Name'])\n",
        "\n",
        "\n",
        "  x = ( temp, row['Gender'] )\n",
        "  devtestsets.append(x)\n",
        "\n",
        "# Print the accuracy for the devtest set\n",
        "print(nltk.classify.accuracy(classifier, devtestsets))"
      ],
      "execution_count": 187,
      "outputs": [
        {
          "output_type": "stream",
          "text": [
            "0.842\n"
          ],
          "name": "stdout"
        }
      ]
    },
    {
      "cell_type": "markdown",
      "metadata": {
        "id": "D49bFoacmbFv"
      },
      "source": [
        "With the reduced accuracy, I decided to remove the number of vowels and consonants features from the model."
      ]
    },
    {
      "cell_type": "markdown",
      "metadata": {
        "id": "bmZSi87rgxvz"
      },
      "source": [
        "## Counting Phonemes\n"
      ]
    },
    {
      "cell_type": "code",
      "metadata": {
        "colab": {
          "base_uri": "https://localhost:8080/"
        },
        "id": "-maDyjCNg0KD",
        "outputId": "21bee4a6-9b00-4afc-88cd-42ce27904a65"
      },
      "source": [
        "arpabet = ['AA','AE','AH','AO','AW','AY','B','CH','D','DH','EH','ER','EY','F','G','HH','IH','IY','JH','K','L','M','N','NG','OW','OY','P','R','S','SH','T','TH','UH','UW','V','W','Y','Z','ZH']\n",
        "\n",
        "# count_phonemes returns a dictionary of the individual counts for phonemes from the ARPAbet\n",
        "def count_phonemes(word):\n",
        "  count_phonemes = {}\n",
        "\n",
        "  # Initialize the dictionary\n",
        "  for phoneme in arpabet:\n",
        "    count_phonemes[phoneme] = 0\n",
        "  \n",
        "  for i in name_cmu_dict[word]:\n",
        "    count_phonemes[i] = count_phonemes[i] + 1\n",
        "\n",
        "  return count_phonemes\n",
        "\n",
        "# Example of the function\n",
        "print(count_phonemes('joellyn'))"
      ],
      "execution_count": 188,
      "outputs": [
        {
          "output_type": "stream",
          "text": [
            "{'AA': 0, 'AE': 0, 'AH': 1, 'AO': 0, 'AW': 0, 'AY': 0, 'B': 0, 'CH': 0, 'D': 0, 'DH': 0, 'EH': 1, 'ER': 0, 'EY': 0, 'F': 0, 'G': 0, 'HH': 0, 'IH': 0, 'IY': 0, 'JH': 1, 'K': 0, 'L': 1, 'M': 0, 'N': 1, 'NG': 0, 'OW': 1, 'OY': 0, 'P': 0, 'R': 0, 'S': 0, 'SH': 0, 'T': 0, 'TH': 0, 'UH': 0, 'UW': 0, 'V': 0, 'W': 0, 'Y': 0, 'Z': 0, 'ZH': 0}\n"
          ],
          "name": "stdout"
        }
      ]
    },
    {
      "cell_type": "markdown",
      "metadata": {
        "id": "WdxuNZEQo2Nk"
      },
      "source": [
        "### Eighth Iteration of Model\n",
        "\n",
        "Let's construct a new model using the features: \n",
        "\n",
        "*   Last Letter of the Name\n",
        "*   Last Two Letters of the Name\n",
        "*   Number of Syllables in the Name\n",
        "*   First Letter of the Name\n",
        "*   Number of Round Consonant Phonemes\n",
        "*   Number of Sharp Consonant Phonemes\n",
        "*   Presence of Initial Voiced Phoneme\n",
        "*   ARPAbet Phoneme Count"
      ]
    },
    {
      "cell_type": "code",
      "metadata": {
        "colab": {
          "base_uri": "https://localhost:8080/"
        },
        "id": "T3Kx5aW2mjKE",
        "outputId": "771fad43-7b29-401e-e0a4-838ac845db24"
      },
      "source": [
        "# Modified Feature Set to use last letter, last two letters, and the number of syllables\n",
        "trainsets = []\n",
        "for index, row in train.iterrows():\n",
        "  temp = gender_features(row['Name'])\n",
        "  rs_dict = rs_phonemes(row['Name'])\n",
        "  temp['last_twoletters'] = row['Name'][-2:]\n",
        "  temp['noofsyllables'] = count_syllables(row['Name'])\n",
        "  temp['first_letter'] = row['Name'][0]\n",
        "  temp['round_consonants'] = rs_dict['Round']\n",
        "  temp['sharp_consonants'] = rs_dict['Sharp']\n",
        "  temp['is_initial_voiced'] = is_initial_voiced(row['Name'])\n",
        "  temp_count_phoneme = count_phonemes(row['Name'])\n",
        "  for p in arpabet:\n",
        "    temp[p] = temp_count_phoneme[p]\n",
        "\n",
        "  x = ( temp, row['Gender'] )\n",
        "  trainsets.append(x)\n",
        "\n",
        "# Snippet of the training set\n",
        "print(trainsets[:3])\n",
        "\n",
        "# The training set is used to train a new \"naive Bayes\" classifier.\n",
        "classifier = nltk.NaiveBayesClassifier.train(trainsets)\n",
        "\n",
        "# Top 10 Informative Features\n",
        "classifier.show_most_informative_features(10)"
      ],
      "execution_count": 189,
      "outputs": [
        {
          "output_type": "stream",
          "text": [
            "[({'last_letter': 'a', 'last_twoletters': 'na', 'noofsyllables': 2, 'first_letter': 'r', 'round_consonants': 1, 'sharp_consonants': 0, 'is_initial_voiced': 1, 'AA': 0, 'AE': 0, 'AH': 1, 'AO': 0, 'AW': 0, 'AY': 0, 'B': 0, 'CH': 0, 'D': 0, 'DH': 0, 'EH': 0, 'ER': 0, 'EY': 0, 'F': 0, 'G': 0, 'HH': 0, 'IH': 0, 'IY': 1, 'JH': 0, 'K': 0, 'L': 0, 'M': 0, 'N': 1, 'NG': 0, 'OW': 0, 'OY': 0, 'P': 0, 'R': 1, 'S': 0, 'SH': 0, 'T': 0, 'TH': 0, 'UH': 0, 'UW': 0, 'V': 0, 'W': 0, 'Y': 0, 'Z': 0, 'ZH': 0}, 'female'), ({'last_letter': 'e', 'last_twoletters': 'ne', 'noofsyllables': 3, 'first_letter': 'a', 'round_consonants': 2, 'sharp_consonants': 1, 'is_initial_voiced': 1, 'AA': 0, 'AE': 0, 'AH': 1, 'AO': 0, 'AW': 0, 'AY': 1, 'B': 0, 'CH': 0, 'D': 0, 'DH': 0, 'EH': 1, 'ER': 0, 'EY': 0, 'F': 0, 'G': 0, 'HH': 0, 'IH': 0, 'IY': 0, 'JH': 0, 'K': 1, 'L': 1, 'M': 0, 'N': 1, 'NG': 0, 'OW': 0, 'OY': 0, 'P': 0, 'R': 0, 'S': 1, 'SH': 0, 'T': 0, 'TH': 0, 'UH': 0, 'UW': 0, 'V': 0, 'W': 0, 'Y': 0, 'Z': 0, 'ZH': 0}, 'female'), ({'last_letter': 'e', 'last_twoletters': 'ce', 'noofsyllables': 2, 'first_letter': 'j', 'round_consonants': 1, 'sharp_consonants': 0, 'is_initial_voiced': 1, 'AA': 0, 'AE': 1, 'AH': 1, 'AO': 0, 'AW': 0, 'AY': 0, 'B': 0, 'CH': 0, 'D': 0, 'DH': 0, 'EH': 0, 'ER': 0, 'EY': 0, 'F': 0, 'G': 0, 'HH': 0, 'IH': 0, 'IY': 0, 'JH': 1, 'K': 0, 'L': 0, 'M': 0, 'N': 1, 'NG': 0, 'OW': 0, 'OY': 0, 'P': 0, 'R': 0, 'S': 1, 'SH': 0, 'T': 0, 'TH': 0, 'UH': 0, 'UW': 0, 'V': 0, 'W': 0, 'Y': 0, 'Z': 0, 'ZH': 0}, 'female')]\n",
            "Most Informative Features\n",
            "         last_twoletters = 'na'           female : male   =    142.8 : 1.0\n",
            "         last_twoletters = 'ia'           female : male   =     79.3 : 1.0\n",
            "         last_twoletters = 'ta'           female : male   =     68.2 : 1.0\n",
            "             last_letter = 'a'            female : male   =     68.0 : 1.0\n",
            "         last_twoletters = 'la'           female : male   =     67.5 : 1.0\n",
            "         last_twoletters = 'ra'           female : male   =     50.8 : 1.0\n",
            "         last_twoletters = 'us'             male : female =     39.6 : 1.0\n",
            "         last_twoletters = 'rd'             male : female =     30.3 : 1.0\n",
            "         last_twoletters = 'rt'             male : female =     29.1 : 1.0\n",
            "             last_letter = 'f'              male : female =     28.1 : 1.0\n"
          ],
          "name": "stdout"
        }
      ]
    },
    {
      "cell_type": "code",
      "metadata": {
        "colab": {
          "base_uri": "https://localhost:8080/"
        },
        "id": "Kz2rfbQ2qarO",
        "outputId": "5697e9d6-6f47-4699-d6b5-3f15a80f2547"
      },
      "source": [
        "# Run the classifier with the dev_test set\n",
        "devtestsets = []\n",
        "for index, row in devtest.iterrows():\n",
        "  temp = gender_features(row['Name'])\n",
        "  temp['last_twoletters'] = row['Name'][-2:]\n",
        "  temp['noofsyllables'] = count_syllables(row['Name'])\n",
        "  temp['first_letter'] = row['Name'][0]\n",
        "  temp['round_consonants'] = rs_dict['Round']\n",
        "  temp['sharp_consonants'] = rs_dict['Sharp']\n",
        "  temp['is_initial_voiced'] = is_initial_voiced(row['Name'])\n",
        "  temp_count_phoneme = count_phonemes(row['Name'])\n",
        "  for p in arpabet:\n",
        "    temp[p] = temp_count_phoneme[p]\n",
        "\n",
        "  x = ( temp, row['Gender'] )\n",
        "  devtestsets.append(x)\n",
        "\n",
        "# Print the accuracy for the devtest set\n",
        "print(nltk.classify.accuracy(classifier, devtestsets))"
      ],
      "execution_count": 190,
      "outputs": [
        {
          "output_type": "stream",
          "text": [
            "0.848\n"
          ],
          "name": "stdout"
        }
      ]
    },
    {
      "cell_type": "markdown",
      "metadata": {
        "id": "O55_8r1Aq8pn"
      },
      "source": [
        "## Final Model\n",
        "\n",
        "The final model will use these features: \n",
        "\n",
        "*   Last Letter of the Name\n",
        "*   Last Two Letters of the Name\n",
        "*   Number of Syllables in the Name\n",
        "*   First Letter of the Name\n",
        "*   Number of Round Consonant Phonemes\n",
        "*   Number of Sharp Consonant Phonemes\n",
        "*   Presence of Initial Voiced Phoneme\n",
        "*   ARPAbet Phoneme Count\n",
        "\n",
        "The function for finding the features of the model is below."
      ]
    },
    {
      "cell_type": "code",
      "metadata": {
        "id": "D9Nqdkfgq8-m"
      },
      "source": [
        "# Final Feature Function calls gender_features\n",
        "# Returns a dictionary\n",
        "def features(word):\n",
        "  temp = gender_features(word)\n",
        "  temp['last_twoletters'] = word[-2:]\n",
        "  temp['noofsyllables'] = count_syllables(word)\n",
        "  temp['first_letter'] = word[0]\n",
        "  temp['round_consonants'] = rs_dict['Round']\n",
        "  temp['sharp_consonants'] = rs_dict['Sharp']\n",
        "  temp['is_initial_voiced'] = is_initial_voiced(word)\n",
        "  temp_count_phoneme = count_phonemes(word)\n",
        "  for p in arpabet:\n",
        "    temp[p] = temp_count_phoneme[p]\n",
        "\n",
        "  return temp\n",
        "\n"
      ],
      "execution_count": 191,
      "outputs": []
    },
    {
      "cell_type": "markdown",
      "metadata": {
        "id": "dgAEeQ8Ds4yu"
      },
      "source": [
        "### Running the test set with the final model"
      ]
    },
    {
      "cell_type": "code",
      "metadata": {
        "colab": {
          "base_uri": "https://localhost:8080/"
        },
        "id": "gzDWQ5WVrvrd",
        "outputId": "b67855ea-2769-4961-b1e5-84a9e3a0aeb7"
      },
      "source": [
        "# Run the classifier with the test set\n",
        "testsets = []\n",
        "for index, row in test.iterrows():\n",
        "  temp = features(row['Name'])\n",
        "  x = ( temp, row['Gender'] )\n",
        "  testsets.append(x)\n",
        "\n",
        "# Print the accuracy for the devtest set\n",
        "print(nltk.classify.accuracy(classifier, testsets))"
      ],
      "execution_count": 192,
      "outputs": [
        {
          "output_type": "stream",
          "text": [
            "0.824\n"
          ],
          "name": "stdout"
        }
      ]
    },
    {
      "cell_type": "markdown",
      "metadata": {
        "id": "4s4naFYv9xyo"
      },
      "source": [
        "# Remember the Unisex Set\n",
        "This section uses the classifier on the unisex set of names from the beginning. Because the set can be either male or female, I wanted to see how the model would classify these names."
      ]
    },
    {
      "cell_type": "code",
      "metadata": {
        "colab": {
          "base_uri": "https://localhost:8080/"
        },
        "id": "WGIvzW63-dep",
        "outputId": "da0f680a-9e25-4861-c2ba-cf6b477a11c1"
      },
      "source": [
        "unisexClassification = {}\n",
        "\n",
        "# Use the classifier and store the values in a dictionary\n",
        "for name in unisex:\n",
        "  unisexClassification[name] = classifier.classify(gender_features(name))\n",
        "\n",
        "print(list(unisexClassification.items())[:10])\n"
      ],
      "execution_count": 208,
      "outputs": [
        {
          "output_type": "stream",
          "text": [
            "[('van', 'male'), ('page', 'female'), ('ginger', 'male'), ('deane', 'female'), ('sibyl', 'male'), ('frank', 'male'), ('christie', 'female'), ('heath', 'female'), ('maurise', 'female'), ('dennie', 'female')]\n"
          ],
          "name": "stdout"
        }
      ]
    },
    {
      "cell_type": "markdown",
      "metadata": {
        "id": "8_5iz6siCZ5X"
      },
      "source": [
        "# Conclusion\n",
        "Modeling is very powerful and able to assist in classifying names. I would be interested in improving the model by being able to include additional features like open and closed syllables. Classification can be controversial as well in this day and age of gender dysphoria. Gender classification of names can quickly become controversial and context is important."
      ]
    }
  ]
}