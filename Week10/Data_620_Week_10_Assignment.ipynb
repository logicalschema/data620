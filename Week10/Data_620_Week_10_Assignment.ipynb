{
  "nbformat": 4,
  "nbformat_minor": 0,
  "metadata": {
    "colab": {
      "name": "Data 620 Week 10 Assignment.ipynb",
      "provenance": [],
      "collapsed_sections": [],
      "toc_visible": true,
      "authorship_tag": "ABX9TyMKOBy5u4swmcnvdIUzkpRC",
      "include_colab_link": true
    },
    "kernelspec": {
      "display_name": "Python 3",
      "name": "python3"
    },
    "language_info": {
      "name": "python"
    }
  },
  "cells": [
    {
      "cell_type": "markdown",
      "metadata": {
        "id": "view-in-github",
        "colab_type": "text"
      },
      "source": [
        "<a href=\"https://colab.research.google.com/github/logicalschema/data620/blob/main/Week10/Data_620_Week_10_Assignment.ipynb\" target=\"_parent\"><img src=\"https://colab.research.google.com/assets/colab-badge.svg\" alt=\"Open In Colab\"/></a>"
      ]
    },
    {
      "cell_type": "markdown",
      "metadata": {
        "id": "ZHRyMmdFZr4a"
      },
      "source": [
        "# Data 620 Week 10 Assignment\n",
        "\n",
        "[Github Link](https://github.com/logicalschema/data620/tree/main/Week10/)\n",
        "\n",
        "[YouTube Video](https://youtu.be/o5gaLpyYyuk)  \n",
        "\n",
        "<img src=https://github.com/logicalschema/data620/raw/main/Week10/data/spam_ham.jpg width=\"150\">\n",
        "\n",
        "## Assignment\n",
        "It can be useful to be able to classify new \"test\" documents using already classified \"training\" documents.  A common example is using a corpus of labeled spam and ham (non-spam) e-mails to predict whether or not a new document is spam.  Here is one example of such data:  UCI Machine Learning Repository: Spambase Data Set\n",
        "\n",
        "For this project, you can either use the above dataset to predict the class of new documents (either withheld from the training dataset or from another source such as your own spam folder).\n",
        "\n",
        "For more adventurous students, you are welcome (encouraged!) to come up a different set of documents (including scraped web pages!?) that have already been classified (e.g. tagged), then analyze these documents to predict how new documents should be classified.\n",
        "\n",
        "This assignment is due end of day on 4/25.\n",
        "\n",
        "NOTE: This is a two week assignment.\n",
        "\n",
        "\n"
      ]
    },
    {
      "cell_type": "markdown",
      "metadata": {
        "id": "ZQgF9hzdbEdb"
      },
      "source": [
        "# Data\n",
        "The data used for this assignment is from the Apache Software Foundation's SpamAssassin Project: https://spamassassin.apache.org/old/publiccorpus/ \n",
        "\n",
        "Emails are files that have already been classified as spam or ham.\n",
        "\n",
        "The emails have been organized into compressed tar files and are available in the Github repository. Below are the specific links: \n",
        "\n",
        "https://github.com/logicalschema/data620/raw/main/Week10/data/ham.tar.gz \n",
        "\n",
        "https://github.com/logicalschema/data620/raw/main/Week10/data/spam.tar.g\n"
      ]
    },
    {
      "cell_type": "markdown",
      "metadata": {
        "id": "AGsl50gOlA_Q"
      },
      "source": [
        "## Download\n",
        "\n",
        "The following code downloads the compressed tar files and unzips them in the notebook."
      ]
    },
    {
      "cell_type": "code",
      "metadata": {
        "colab": {
          "base_uri": "https://localhost:8080/"
        },
        "id": "rLcC5JmaY91C",
        "outputId": "6a4d1542-1116-475c-ea29-2d042723c741"
      },
      "source": [
        "!wget https://github.com/logicalschema/data620/raw/main/Week10/data/ham.tar.gz\n",
        "!wget https://github.com/logicalschema/data620/raw/main/Week10/data/spam.tar.gz\n",
        "!tar -xzf ham.tar.gz\n",
        "!tar -xzf spam.tar.gz\n"
      ],
      "execution_count": 79,
      "outputs": [
        {
          "output_type": "stream",
          "text": [
            "--2021-04-24 22:12:23--  https://github.com/logicalschema/data620/raw/main/Week10/data/ham.tar.gz\n",
            "Resolving github.com (github.com)... 140.82.121.4\n",
            "Connecting to github.com (github.com)|140.82.121.4|:443... connected.\n",
            "HTTP request sent, awaiting response... 302 Found\n",
            "Location: https://raw.githubusercontent.com/logicalschema/data620/main/Week10/data/ham.tar.gz [following]\n",
            "--2021-04-24 22:12:23--  https://raw.githubusercontent.com/logicalschema/data620/main/Week10/data/ham.tar.gz\n",
            "Resolving raw.githubusercontent.com (raw.githubusercontent.com)... 185.199.108.133, 185.199.109.133, 185.199.110.133, ...\n",
            "Connecting to raw.githubusercontent.com (raw.githubusercontent.com)|185.199.108.133|:443... connected.\n",
            "HTTP request sent, awaiting response... 200 OK\n",
            "Length: 5054556 (4.8M) [application/octet-stream]\n",
            "Saving to: ‘ham.tar.gz.1’\n",
            "\n",
            "ham.tar.gz.1        100%[===================>]   4.82M  --.-KB/s    in 0.1s    \n",
            "\n",
            "2021-04-24 22:12:24 (33.9 MB/s) - ‘ham.tar.gz.1’ saved [5054556/5054556]\n",
            "\n",
            "--2021-04-24 22:12:24--  https://github.com/logicalschema/data620/raw/main/Week10/data/spam.tar.gz\n",
            "Resolving github.com (github.com)... 140.82.121.4\n",
            "Connecting to github.com (github.com)|140.82.121.4|:443... connected.\n",
            "HTTP request sent, awaiting response... 302 Found\n",
            "Location: https://raw.githubusercontent.com/logicalschema/data620/main/Week10/data/spam.tar.gz [following]\n",
            "--2021-04-24 22:12:25--  https://raw.githubusercontent.com/logicalschema/data620/main/Week10/data/spam.tar.gz\n",
            "Resolving raw.githubusercontent.com (raw.githubusercontent.com)... 185.199.108.133, 185.199.109.133, 185.199.110.133, ...\n",
            "Connecting to raw.githubusercontent.com (raw.githubusercontent.com)|185.199.108.133|:443... connected.\n",
            "HTTP request sent, awaiting response... 200 OK\n",
            "Length: 3934560 (3.8M) [application/octet-stream]\n",
            "Saving to: ‘spam.tar.gz.1’\n",
            "\n",
            "spam.tar.gz.1       100%[===================>]   3.75M  --.-KB/s    in 0.1s    \n",
            "\n",
            "2021-04-24 22:12:25 (31.5 MB/s) - ‘spam.tar.gz.1’ saved [3934560/3934560]\n",
            "\n"
          ],
          "name": "stdout"
        }
      ]
    },
    {
      "cell_type": "markdown",
      "metadata": {
        "id": "gTvZIQV4lLiV"
      },
      "source": [
        "# Setup\n",
        "\n",
        "This assignment will use mainly the `nltk` and `sklearn` libraries. Additional libraries are used to check spelling an perform operations on text."
      ]
    },
    {
      "cell_type": "markdown",
      "metadata": {
        "id": "g3mPmOSrmc4N"
      },
      "source": [
        "## Libraries"
      ]
    },
    {
      "cell_type": "code",
      "metadata": {
        "id": "qXkpEZikgc1P"
      },
      "source": [
        "import os\n",
        "import pandas as pd\n",
        "import sys\n",
        "import string\n",
        "import numpy\n",
        "import re \n",
        "from email.parser import BytesParser, Parser\n",
        "from email.policy import default\n",
        "\n",
        "from html import unescape\n",
        "\n",
        "# NLTK\n",
        "# Used for various language features\n",
        "import nltk\n",
        "from nltk import word_tokenize\n",
        "from nltk.probability import FreqDist\n",
        "from nltk.corpus import stopwords\n",
        "from nltk.classify import apply_features\n",
        "from nltk.collocations import *\n",
        "from collections import Counter\n",
        "\n",
        "\n",
        "# Used for splitting the data into three groups devtest, test, and training\n",
        "from sklearn.model_selection import train_test_split\n",
        "\n",
        "# These libraries will use the sklean library for modeling and checking for accuracy\n",
        "from sklearn.feature_extraction.text import CountVectorizer\n",
        "from sklearn.naive_bayes import MultinomialNB\n",
        "from sklearn.metrics import classification_report, confusion_matrix, accuracy_score"
      ],
      "execution_count": 80,
      "outputs": []
    },
    {
      "cell_type": "code",
      "metadata": {
        "colab": {
          "base_uri": "https://localhost:8080/"
        },
        "id": "1_vOzT4h8TNj",
        "outputId": "f5d12eab-133b-4f0a-c9d5-cbd34be522b1"
      },
      "source": [
        "# Downloads for use in sentiment analysis\n",
        "from nltk.sentiment.vader import SentimentIntensityAnalyzer\n",
        "nltk.download('vader_lexicon')"
      ],
      "execution_count": 81,
      "outputs": [
        {
          "output_type": "stream",
          "text": [
            "[nltk_data] Downloading package vader_lexicon to /root/nltk_data...\n",
            "[nltk_data]   Package vader_lexicon is already up-to-date!\n"
          ],
          "name": "stdout"
        },
        {
          "output_type": "execute_result",
          "data": {
            "text/plain": [
              "True"
            ]
          },
          "metadata": {
            "tags": []
          },
          "execution_count": 81
        }
      ]
    },
    {
      "cell_type": "code",
      "metadata": {
        "colab": {
          "base_uri": "https://localhost:8080/"
        },
        "id": "yNfIOUE03A3U",
        "outputId": "fc17c12f-ae75-4874-9efc-e20585b56b45"
      },
      "source": [
        "# Downloads for use in detecting stopwords\n",
        "nltk.download('punkt')\n",
        "nltk.download('stopwords')\n",
        "stop_words = set(stopwords.words(\"english\"))\n"
      ],
      "execution_count": 82,
      "outputs": [
        {
          "output_type": "stream",
          "text": [
            "[nltk_data] Downloading package punkt to /root/nltk_data...\n",
            "[nltk_data]   Package punkt is already up-to-date!\n",
            "[nltk_data] Downloading package stopwords to /root/nltk_data...\n",
            "[nltk_data]   Package stopwords is already up-to-date!\n"
          ],
          "name": "stdout"
        }
      ]
    },
    {
      "cell_type": "code",
      "metadata": {
        "colab": {
          "base_uri": "https://localhost:8080/"
        },
        "id": "c1bDqQFI7vnr",
        "outputId": "b4e069a9-ebc6-41d9-85fa-0fe3b0ed3471"
      },
      "source": [
        "# Used for checking for misspellings\n",
        "!pip install pyspellchecker\n",
        "from spellchecker import SpellChecker\n",
        "\n",
        "spell = SpellChecker()"
      ],
      "execution_count": 83,
      "outputs": [
        {
          "output_type": "stream",
          "text": [
            "Requirement already satisfied: pyspellchecker in /usr/local/lib/python3.7/dist-packages (0.6.2)\n"
          ],
          "name": "stdout"
        }
      ]
    },
    {
      "cell_type": "markdown",
      "metadata": {
        "id": "nEigpT1gmhH9"
      },
      "source": [
        "## Importing the Data\n",
        "\n",
        "The functions below import the uncompressed files into a dataframe."
      ]
    },
    {
      "cell_type": "code",
      "metadata": {
        "id": "q7HUNzbQgoGS"
      },
      "source": [
        "# Assumes that ham and spam have been uncompressed and reside in the same directory as this Python file\n",
        "\n",
        "HAM = 'ham'\n",
        "SPAM = 'spam'\n",
        "NEWLINE = '\\n'\n",
        "\n",
        "SOURCES = [\n",
        "\t('ham/', HAM),\n",
        "\t('spam/', SPAM)\n",
        "]\n",
        "\n",
        "SKIP_FILES = {'cmds'}\n",
        "\n",
        "# Get the Total number of files\n",
        "TOTAL_FILES = 0\n",
        "\n",
        "files = os.listdir(\"ham/\")\n",
        "TOTAL_FILES = len(files) \n",
        "files = os.listdir(\"spam/\")\n",
        "TOTAL_FILES += len(files)\n"
      ],
      "execution_count": 84,
      "outputs": []
    },
    {
      "cell_type": "code",
      "metadata": {
        "id": "12djyv9NgpTK"
      },
      "source": [
        "# Displays the processing of the text emails\n",
        "def progress(i, end_val, bar_length=50):\n",
        "    '''\n",
        "    Print a progress bar of the form: Percent: [#####      ]\n",
        "    i is the current progress value expected in a range [0..end_val]\n",
        "    bar_length is the width of the progress bar on the screen.\n",
        "    '''\n",
        "    percent = float(i) / end_val\n",
        "    hashes = '#' * int(round(percent * bar_length))\n",
        "    spaces = ' ' * (bar_length - len(hashes))\n",
        "    sys.stdout.write(\"\\rPercent: [{0}] {1}%\".format(hashes + spaces, int(round(percent * 100))))\n",
        "    sys.stdout.flush()\n",
        "\n",
        "# Reads the files in the path\n",
        "def read_files(path):\n",
        "    '''\n",
        "    Generator of pairs (filename, filecontent)\n",
        "    for all files below path whose name is not in SKIP_FILES.\n",
        "    The content of the file is of the form:\n",
        "        header....\n",
        "        <emptyline>\n",
        "        body...\n",
        "    This skips the headers and returns body only.\n",
        "    '''\n",
        "    for root, dir_names, file_names in os.walk(path):\n",
        "        for path in dir_names:\n",
        "            read_files(os.path.join(root, path))\n",
        "        for file_name in file_names:\n",
        "            if file_name not in SKIP_FILES:\n",
        "                file_path = os.path.join(root, file_name)\n",
        "                if os.path.isfile(file_path):\n",
        "                    past_header, lines = False, []\n",
        "                    with open(file_path, \"rb\") as f:\n",
        "                    \tmsg = BytesParser(policy=default).parse(f)\n",
        "                    yield file_path, msg\n",
        "\n",
        "def build_data_frame(l, path, classification):\n",
        "    rows = []\n",
        "    index = []\n",
        "    for i, (file_name, email) in enumerate(read_files(path)):\n",
        "        if ((i+l) % 100 == 0):\n",
        "            progress(i+l, TOTAL_FILES - 50, 50)\n",
        "        rows.append({'email': email, 'class': classification})\n",
        "        index.append(file_name)\n",
        "   \n",
        "    data_frame = pd.DataFrame(rows, index=index)\n",
        "    return data_frame, len(rows)\n",
        "\n",
        "def load_data():\n",
        "    data = pd.DataFrame({'email': [], 'class': []})\n",
        "    l = 0\n",
        "    for path, classification in SOURCES:\n",
        "        data_frame, nrows = build_data_frame(l, path, classification)\n",
        "        data = data.append(data_frame)\n",
        "        l += nrows\n",
        "    data = data.reindex(numpy.random.permutation(data.index))\n",
        "    return data\n",
        "\n",
        "\n",
        "def html_to_plain_text(html):\n",
        "    text = re.sub('<head.*?>.*?</head>', '', html, flags=re.M | re.S | re.I)\n",
        "    text = re.sub('<a\\s.*?>', ' HYPERLINK ', text, flags=re.M | re.S | re.I)\n",
        "    text = re.sub('<.*?>', '', text, flags=re.M | re.S)\n",
        "    text = re.sub(r'(\\s*\\n)+', '\\n', text, flags=re.M | re.S)\n",
        "    return unescape(text)\n",
        "\n",
        "# message must be email.ByteParser \n",
        "def email_items(message):\n",
        "\tfromEmail = str(message['from']) \n",
        "\ttoEmail = str(message['to'])\n",
        "\tsubjectEmail = str(message['subject'])\n",
        "\tcontentType = message.get_content_type()\n",
        " \n",
        "\tcontent = \"\"\n",
        "\n",
        "\tif message.is_multipart():\n",
        "\t\tfor payload in message.get_payload():\n",
        "\t\t\tcontent = content + str(payload.get_payload())\n",
        "\telse:\n",
        "\t\tcontent = message.get_payload()\n",
        "  \n",
        "\tcontent = html_to_plain_text(content)\n",
        "\n",
        "\treturn fromEmail, toEmail, subjectEmail, content, contentType\n"
      ],
      "execution_count": 85,
      "outputs": []
    },
    {
      "cell_type": "code",
      "metadata": {
        "colab": {
          "base_uri": "https://localhost:8080/"
        },
        "id": "6zjnEcM9gstp",
        "outputId": "4b9a6665-6830-4b80-a1e5-8cb331a11829"
      },
      "source": [
        "# Loads all of the spam and ham email files into a DataFrame called data\n",
        "data = load_data()"
      ],
      "execution_count": 86,
      "outputs": [
        {
          "output_type": "stream",
          "text": [
            "Percent: [##################################################] 100%"
          ],
          "name": "stdout"
        }
      ]
    },
    {
      "cell_type": "code",
      "metadata": {
        "id": "19ZYmFWKg9Ri"
      },
      "source": [
        "# Add additional columns to the data DataFrame: From, To, Subject, Content, and ContenType\n",
        "data['From'], data['To'], data['Subject'], data['Content'], data['ContentType'] = zip(*data['email'].apply(lambda x:\n",
        "\temail_items(x)\n",
        "\t))"
      ],
      "execution_count": 87,
      "outputs": []
    },
    {
      "cell_type": "markdown",
      "metadata": {
        "id": "QnxFZC42nIA9"
      },
      "source": [
        "Here is a snippet of the new dataframe. There is an identifier for the file, `email`, `class`, `From`, `To`, `Subject`, `Content`, and `ContentType`. "
      ]
    },
    {
      "cell_type": "code",
      "metadata": {
        "colab": {
          "base_uri": "https://localhost:8080/",
          "height": 660
        },
        "id": "8m6N1pt0hc2y",
        "outputId": "e89c9b96-0d3a-49d9-d690-1540cbfc6834"
      },
      "source": [
        "# Snippet of the new DataFrame\n",
        "data.head(5)"
      ],
      "execution_count": 88,
      "outputs": [
        {
          "output_type": "execute_result",
          "data": {
            "text/html": [
              "<div>\n",
              "<style scoped>\n",
              "    .dataframe tbody tr th:only-of-type {\n",
              "        vertical-align: middle;\n",
              "    }\n",
              "\n",
              "    .dataframe tbody tr th {\n",
              "        vertical-align: top;\n",
              "    }\n",
              "\n",
              "    .dataframe thead th {\n",
              "        text-align: right;\n",
              "    }\n",
              "</style>\n",
              "<table border=\"1\" class=\"dataframe\">\n",
              "  <thead>\n",
              "    <tr style=\"text-align: right;\">\n",
              "      <th></th>\n",
              "      <th>email</th>\n",
              "      <th>class</th>\n",
              "      <th>From</th>\n",
              "      <th>To</th>\n",
              "      <th>Subject</th>\n",
              "      <th>Content</th>\n",
              "      <th>ContentType</th>\n",
              "    </tr>\n",
              "  </thead>\n",
              "  <tbody>\n",
              "    <tr>\n",
              "      <th>ham/00232.24e7a66753dfa7f93df6a2c5125e0cb3</th>\n",
              "      <td>[Return-Path, Delivered-To, Received, Received...</td>\n",
              "      <td>ham</td>\n",
              "      <td>SoloCDM &lt;deedsmis@aculink.net&gt;</td>\n",
              "      <td>\"Hunt, Bryan\" &lt;B.Hunt@emuse-tech.com&gt;</td>\n",
              "      <td>[ILUG] Re: removing lilo</td>\n",
              "      <td>\"Hunt, Bryan\" stated the following:\\n&gt;\\n&gt; choo...</td>\n",
              "      <td>text/plain</td>\n",
              "    </tr>\n",
              "    <tr>\n",
              "      <th>spam/00808.c072069806eb82f9aaf8d21d39789ea6</th>\n",
              "      <td>[Received, Message-Id, Received, Date, From, S...</td>\n",
              "      <td>spam</td>\n",
              "      <td>Callie &lt;callie@DEALSWEEPS.IREAYE.NET&gt;</td>\n",
              "      <td>gibbs@MIDRANGE.COM</td>\n",
              "      <td>Discover� Platinum Clear Card New Clear Design!</td>\n",
              "      <td>\\n*Click  HYPERLINK here to see information ab...</td>\n",
              "      <td>text/html</td>\n",
              "    </tr>\n",
              "    <tr>\n",
              "      <th>ham/01380.0a97683490023a8f59c230f5057d15bd</th>\n",
              "      <td>[Return-Path, Delivered-To, Received, Received...</td>\n",
              "      <td>ham</td>\n",
              "      <td>Rick Beebe &lt;richard.beebe@yale.edu&gt;</td>\n",
              "      <td>Don Newcomer &lt;newcomer@dickinson.edu&gt;</td>\n",
              "      <td>Re: [SAtalk] Tru64 compile of SA</td>\n",
              "      <td>Don Newcomer wrote:\\n&gt; I'm a new user (or abou...</td>\n",
              "      <td>text/plain</td>\n",
              "    </tr>\n",
              "    <tr>\n",
              "      <th>ham/01599.30e5cb62246ea4c06dbe1f8024ef9ffc</th>\n",
              "      <td>[Return-Path, Delivered-To, Received, Received...</td>\n",
              "      <td>ham</td>\n",
              "      <td>Whit Blauvelt &lt;whit@transpect.com&gt;</td>\n",
              "      <td>razor-users@example.sourceforge.net</td>\n",
              "      <td>[Razor-users] \"No razor servers available at t...</td>\n",
              "      <td>I'm getting \"no servers available\" about half ...</td>\n",
              "      <td>text/plain</td>\n",
              "    </tr>\n",
              "    <tr>\n",
              "      <th>ham/00007.d24e99a602ee7fb442714c0d448cd08e</th>\n",
              "      <td>[Return-Path, Received, Received, Received, Re...</td>\n",
              "      <td>ham</td>\n",
              "      <td>Fax2Mail &lt;R-1-270241-5399979-2-24365-DE1-3A9F1...</td>\n",
              "      <td>Zzzzz@gmx.de</td>\n",
              "      <td>F2M - Ihre kostenlose Faxnummer - Newsletter</td>\n",
              "      <td>Bitte beachten Sie die Angebote unserer Werb...</td>\n",
              "      <td>text/html</td>\n",
              "    </tr>\n",
              "  </tbody>\n",
              "</table>\n",
              "</div>"
            ],
            "text/plain": [
              "                                                                                         email  ... ContentType\n",
              "ham/00232.24e7a66753dfa7f93df6a2c5125e0cb3   [Return-Path, Delivered-To, Received, Received...  ...  text/plain\n",
              "spam/00808.c072069806eb82f9aaf8d21d39789ea6  [Received, Message-Id, Received, Date, From, S...  ...   text/html\n",
              "ham/01380.0a97683490023a8f59c230f5057d15bd   [Return-Path, Delivered-To, Received, Received...  ...  text/plain\n",
              "ham/01599.30e5cb62246ea4c06dbe1f8024ef9ffc   [Return-Path, Delivered-To, Received, Received...  ...  text/plain\n",
              "ham/00007.d24e99a602ee7fb442714c0d448cd08e   [Return-Path, Received, Received, Received, Re...  ...   text/html\n",
              "\n",
              "[5 rows x 7 columns]"
            ]
          },
          "metadata": {
            "tags": []
          },
          "execution_count": 88
        }
      ]
    },
    {
      "cell_type": "markdown",
      "metadata": {
        "id": "OjYaLclUngtu"
      },
      "source": [
        "## Initial View of the Data\n",
        "\n",
        "Here is an initial view of the dataframe. There are a total of 6,047 files."
      ]
    },
    {
      "cell_type": "code",
      "metadata": {
        "colab": {
          "base_uri": "https://localhost:8080/"
        },
        "id": "TIFjaV7zivMT",
        "outputId": "fadedacd-2cf5-4360-cec4-9225a93cc307"
      },
      "source": [
        "data.count()\n"
      ],
      "execution_count": 89,
      "outputs": [
        {
          "output_type": "execute_result",
          "data": {
            "text/plain": [
              "email          6047\n",
              "class          6047\n",
              "From           6047\n",
              "To             6047\n",
              "Subject        6047\n",
              "Content        6047\n",
              "ContentType    6047\n",
              "dtype: int64"
            ]
          },
          "metadata": {
            "tags": []
          },
          "execution_count": 89
        }
      ]
    },
    {
      "cell_type": "markdown",
      "metadata": {
        "id": "qW4e3kr-ns1V"
      },
      "source": [
        "Below are the numbers of ham and spam emails.\n"
      ]
    },
    {
      "cell_type": "code",
      "metadata": {
        "colab": {
          "base_uri": "https://localhost:8080/"
        },
        "id": "H1FIIx0sjMvr",
        "outputId": "50686633-3d47-4d6e-b08c-d2456a5c8a67"
      },
      "source": [
        "print(\"There are a total of \" + str(len(data[data['class'] == 'spam'].index)) + \" spam emails.\")\n",
        "print(\"There are a total of \" + str(len(data[data['class'] == 'ham'].index)) + \" ham emails.\")\n",
        "print(TOTAL_FILES)"
      ],
      "execution_count": 90,
      "outputs": [
        {
          "output_type": "stream",
          "text": [
            "There are a total of 1897 spam emails.\n",
            "There are a total of 4150 ham emails.\n",
            "6047\n"
          ],
          "name": "stdout"
        }
      ]
    },
    {
      "cell_type": "markdown",
      "metadata": {
        "id": "CxzKShUjoE0b"
      },
      "source": [
        "## Splitting the Data\n",
        "The following code splits the data for the NLTK Naïve Bayes analysis with views of the train and test dataframes."
      ]
    },
    {
      "cell_type": "code",
      "metadata": {
        "id": "VyoCO_iknsUW"
      },
      "source": [
        "# Split the original data into two groups train and test with a 80/20 ratio and stratify based on class [spam, ham]\n",
        "train, test = train_test_split(data, test_size=0.2, random_state=42, stratify=data[['class']])"
      ],
      "execution_count": 91,
      "outputs": []
    },
    {
      "cell_type": "code",
      "metadata": {
        "colab": {
          "base_uri": "https://localhost:8080/"
        },
        "id": "NSWKW2faoXb7",
        "outputId": "1a65e779-6886-4511-8d35-703b31b8613c"
      },
      "source": [
        "train.count()"
      ],
      "execution_count": 92,
      "outputs": [
        {
          "output_type": "execute_result",
          "data": {
            "text/plain": [
              "email          4837\n",
              "class          4837\n",
              "From           4837\n",
              "To             4837\n",
              "Subject        4837\n",
              "Content        4837\n",
              "ContentType    4837\n",
              "dtype: int64"
            ]
          },
          "metadata": {
            "tags": []
          },
          "execution_count": 92
        }
      ]
    },
    {
      "cell_type": "code",
      "metadata": {
        "colab": {
          "base_uri": "https://localhost:8080/"
        },
        "id": "m4hSWgl_obd0",
        "outputId": "f2f43c31-9182-4046-c466-8ff64bb40ec6"
      },
      "source": [
        "test.count()"
      ],
      "execution_count": 93,
      "outputs": [
        {
          "output_type": "execute_result",
          "data": {
            "text/plain": [
              "email          1210\n",
              "class          1210\n",
              "From           1210\n",
              "To             1210\n",
              "Subject        1210\n",
              "Content        1210\n",
              "ContentType    1210\n",
              "dtype: int64"
            ]
          },
          "metadata": {
            "tags": []
          },
          "execution_count": 93
        }
      ]
    },
    {
      "cell_type": "markdown",
      "metadata": {
        "id": "7hW9cUWrobSF"
      },
      "source": [
        "# Functions for Processing\n",
        "\n",
        "The functions below are used for producing features to be used in the NLTK setup."
      ]
    },
    {
      "cell_type": "code",
      "metadata": {
        "id": "c5iY2dYdup6c"
      },
      "source": [
        "# Returns a list of the words from the text. \n",
        "# Removes punctuation, lowercases the words, and only returns words greater than 3 characters\n",
        "def list_words(text):\n",
        "  words = []\n",
        "\n",
        "  # Remove punctuation from the text\n",
        "  temp = text.translate(str.maketrans('', '', string.punctuation))\n",
        "  words_tmp = temp.lower().split()\n",
        "  for w in words_tmp:\n",
        "    if w not in words and len(w) > 3:\n",
        "      if w not in stop_words:\n",
        "        words.append(w)\n",
        "  return words\n",
        "\n",
        "# Returns a count of the misspellings in the text (using list_words)\n",
        "def misspellings(text):\n",
        "  temp = list_words(text)\n",
        "  misspelled = spell.unknown(temp)\n",
        "\n",
        "  return len(misspelled)\n",
        "\n",
        "# Returns the domain of the text\n",
        "# Ex: Sung Lee <slee@sunysb.edu> would return sunysb.edu\n",
        "def domain(text):\n",
        "  temp = text.split('@')\n",
        "  if len(temp) > 1:\n",
        "    domainname = temp[1].replace('>', '')\n",
        "  else:\n",
        "    domainname = ' '\n",
        "  return {'domainname': domainname}\n",
        "\n"
      ],
      "execution_count": 94,
      "outputs": []
    },
    {
      "cell_type": "code",
      "metadata": {
        "id": "XkCpMlXywXAT"
      },
      "source": [
        "# Function tokenizer\n",
        "# Tokenizes a text variable. Converts words to lowercase and removes stop words\n",
        "def quickTokenizer(textVar):\n",
        "  tokens = word_tokenize(textVar)\n",
        "\n",
        "  # Lowercase the tokens\n",
        "  tokens_l = [w.lower() for w in tokens if w.isalpha()]\n",
        "\n",
        "  filtered = []\n",
        "\n",
        "  for w in tokens_l:\n",
        "    if w not in stop_words:\n",
        "      filtered.append(w)\n",
        "\n",
        "  return filtered\n",
        "\n"
      ],
      "execution_count": 95,
      "outputs": []
    },
    {
      "cell_type": "markdown",
      "metadata": {
        "id": "cYnne2qHpNBY"
      },
      "source": [
        "# Analysis\n",
        "This section looks at some of the features that will be pulled from the data."
      ]
    },
    {
      "cell_type": "markdown",
      "metadata": {
        "id": "6jOcBSwjpY3R"
      },
      "source": [
        "## Word Frequency in Subjects and Content\n",
        "This code pulls the top spam words from the subjects of the training email set."
      ]
    },
    {
      "cell_type": "code",
      "metadata": {
        "colab": {
          "base_uri": "https://localhost:8080/",
          "height": 424
        },
        "id": "VMRBtAWmHCgz",
        "outputId": "5993c7e4-284a-485b-e44c-015c1fb92c59"
      },
      "source": [
        "train_subjects = \"\"\n",
        "for index, row in train[train['class'] == 'spam'].iterrows():\n",
        "  train_subjects = train_subjects + row['Subject']\n",
        "\n",
        "corpusSpamSubjects = quickTokenizer(train_subjects)\n",
        "freqtrainSpamSubjects = FreqDist(corpusSpamSubjects)\n",
        "\n",
        "topSpamSubjectWords = pd.DataFrame(freqtrainSpamSubjects.most_common(100),columns=['Word','Frequency'])\n",
        "topSpamSubjectWords.head(100)"
      ],
      "execution_count": 96,
      "outputs": [
        {
          "output_type": "execute_result",
          "data": {
            "text/html": [
              "<div>\n",
              "<style scoped>\n",
              "    .dataframe tbody tr th:only-of-type {\n",
              "        vertical-align: middle;\n",
              "    }\n",
              "\n",
              "    .dataframe tbody tr th {\n",
              "        vertical-align: top;\n",
              "    }\n",
              "\n",
              "    .dataframe thead th {\n",
              "        text-align: right;\n",
              "    }\n",
              "</style>\n",
              "<table border=\"1\" class=\"dataframe\">\n",
              "  <thead>\n",
              "    <tr style=\"text-align: right;\">\n",
              "      <th></th>\n",
              "      <th>Word</th>\n",
              "      <th>Frequency</th>\n",
              "    </tr>\n",
              "  </thead>\n",
              "  <tbody>\n",
              "    <tr>\n",
              "      <th>0</th>\n",
              "      <td>free</td>\n",
              "      <td>94</td>\n",
              "    </tr>\n",
              "    <tr>\n",
              "      <th>1</th>\n",
              "      <td>mortgage</td>\n",
              "      <td>43</td>\n",
              "    </tr>\n",
              "    <tr>\n",
              "      <th>2</th>\n",
              "      <td>money</td>\n",
              "      <td>38</td>\n",
              "    </tr>\n",
              "    <tr>\n",
              "      <th>3</th>\n",
              "      <td>ilug</td>\n",
              "      <td>37</td>\n",
              "    </tr>\n",
              "    <tr>\n",
              "      <th>4</th>\n",
              "      <td>life</td>\n",
              "      <td>34</td>\n",
              "    </tr>\n",
              "    <tr>\n",
              "      <th>...</th>\n",
              "      <td>...</td>\n",
              "      <td>...</td>\n",
              "    </tr>\n",
              "    <tr>\n",
              "      <th>95</th>\n",
              "      <td>price</td>\n",
              "      <td>8</td>\n",
              "    </tr>\n",
              "    <tr>\n",
              "      <th>96</th>\n",
              "      <td>men</td>\n",
              "      <td>8</td>\n",
              "    </tr>\n",
              "    <tr>\n",
              "      <th>97</th>\n",
              "      <td>never</td>\n",
              "      <td>8</td>\n",
              "    </tr>\n",
              "    <tr>\n",
              "      <th>98</th>\n",
              "      <td>interest</td>\n",
              "      <td>8</td>\n",
              "    </tr>\n",
              "    <tr>\n",
              "      <th>99</th>\n",
              "      <td>account</td>\n",
              "      <td>8</td>\n",
              "    </tr>\n",
              "  </tbody>\n",
              "</table>\n",
              "<p>100 rows × 2 columns</p>\n",
              "</div>"
            ],
            "text/plain": [
              "        Word  Frequency\n",
              "0       free         94\n",
              "1   mortgage         43\n",
              "2      money         38\n",
              "3       ilug         37\n",
              "4       life         34\n",
              "..       ...        ...\n",
              "95     price          8\n",
              "96       men          8\n",
              "97     never          8\n",
              "98  interest          8\n",
              "99   account          8\n",
              "\n",
              "[100 rows x 2 columns]"
            ]
          },
          "metadata": {
            "tags": []
          },
          "execution_count": 96
        }
      ]
    },
    {
      "cell_type": "markdown",
      "metadata": {
        "id": "vk4K2wRGpmD6"
      },
      "source": [
        "This code pulls the top subject words from the ham training emails. I was not familiar with term `ilug` (\"I love you guys\")."
      ]
    },
    {
      "cell_type": "code",
      "metadata": {
        "colab": {
          "base_uri": "https://localhost:8080/",
          "height": 424
        },
        "id": "7X_Sf-V6yMI7",
        "outputId": "21d14119-2aa7-4100-88bc-edf3871b5c04"
      },
      "source": [
        "train_subjects = \"\"\n",
        "for index, row in train[train['class'] == 'ham'].iterrows():\n",
        "  train_subjects = train_subjects + row['Subject']\n",
        "\n",
        "corpusHamSubjects = quickTokenizer(train_subjects)\n",
        "freqtrainHamSubjects = FreqDist(corpusHamSubjects)\n",
        "\n",
        "topHamSubjectWords = pd.DataFrame(freqtrainHamSubjects.most_common(100),columns=['Word','Frequency'])\n",
        "topHamSubjectWords.head(100)"
      ],
      "execution_count": 97,
      "outputs": [
        {
          "output_type": "execute_result",
          "data": {
            "text/html": [
              "<div>\n",
              "<style scoped>\n",
              "    .dataframe tbody tr th:only-of-type {\n",
              "        vertical-align: middle;\n",
              "    }\n",
              "\n",
              "    .dataframe tbody tr th {\n",
              "        vertical-align: top;\n",
              "    }\n",
              "\n",
              "    .dataframe thead th {\n",
              "        text-align: right;\n",
              "    }\n",
              "</style>\n",
              "<table border=\"1\" class=\"dataframe\">\n",
              "  <thead>\n",
              "    <tr style=\"text-align: right;\">\n",
              "      <th></th>\n",
              "      <th>Word</th>\n",
              "      <th>Frequency</th>\n",
              "    </tr>\n",
              "  </thead>\n",
              "  <tbody>\n",
              "    <tr>\n",
              "      <th>0</th>\n",
              "      <td>ilug</td>\n",
              "      <td>440</td>\n",
              "    </tr>\n",
              "    <tr>\n",
              "      <th>1</th>\n",
              "      <td>satalk</td>\n",
              "      <td>143</td>\n",
              "    </tr>\n",
              "    <tr>\n",
              "      <th>2</th>\n",
              "      <td>spambayes</td>\n",
              "      <td>110</td>\n",
              "    </tr>\n",
              "    <tr>\n",
              "      <th>3</th>\n",
              "      <td>zzzzteana</td>\n",
              "      <td>107</td>\n",
              "    </tr>\n",
              "    <tr>\n",
              "      <th>4</th>\n",
              "      <td>ouch</td>\n",
              "      <td>103</td>\n",
              "    </tr>\n",
              "    <tr>\n",
              "      <th>...</th>\n",
              "      <td>...</td>\n",
              "      <td>...</td>\n",
              "    </tr>\n",
              "    <tr>\n",
              "      <th>95</th>\n",
              "      <td>another</td>\n",
              "      <td>16</td>\n",
              "    </tr>\n",
              "    <tr>\n",
              "      <th>96</th>\n",
              "      <td>question</td>\n",
              "      <td>16</td>\n",
              "    </tr>\n",
              "    <tr>\n",
              "      <th>97</th>\n",
              "      <td>good</td>\n",
              "      <td>16</td>\n",
              "    </tr>\n",
              "    <tr>\n",
              "      <th>98</th>\n",
              "      <td>forged</td>\n",
              "      <td>16</td>\n",
              "    </tr>\n",
              "    <tr>\n",
              "      <th>99</th>\n",
              "      <td>reviewre</td>\n",
              "      <td>16</td>\n",
              "    </tr>\n",
              "  </tbody>\n",
              "</table>\n",
              "<p>100 rows × 2 columns</p>\n",
              "</div>"
            ],
            "text/plain": [
              "         Word  Frequency\n",
              "0        ilug        440\n",
              "1      satalk        143\n",
              "2   spambayes        110\n",
              "3   zzzzteana        107\n",
              "4        ouch        103\n",
              "..        ...        ...\n",
              "95    another         16\n",
              "96   question         16\n",
              "97       good         16\n",
              "98     forged         16\n",
              "99   reviewre         16\n",
              "\n",
              "[100 rows x 2 columns]"
            ]
          },
          "metadata": {
            "tags": []
          },
          "execution_count": 97
        }
      ]
    },
    {
      "cell_type": "markdown",
      "metadata": {
        "id": "W9NPKWlJp2z-"
      },
      "source": [
        "This code sets up the feature for counting the top spam subject words using the difference of the top subject ham and spam words found in the subject."
      ]
    },
    {
      "cell_type": "code",
      "metadata": {
        "id": "zKY1Guj8Qywq"
      },
      "source": [
        "topspamsubjectwords = set(topSpamSubjectWords.head(100)['Word'].tolist())\n",
        "b = set(topHamSubjectWords.head(100)['Word'].tolist())\n",
        "\n",
        "topspamsubjectwords = topspamsubjectwords - b\n",
        "\n",
        "def countSpamSubjectWords(text):\n",
        "  count = 0\n",
        "  corpus = quickTokenizer(text)\n",
        "  freq = FreqDist(corpus)\n",
        "  for key in freq.keys():\n",
        "    if key in topspamsubjectwords:\n",
        "      count = count + freq[key] \n",
        "  return count\n",
        "\n"
      ],
      "execution_count": 98,
      "outputs": []
    },
    {
      "cell_type": "markdown",
      "metadata": {
        "id": "DFWpL4gqrp_N"
      },
      "source": [
        "This code looks for the top spam words in the content of the training data."
      ]
    },
    {
      "cell_type": "code",
      "metadata": {
        "colab": {
          "base_uri": "https://localhost:8080/",
          "height": 424
        },
        "id": "HJbZRkcvPSxw",
        "outputId": "03308714-39c6-48eb-d82b-3a5ea0d2820c"
      },
      "source": [
        "train_content = \"\"\n",
        "for index, row in train[train['class'] == 'spam'].iterrows():\n",
        "  train_content = train_content + row['Content']\n",
        "\n",
        "corpusSpamContent = quickTokenizer(train_content)\n",
        "freqtrainSpamContent = FreqDist(corpusSpamContent)\n",
        "\n",
        "topSpamContentWords = pd.DataFrame(freqtrainSpamContent.most_common(200),columns=['Word','Frequency'])\n",
        "topSpamContentWords.head(100)"
      ],
      "execution_count": 99,
      "outputs": [
        {
          "output_type": "execute_result",
          "data": {
            "text/html": [
              "<div>\n",
              "<style scoped>\n",
              "    .dataframe tbody tr th:only-of-type {\n",
              "        vertical-align: middle;\n",
              "    }\n",
              "\n",
              "    .dataframe tbody tr th {\n",
              "        vertical-align: top;\n",
              "    }\n",
              "\n",
              "    .dataframe thead th {\n",
              "        text-align: right;\n",
              "    }\n",
              "</style>\n",
              "<table border=\"1\" class=\"dataframe\">\n",
              "  <thead>\n",
              "    <tr style=\"text-align: right;\">\n",
              "      <th></th>\n",
              "      <th>Word</th>\n",
              "      <th>Frequency</th>\n",
              "    </tr>\n",
              "  </thead>\n",
              "  <tbody>\n",
              "    <tr>\n",
              "      <th>0</th>\n",
              "      <td>hyperlink</td>\n",
              "      <td>4026</td>\n",
              "    </tr>\n",
              "    <tr>\n",
              "      <th>1</th>\n",
              "      <td>http</td>\n",
              "      <td>2374</td>\n",
              "    </tr>\n",
              "    <tr>\n",
              "      <th>2</th>\n",
              "      <td>email</td>\n",
              "      <td>2179</td>\n",
              "    </tr>\n",
              "    <tr>\n",
              "      <th>3</th>\n",
              "      <td>free</td>\n",
              "      <td>1972</td>\n",
              "    </tr>\n",
              "    <tr>\n",
              "      <th>4</th>\n",
              "      <td>click</td>\n",
              "      <td>1515</td>\n",
              "    </tr>\n",
              "    <tr>\n",
              "      <th>...</th>\n",
              "      <td>...</td>\n",
              "      <td>...</td>\n",
              "    </tr>\n",
              "    <tr>\n",
              "      <th>95</th>\n",
              "      <td>visit</td>\n",
              "      <td>339</td>\n",
              "    </tr>\n",
              "    <tr>\n",
              "      <th>96</th>\n",
              "      <td>easy</td>\n",
              "      <td>338</td>\n",
              "    </tr>\n",
              "    <tr>\n",
              "      <th>97</th>\n",
              "      <td>made</td>\n",
              "      <td>337</td>\n",
              "    </tr>\n",
              "    <tr>\n",
              "      <th>98</th>\n",
              "      <td>dollars</td>\n",
              "      <td>335</td>\n",
              "    </tr>\n",
              "    <tr>\n",
              "      <th>99</th>\n",
              "      <td>complete</td>\n",
              "      <td>331</td>\n",
              "    </tr>\n",
              "  </tbody>\n",
              "</table>\n",
              "<p>100 rows × 2 columns</p>\n",
              "</div>"
            ],
            "text/plain": [
              "         Word  Frequency\n",
              "0   hyperlink       4026\n",
              "1        http       2374\n",
              "2       email       2179\n",
              "3        free       1972\n",
              "4       click       1515\n",
              "..        ...        ...\n",
              "95      visit        339\n",
              "96       easy        338\n",
              "97       made        337\n",
              "98    dollars        335\n",
              "99   complete        331\n",
              "\n",
              "[100 rows x 2 columns]"
            ]
          },
          "metadata": {
            "tags": []
          },
          "execution_count": 99
        }
      ]
    },
    {
      "cell_type": "markdown",
      "metadata": {
        "id": "ObA2GLJ9qaY8"
      },
      "source": [
        "## Sentiment Analysis\n",
        "I had started this section wishing to look at the sentiment analysis of the data. Later, I would find that sentiment analysis was not helpful and retroactively removed this feature from the model. Sentiment analysis was expensive and I did not find it helpful for this assignment."
      ]
    },
    {
      "cell_type": "code",
      "metadata": {
        "id": "IGlehBVg2_O1"
      },
      "source": [
        "def sentimentAnalysis(text):\n",
        "  sia = SentimentIntensityAnalyzer()\n",
        "  temp = sia.polarity_scores(text)\n",
        "\n",
        "  return temp\n",
        "\n",
        "def sanitizeText(text):\n",
        "  words = []\n",
        "\n",
        "  # Remove punctuation from the text\n",
        "  temp = text.translate(str.maketrans('', '', string.punctuation))\n",
        "\n",
        "  return temp.lower()\n"
      ],
      "execution_count": 100,
      "outputs": []
    },
    {
      "cell_type": "markdown",
      "metadata": {
        "id": "Rk43VUA3wh5e"
      },
      "source": [
        "Sentiment analysis, in my opinion, is intensive. I added the `%%timeit` in the cell to show the time it takes."
      ]
    },
    {
      "cell_type": "code",
      "metadata": {
        "id": "pgf21T2KaF3J",
        "colab": {
          "base_uri": "https://localhost:8080/"
        },
        "outputId": "ad7be1b6-0138-4c20-93f9-22aa6b18fac9"
      },
      "source": [
        "%%timeit\n",
        "\n",
        "# Sentiment Analysis 1\n",
        "t = []\n",
        "for index, row in train[train['class'] == 'spam'].iterrows():\n",
        "  t.append(sentimentAnalysis(row['Content']))\n",
        "\n",
        "u = []\n",
        "for index, row in train[train['class'] == 'ham'].iterrows():\n",
        "  u.append(sentimentAnalysis(row['Content']))\n"
      ],
      "execution_count": 101,
      "outputs": [
        {
          "output_type": "stream",
          "text": [
            "1 loop, best of 5: 1min 5s per loop\n"
          ],
          "name": "stdout"
        }
      ]
    },
    {
      "cell_type": "markdown",
      "metadata": {
        "id": "_76LCbY-w-LV"
      },
      "source": [
        "Here is a view of the sentiment analysis done on the emails."
      ]
    },
    {
      "cell_type": "code",
      "metadata": {
        "colab": {
          "base_uri": "https://localhost:8080/",
          "height": 363
        },
        "id": "w4hLg3zJbGkB",
        "outputId": "04711b20-b926-4113-aae4-247e01950036"
      },
      "source": [
        "# Sentiment Analysis 2\n",
        "saspam = pd.DataFrame(t)\n",
        "saspam.head(10)"
      ],
      "execution_count": 102,
      "outputs": [
        {
          "output_type": "execute_result",
          "data": {
            "text/html": [
              "<div>\n",
              "<style scoped>\n",
              "    .dataframe tbody tr th:only-of-type {\n",
              "        vertical-align: middle;\n",
              "    }\n",
              "\n",
              "    .dataframe tbody tr th {\n",
              "        vertical-align: top;\n",
              "    }\n",
              "\n",
              "    .dataframe thead th {\n",
              "        text-align: right;\n",
              "    }\n",
              "</style>\n",
              "<table border=\"1\" class=\"dataframe\">\n",
              "  <thead>\n",
              "    <tr style=\"text-align: right;\">\n",
              "      <th></th>\n",
              "      <th>neg</th>\n",
              "      <th>neu</th>\n",
              "      <th>pos</th>\n",
              "      <th>compound</th>\n",
              "    </tr>\n",
              "  </thead>\n",
              "  <tbody>\n",
              "    <tr>\n",
              "      <th>0</th>\n",
              "      <td>0.072</td>\n",
              "      <td>0.777</td>\n",
              "      <td>0.151</td>\n",
              "      <td>0.9487</td>\n",
              "    </tr>\n",
              "    <tr>\n",
              "      <th>1</th>\n",
              "      <td>0.129</td>\n",
              "      <td>0.695</td>\n",
              "      <td>0.176</td>\n",
              "      <td>0.8852</td>\n",
              "    </tr>\n",
              "    <tr>\n",
              "      <th>2</th>\n",
              "      <td>0.040</td>\n",
              "      <td>0.748</td>\n",
              "      <td>0.211</td>\n",
              "      <td>0.9632</td>\n",
              "    </tr>\n",
              "    <tr>\n",
              "      <th>3</th>\n",
              "      <td>0.000</td>\n",
              "      <td>1.000</td>\n",
              "      <td>0.000</td>\n",
              "      <td>0.0000</td>\n",
              "    </tr>\n",
              "    <tr>\n",
              "      <th>4</th>\n",
              "      <td>0.110</td>\n",
              "      <td>0.819</td>\n",
              "      <td>0.071</td>\n",
              "      <td>-0.5067</td>\n",
              "    </tr>\n",
              "    <tr>\n",
              "      <th>5</th>\n",
              "      <td>0.000</td>\n",
              "      <td>0.963</td>\n",
              "      <td>0.037</td>\n",
              "      <td>0.8834</td>\n",
              "    </tr>\n",
              "    <tr>\n",
              "      <th>6</th>\n",
              "      <td>0.053</td>\n",
              "      <td>0.712</td>\n",
              "      <td>0.235</td>\n",
              "      <td>0.9955</td>\n",
              "    </tr>\n",
              "    <tr>\n",
              "      <th>7</th>\n",
              "      <td>0.066</td>\n",
              "      <td>0.807</td>\n",
              "      <td>0.126</td>\n",
              "      <td>0.7867</td>\n",
              "    </tr>\n",
              "    <tr>\n",
              "      <th>8</th>\n",
              "      <td>0.039</td>\n",
              "      <td>0.777</td>\n",
              "      <td>0.184</td>\n",
              "      <td>0.9980</td>\n",
              "    </tr>\n",
              "    <tr>\n",
              "      <th>9</th>\n",
              "      <td>0.000</td>\n",
              "      <td>1.000</td>\n",
              "      <td>0.000</td>\n",
              "      <td>0.0000</td>\n",
              "    </tr>\n",
              "  </tbody>\n",
              "</table>\n",
              "</div>"
            ],
            "text/plain": [
              "     neg    neu    pos  compound\n",
              "0  0.072  0.777  0.151    0.9487\n",
              "1  0.129  0.695  0.176    0.8852\n",
              "2  0.040  0.748  0.211    0.9632\n",
              "3  0.000  1.000  0.000    0.0000\n",
              "4  0.110  0.819  0.071   -0.5067\n",
              "5  0.000  0.963  0.037    0.8834\n",
              "6  0.053  0.712  0.235    0.9955\n",
              "7  0.066  0.807  0.126    0.7867\n",
              "8  0.039  0.777  0.184    0.9980\n",
              "9  0.000  1.000  0.000    0.0000"
            ]
          },
          "metadata": {
            "tags": []
          },
          "execution_count": 102
        }
      ]
    },
    {
      "cell_type": "code",
      "metadata": {
        "colab": {
          "base_uri": "https://localhost:8080/",
          "height": 363
        },
        "id": "a104p-JxcnD4",
        "outputId": "77084edd-3602-4fb9-c735-7317d36d8cf5"
      },
      "source": [
        "# Sentiment Analysis 3\n",
        "saham = pd.DataFrame(u)\n",
        "saham.head(10)"
      ],
      "execution_count": 103,
      "outputs": [
        {
          "output_type": "execute_result",
          "data": {
            "text/html": [
              "<div>\n",
              "<style scoped>\n",
              "    .dataframe tbody tr th:only-of-type {\n",
              "        vertical-align: middle;\n",
              "    }\n",
              "\n",
              "    .dataframe tbody tr th {\n",
              "        vertical-align: top;\n",
              "    }\n",
              "\n",
              "    .dataframe thead th {\n",
              "        text-align: right;\n",
              "    }\n",
              "</style>\n",
              "<table border=\"1\" class=\"dataframe\">\n",
              "  <thead>\n",
              "    <tr style=\"text-align: right;\">\n",
              "      <th></th>\n",
              "      <th>neg</th>\n",
              "      <th>neu</th>\n",
              "      <th>pos</th>\n",
              "      <th>compound</th>\n",
              "    </tr>\n",
              "  </thead>\n",
              "  <tbody>\n",
              "    <tr>\n",
              "      <th>0</th>\n",
              "      <td>0.000</td>\n",
              "      <td>1.000</td>\n",
              "      <td>0.000</td>\n",
              "      <td>0.0000</td>\n",
              "    </tr>\n",
              "    <tr>\n",
              "      <th>1</th>\n",
              "      <td>0.068</td>\n",
              "      <td>0.873</td>\n",
              "      <td>0.059</td>\n",
              "      <td>-0.5822</td>\n",
              "    </tr>\n",
              "    <tr>\n",
              "      <th>2</th>\n",
              "      <td>0.000</td>\n",
              "      <td>0.905</td>\n",
              "      <td>0.095</td>\n",
              "      <td>0.7906</td>\n",
              "    </tr>\n",
              "    <tr>\n",
              "      <th>3</th>\n",
              "      <td>0.102</td>\n",
              "      <td>0.752</td>\n",
              "      <td>0.147</td>\n",
              "      <td>0.9606</td>\n",
              "    </tr>\n",
              "    <tr>\n",
              "      <th>4</th>\n",
              "      <td>0.000</td>\n",
              "      <td>1.000</td>\n",
              "      <td>0.000</td>\n",
              "      <td>0.0000</td>\n",
              "    </tr>\n",
              "    <tr>\n",
              "      <th>5</th>\n",
              "      <td>0.030</td>\n",
              "      <td>0.853</td>\n",
              "      <td>0.117</td>\n",
              "      <td>0.7783</td>\n",
              "    </tr>\n",
              "    <tr>\n",
              "      <th>6</th>\n",
              "      <td>0.130</td>\n",
              "      <td>0.710</td>\n",
              "      <td>0.160</td>\n",
              "      <td>0.1280</td>\n",
              "    </tr>\n",
              "    <tr>\n",
              "      <th>7</th>\n",
              "      <td>0.024</td>\n",
              "      <td>0.873</td>\n",
              "      <td>0.103</td>\n",
              "      <td>0.9982</td>\n",
              "    </tr>\n",
              "    <tr>\n",
              "      <th>8</th>\n",
              "      <td>0.094</td>\n",
              "      <td>0.879</td>\n",
              "      <td>0.027</td>\n",
              "      <td>-0.9623</td>\n",
              "    </tr>\n",
              "    <tr>\n",
              "      <th>9</th>\n",
              "      <td>0.064</td>\n",
              "      <td>0.908</td>\n",
              "      <td>0.029</td>\n",
              "      <td>-0.9070</td>\n",
              "    </tr>\n",
              "  </tbody>\n",
              "</table>\n",
              "</div>"
            ],
            "text/plain": [
              "     neg    neu    pos  compound\n",
              "0  0.000  1.000  0.000    0.0000\n",
              "1  0.068  0.873  0.059   -0.5822\n",
              "2  0.000  0.905  0.095    0.7906\n",
              "3  0.102  0.752  0.147    0.9606\n",
              "4  0.000  1.000  0.000    0.0000\n",
              "5  0.030  0.853  0.117    0.7783\n",
              "6  0.130  0.710  0.160    0.1280\n",
              "7  0.024  0.873  0.103    0.9982\n",
              "8  0.094  0.879  0.027   -0.9623\n",
              "9  0.064  0.908  0.029   -0.9070"
            ]
          },
          "metadata": {
            "tags": []
          },
          "execution_count": 103
        }
      ]
    },
    {
      "cell_type": "code",
      "metadata": {
        "colab": {
          "base_uri": "https://localhost:8080/",
          "height": 376
        },
        "id": "pzloV2il-nkX",
        "outputId": "50e2c087-e58a-4a94-c232-da91ddf8d173"
      },
      "source": [
        "# Sentiment Analysis 4\n",
        "print(saspam[['neg', 'neu', 'pos', 'compound']].mean())\n",
        "saspam.boxplot(column=['neg', 'neu', 'pos', 'compound'])\n"
      ],
      "execution_count": 104,
      "outputs": [
        {
          "output_type": "stream",
          "text": [
            "neg         0.039294\n",
            "neu         0.823866\n",
            "pos         0.133051\n",
            "compound    0.720580\n",
            "dtype: float64\n"
          ],
          "name": "stdout"
        },
        {
          "output_type": "execute_result",
          "data": {
            "text/plain": [
              "<matplotlib.axes._subplots.AxesSubplot at 0x7fcc246e1e10>"
            ]
          },
          "metadata": {
            "tags": []
          },
          "execution_count": 104
        },
        {
          "output_type": "display_data",
          "data": {
            "image/png": "[encoded data removed]",
            "text/plain": [
              "<Figure size 432x288 with 1 Axes>"
            ]
          },
          "metadata": {
            "tags": [],
            "needs_background": "light"
          }
        }
      ]
    },
    {
      "cell_type": "code",
      "metadata": {
        "colab": {
          "base_uri": "https://localhost:8080/",
          "height": 376
        },
        "id": "JTOcxGEF_rTo",
        "outputId": "f0ad3d75-e512-4c29-8406-749c20c8aa6a"
      },
      "source": [
        "# Sentiment Analysis 5\n",
        "print(saham[['neg', 'neu', 'pos', 'compound']].mean())\n",
        "saham.boxplot(column=['neg', 'neu', 'pos', 'compound'])"
      ],
      "execution_count": 105,
      "outputs": [
        {
          "output_type": "stream",
          "text": [
            "neg         0.054228\n",
            "neu         0.861504\n",
            "pos         0.084264\n",
            "compound    0.320380\n",
            "dtype: float64\n"
          ],
          "name": "stdout"
        },
        {
          "output_type": "execute_result",
          "data": {
            "text/plain": [
              "<matplotlib.axes._subplots.AxesSubplot at 0x7fcc24568e90>"
            ]
          },
          "metadata": {
            "tags": []
          },
          "execution_count": 105
        },
        {
          "output_type": "display_data",
          "data": {
            "image/png": "[encoded data removed]",
            "text/plain": [
              "<Figure size 432x288 with 1 Axes>"
            ]
          },
          "metadata": {
            "tags": [],
            "needs_background": "light"
          }
        }
      ]
    },
    {
      "cell_type": "markdown",
      "metadata": {
        "id": "Ly1QYJLvqouY"
      },
      "source": [
        "## Bigram Analysis\n",
        "This code looks at the bigram frequency in the content of the training emails. I found that this was somewhat intensive and chose to include the time it would take for execution."
      ]
    },
    {
      "cell_type": "code",
      "metadata": {
        "id": "AEY0nlwUvnPM",
        "colab": {
          "base_uri": "https://localhost:8080/"
        },
        "outputId": "9fed6580-3a67-441e-db83-33ff0d573772"
      },
      "source": [
        "%%timeit\n",
        "bigram_measures = nltk.collocations.BigramAssocMeasures()\n",
        "\n",
        "trainContentText = \"\"\n",
        "for index, row in train[train['class'] == 'spam'].iterrows():\n",
        "  trainContentText = trainContentText + row['Content']\n",
        "\n",
        "tokens = quickTokenizer(trainContentText)\n",
        "finder = BigramCollocationFinder.from_words(tokens)\n"
      ],
      "execution_count": 106,
      "outputs": [
        {
          "output_type": "stream",
          "text": [
            "1 loop, best of 5: 7.02 s per loop\n"
          ],
          "name": "stdout"
        }
      ]
    },
    {
      "cell_type": "markdown",
      "metadata": {
        "id": "VP4eXfW7q-sd"
      },
      "source": [
        "Here is a snippet of the bigrams found."
      ]
    },
    {
      "cell_type": "code",
      "metadata": {
        "colab": {
          "base_uri": "https://localhost:8080/"
        },
        "id": "TeQ2rcSQySf6",
        "outputId": "3f2ad9d7-1823-408e-8d52-856d786a8cda"
      },
      "source": [
        "finder.apply_freq_filter(3)\n",
        "scored = finder.score_ngrams(bigram_measures.raw_freq)\n",
        "sorted(bigram for bigram, score in scored)\n",
        "finder.nbest(bigram_measures.pmi, 10)"
      ],
      "execution_count": 113,
      "outputs": [
        {
          "output_type": "execute_result",
          "data": {
            "text/plain": [
              "[('achy', 'breaky'),\n",
              " ('adobe', 'photoshop'),\n",
              " ('bangles', 'flinstones'),\n",
              " ('batman', 'danny'),\n",
              " ('beckley', 'cupertino'),\n",
              " ('cockle', 'doodle'),\n",
              " ('converts', 'isilo'),\n",
              " ('cyber', 'firepower'),\n",
              " ('dakika', 'sanki'),\n",
              " ('dann', 'trage')]"
            ]
          },
          "metadata": {
            "tags": []
          },
          "execution_count": 113
        }
      ]
    },
    {
      "cell_type": "markdown",
      "metadata": {
        "id": "bxX9AlCdr_v-"
      },
      "source": [
        "This code creates the features to count the spam bigrams in the text. "
      ]
    },
    {
      "cell_type": "code",
      "metadata": {
        "id": "x9224DDC29eh"
      },
      "source": [
        "top100spambigrams = finder.nbest(bigram_measures.pmi, 100)\n",
        "\n",
        "# Returns FreqDist [k, v]: (tuple, int)\n",
        "def freqBigrams(text):\n",
        "  temp = sanitizeText(text)\n",
        "  token = nltk.word_tokenize(temp)\n",
        "  if len(token) == 0:\n",
        "    token = ['NA']\n",
        "  bigram = list(nltk.ngrams(token, 2)) \n",
        "  fdist = nltk.FreqDist(bigram)\n",
        "  return fdist\n",
        "\n",
        "# top100spambigrams and function freqBigrams are required\n",
        "def countSpamBigrams(text):\n",
        "  count = 0\n",
        "  f1 = freqBigrams(text)\n",
        "  for k, v in f1:\n",
        "    if k in top100spambigrams:\n",
        "      count = count + v\n",
        "  return count\n"
      ],
      "execution_count": 114,
      "outputs": []
    },
    {
      "cell_type": "markdown",
      "metadata": {
        "id": "xW3yUeGgsSaY"
      },
      "source": [
        "# NLTK Model\n",
        "After several iterations, the final features that I settled upon to construct the classifier were:\n",
        "* Domain of the From Email\n",
        "* Number of Misspellings in the Content\n",
        "* Number of High Frequency Spam Words in the Subject\n",
        "* Count of the High Frequency Spam Bigrams in the Content"
      ]
    },
    {
      "cell_type": "code",
      "metadata": {
        "colab": {
          "base_uri": "https://localhost:8080/"
        },
        "id": "SBK4fSEiDVvP",
        "outputId": "0dcbe77d-1c1f-46a8-f476-ad1bf8d0da85"
      },
      "source": [
        "%%timeit\n",
        "# Modified Feature Set to use last letter\n",
        "trainsets = []\n",
        "for index, row in train.iterrows():\n",
        "  temp = domain(row['From'])\n",
        "  temp['misspelled'] = misspellings(row['Subject'])\n",
        "  temp['contentmisspells'] = misspellings(row['Content'])\n",
        "  temp['spamWords'] = countSpamSubjectWords(row['Subject'])\n",
        "  temp['subject'] = sanitizeText(row['Subject'])\n",
        "  temp['content'] = sanitizeText(row['Content'])\n",
        "  temp['countbigrams'] = countSpamBigrams(row['Content'])\n",
        "  x = ( temp, row['class'] )\n",
        "  trainsets.append(x)\n",
        "\n",
        "# The training set is used to train a new \"naive Bayes\" classifier.\n",
        "classifier = nltk.NaiveBayesClassifier.train(trainsets)\n",
        "\n",
        "# Top 10 Informative Features\n",
        "classifier.show_most_informative_features(10)"
      ],
      "execution_count": 119,
      "outputs": [
        {
          "output_type": "stream",
          "text": [
            "Most Informative Features\n",
            "               spamWords = 3                spam : ham    =     57.6 : 1.0\n",
            "              domainname = 'spamassassin.taint.org'    ham : spam   =     38.1 : 1.0\n",
            "              domainname = 'canada.com'      ham : spam   =     23.5 : 1.0\n",
            "               spamWords = 2                spam : ham    =     14.6 : 1.0\n",
            "              domainname = 'yahoo.com'      spam : ham    =     12.8 : 1.0\n",
            "              domainname = 'linux.ie'        ham : spam   =     11.7 : 1.0\n",
            "        contentmisspells = 39               spam : ham    =      8.1 : 1.0\n",
            "              domainname = 'earthlink.net'   spam : ham    =      7.1 : 1.0\n",
            "              domainname = 'netnoteinc.com'   spam : ham    =      6.8 : 1.0\n",
            "        contentmisspells = 116              spam : ham    =      6.4 : 1.0\n",
            "Most Informative Features\n",
            "               spamWords = 3                spam : ham    =     57.6 : 1.0\n",
            "              domainname = 'spamassassin.taint.org'    ham : spam   =     38.1 : 1.0\n",
            "              domainname = 'canada.com'      ham : spam   =     23.5 : 1.0\n",
            "               spamWords = 2                spam : ham    =     14.6 : 1.0\n",
            "              domainname = 'yahoo.com'      spam : ham    =     12.8 : 1.0\n",
            "              domainname = 'linux.ie'        ham : spam   =     11.7 : 1.0\n",
            "        contentmisspells = 39               spam : ham    =      8.1 : 1.0\n",
            "              domainname = 'earthlink.net'   spam : ham    =      7.1 : 1.0\n",
            "              domainname = 'netnoteinc.com'   spam : ham    =      6.8 : 1.0\n",
            "        contentmisspells = 116              spam : ham    =      6.4 : 1.0\n",
            "Most Informative Features\n",
            "               spamWords = 3                spam : ham    =     57.6 : 1.0\n",
            "              domainname = 'spamassassin.taint.org'    ham : spam   =     38.1 : 1.0\n",
            "              domainname = 'canada.com'      ham : spam   =     23.5 : 1.0\n",
            "               spamWords = 2                spam : ham    =     14.6 : 1.0\n",
            "              domainname = 'yahoo.com'      spam : ham    =     12.8 : 1.0\n",
            "              domainname = 'linux.ie'        ham : spam   =     11.7 : 1.0\n",
            "        contentmisspells = 39               spam : ham    =      8.1 : 1.0\n",
            "              domainname = 'earthlink.net'   spam : ham    =      7.1 : 1.0\n",
            "              domainname = 'netnoteinc.com'   spam : ham    =      6.8 : 1.0\n",
            "        contentmisspells = 116              spam : ham    =      6.4 : 1.0\n",
            "Most Informative Features\n",
            "               spamWords = 3                spam : ham    =     57.6 : 1.0\n",
            "              domainname = 'spamassassin.taint.org'    ham : spam   =     38.1 : 1.0\n",
            "              domainname = 'canada.com'      ham : spam   =     23.5 : 1.0\n",
            "               spamWords = 2                spam : ham    =     14.6 : 1.0\n",
            "              domainname = 'yahoo.com'      spam : ham    =     12.8 : 1.0\n",
            "              domainname = 'linux.ie'        ham : spam   =     11.7 : 1.0\n",
            "        contentmisspells = 39               spam : ham    =      8.1 : 1.0\n",
            "              domainname = 'earthlink.net'   spam : ham    =      7.1 : 1.0\n",
            "              domainname = 'netnoteinc.com'   spam : ham    =      6.8 : 1.0\n",
            "        contentmisspells = 116              spam : ham    =      6.4 : 1.0\n",
            "Most Informative Features\n",
            "               spamWords = 3                spam : ham    =     57.6 : 1.0\n",
            "              domainname = 'spamassassin.taint.org'    ham : spam   =     38.1 : 1.0\n",
            "              domainname = 'canada.com'      ham : spam   =     23.5 : 1.0\n",
            "               spamWords = 2                spam : ham    =     14.6 : 1.0\n",
            "              domainname = 'yahoo.com'      spam : ham    =     12.8 : 1.0\n",
            "              domainname = 'linux.ie'        ham : spam   =     11.7 : 1.0\n",
            "        contentmisspells = 39               spam : ham    =      8.1 : 1.0\n",
            "              domainname = 'earthlink.net'   spam : ham    =      7.1 : 1.0\n",
            "              domainname = 'netnoteinc.com'   spam : ham    =      6.8 : 1.0\n",
            "        contentmisspells = 116              spam : ham    =      6.4 : 1.0\n",
            "Most Informative Features\n",
            "               spamWords = 3                spam : ham    =     57.6 : 1.0\n",
            "              domainname = 'spamassassin.taint.org'    ham : spam   =     38.1 : 1.0\n",
            "              domainname = 'canada.com'      ham : spam   =     23.5 : 1.0\n",
            "               spamWords = 2                spam : ham    =     14.6 : 1.0\n",
            "              domainname = 'yahoo.com'      spam : ham    =     12.8 : 1.0\n",
            "              domainname = 'linux.ie'        ham : spam   =     11.7 : 1.0\n",
            "        contentmisspells = 39               spam : ham    =      8.1 : 1.0\n",
            "              domainname = 'earthlink.net'   spam : ham    =      7.1 : 1.0\n",
            "              domainname = 'netnoteinc.com'   spam : ham    =      6.8 : 1.0\n",
            "        contentmisspells = 116              spam : ham    =      6.4 : 1.0\n",
            "1 loop, best of 5: 22 s per loop\n"
          ],
          "name": "stdout"
        }
      ]
    },
    {
      "cell_type": "code",
      "metadata": {
        "colab": {
          "base_uri": "https://localhost:8080/"
        },
        "id": "Wi2A_r1fG8gM",
        "outputId": "81af1b29-0824-4d31-8fc5-0e57a25b0592"
      },
      "source": [
        "%%timeit\n",
        "# Run the classifier with the dev_test set\n",
        "testsets = []\n",
        "for index, row in test.iterrows():\n",
        "  temp = domain(row['From'])\n",
        "  temp['misspelled'] = misspellings(row['Subject'])\n",
        "  temp['contentmisspells'] = misspellings(row['Content'])\n",
        "  temp['spamWords'] = countSpamSubjectWords(row['Subject'])\n",
        "  temp['subject'] = sanitizeText(row['Subject'])\n",
        "  temp['content'] = sanitizeText(row['Content'])\n",
        "  temp['countbigrams'] = countSpamBigrams(row['Content'])\n",
        "\n",
        "  x = ( temp, row['class'] )\n",
        "  testsets.append(x)\n",
        "\n",
        "# Print the accuracy for the devtest set\n",
        "print(nltk.classify.accuracy(classifier, testsets))"
      ],
      "execution_count": 121,
      "outputs": [
        {
          "output_type": "stream",
          "text": [
            "0.9454545454545454\n",
            "0.9454545454545454\n",
            "0.9454545454545454\n",
            "0.9454545454545454\n",
            "0.9454545454545454\n",
            "0.9454545454545454\n",
            "1 loop, best of 5: 4.97 s per loop\n"
          ],
          "name": "stdout"
        }
      ]
    },
    {
      "cell_type": "markdown",
      "metadata": {
        "id": "lAG97JIbt0Xl"
      },
      "source": [
        "# Scikit Learn\n",
        "After working with the classifier and identifying the best features, the best accuracy I could attain was 0.95. This was with additional time needed for computation. I decided to experiment using the `Scikit` library. I found a great tutorial at https://www.youtube.com/watch?v=cNLPt02RwF0 \n"
      ]
    },
    {
      "cell_type": "markdown",
      "metadata": {
        "id": "rgkJW37L4bgQ"
      },
      "source": [
        "This code sets up for `sklearn` using the `MultinomialNB`. Additional information can be found [here](https://scikit-learn.org/stable/modules/generated/sklearn.naive_bayes.MultinomialNB.html)."
      ]
    },
    {
      "cell_type": "code",
      "metadata": {
        "id": "W7aSqfRx8do9"
      },
      "source": [
        "from sklearn.feature_extraction.text import CountVectorizer\n",
        "from sklearn.naive_bayes import MultinomialNB\n",
        "\n",
        "def process_text(text):\n",
        "  nopunc = [char for char in text if char not in string.punctuation]\n",
        "  nopunc = ''.join(nopunc)\n",
        "\n",
        "  words = [word for word in nopunc.split() if word.lower() not in stop_words]\n",
        "\n",
        "  return words\n",
        "\n",
        "bagofWords = CountVectorizer(analyzer=process_text).fit_transform(data['Content'])"
      ],
      "execution_count": 126,
      "outputs": []
    },
    {
      "cell_type": "markdown",
      "metadata": {
        "id": "pQkow2pA4yog"
      },
      "source": [
        "Splits the data."
      ]
    },
    {
      "cell_type": "code",
      "metadata": {
        "id": "O263_h3F9p8t"
      },
      "source": [
        "X_train, X_test, y_train, y_test = train_test_split(bagofWords, data['class'], test_size=0.2, random_state=42)\n"
      ],
      "execution_count": 127,
      "outputs": []
    },
    {
      "cell_type": "markdown",
      "metadata": {
        "id": "Bf0PQtO55a7X"
      },
      "source": [
        "Creates the model. Observe how quick the runtime is."
      ]
    },
    {
      "cell_type": "code",
      "metadata": {
        "id": "8ZbXokrC_zO1",
        "colab": {
          "base_uri": "https://localhost:8080/"
        },
        "outputId": "4029edd3-e328-41bc-bf1a-9fcb304b7ceb"
      },
      "source": [
        "%%timeit\n",
        "# Create the classifier\n",
        "classifier = MultinomialNB().fit(X_train, y_train)"
      ],
      "execution_count": 134,
      "outputs": [
        {
          "output_type": "stream",
          "text": [
            "10 loops, best of 5: 33.4 ms per loop\n"
          ],
          "name": "stdout"
        }
      ]
    },
    {
      "cell_type": "code",
      "metadata": {
        "colab": {
          "base_uri": "https://localhost:8080/"
        },
        "id": "_BLAcZVi_4pN",
        "outputId": "5c8712bd-8ab7-485a-9d2f-07e0e77b2984"
      },
      "source": [
        "# Example of using the classifier\n",
        "print(classifier.predict(X_train))\n",
        "print(y_train.values)"
      ],
      "execution_count": 135,
      "outputs": [
        {
          "output_type": "stream",
          "text": [
            "['ham' 'ham' 'spam' ... 'ham' 'ham' 'ham']\n",
            "['ham' 'ham' 'spam' ... 'ham' 'ham' 'ham']\n"
          ],
          "name": "stdout"
        }
      ]
    },
    {
      "cell_type": "code",
      "metadata": {
        "id": "QO-XHjebAK6f"
      },
      "source": [
        "# Examines the accuracy of the model\n",
        "from sklearn.metrics import classification_report, confusion_matrix, accuracy_score\n"
      ],
      "execution_count": 136,
      "outputs": []
    },
    {
      "cell_type": "code",
      "metadata": {
        "colab": {
          "base_uri": "https://localhost:8080/"
        },
        "id": "PCVO2SqvBOjo",
        "outputId": "e831b070-6159-406c-e836-312008e7e575"
      },
      "source": [
        "# Runs the test data and prints a confusion matrix\n",
        "\n",
        "predictions = classifier.predict(X_test)\n",
        "print(confusion_matrix(y_test, predictions))\n",
        "print(classification_report(y_test, predictions))\n"
      ],
      "execution_count": 137,
      "outputs": [
        {
          "output_type": "stream",
          "text": [
            "[[801   5]\n",
            " [ 16 388]]\n",
            "              precision    recall  f1-score   support\n",
            "\n",
            "         ham       0.98      0.99      0.99       806\n",
            "        spam       0.99      0.96      0.97       404\n",
            "\n",
            "    accuracy                           0.98      1210\n",
            "   macro avg       0.98      0.98      0.98      1210\n",
            "weighted avg       0.98      0.98      0.98      1210\n",
            "\n"
          ],
          "name": "stdout"
        }
      ]
    },
    {
      "cell_type": "markdown",
      "metadata": {
        "id": "eGUnXLYD6A9_"
      },
      "source": [
        "The model using scikit was quick and provided greater accuracy than the model built from the NLTK."
      ]
    },
    {
      "cell_type": "code",
      "metadata": {
        "colab": {
          "base_uri": "https://localhost:8080/"
        },
        "id": "P02t3GgS5xK4",
        "outputId": "128d7028-3e8a-4e25-87ca-a044204b70d1"
      },
      "source": [
        "# The accuracy of the test data\n",
        "accuracy_score(y_test, predictions)"
      ],
      "execution_count": 138,
      "outputs": [
        {
          "output_type": "execute_result",
          "data": {
            "text/plain": [
              "0.9826446280991735"
            ]
          },
          "metadata": {
            "tags": []
          },
          "execution_count": 138
        }
      ]
    },
    {
      "cell_type": "markdown",
      "metadata": {
        "id": "htyg4XfN6Zjj"
      },
      "source": [
        "# Conclusion\n",
        "Using the feature sets is helpful with NLTK. However, for runtime, `scikit` was blazingly fast for bag of words analysis.\n",
        "\n",
        "For an efficient spam filter, the model has to be constantly fed updated data. \n",
        "\n",
        "# Additional Links\n",
        "\n",
        "These were helpful links:\n",
        "* Paul Graham's Site: http://paulgraham.com/spam.html\n",
        "* Wikipedia's Site for NB: https://en.wikipedia.org/wiki/Naive_Bayes_classifier\n",
        "* Additional Wiki site: https://en.wikipedia.org/wiki/Naive_Bayes_spam_filtering"
      ]
    }
  ]
}