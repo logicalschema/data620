{
  "nbformat": 4,
  "nbformat_minor": 0,
  "metadata": {
    "colab": {
      "name": "Data 620 Assignment 1.ipynb",
      "provenance": [],
      "collapsed_sections": [],
      "authorship_tag": "ABX9TyMZs9yUpGW+1txm5TZT7rz5",
      "include_colab_link": true
    },
    "kernelspec": {
      "name": "python3",
      "display_name": "Python 3"
    }
  },
  "cells": [
    {
      "cell_type": "markdown",
      "metadata": {
        "id": "view-in-github",
        "colab_type": "text"
      },
      "source": [
        "<a href=\"https://colab.research.google.com/github/logicalschema/data620/blob/main/Data_620_Assignment_1.ipynb\" target=\"_parent\"><img src=\"https://colab.research.google.com/assets/colab-badge.svg\" alt=\"Open In Colab\"/></a>"
      ]
    },
    {
      "cell_type": "code",
      "metadata": {
        "colab": {
          "base_uri": "https://localhost:8080/",
          "height": 356
        },
        "id": "8KMcQuN2hpDM",
        "outputId": "ea060929-5306-4a91-f990-6fa43713bc61"
      },
      "source": [
        "import networkx as nx\r\n",
        "import pandas as pd\r\n",
        "import numpy as np\r\n",
        "\r\n",
        "G = nx.Graph([(\"A\", \"eggs\"),])\r\n",
        "print(G.nodes)\r\n",
        "print(G.edges)\r\n",
        "G.add_node(\"spinach\") # add a single node\r\n",
        "G.add_nodes_from([\"folates\", \"asparagus\", \"liver\"]) # add a list of nodes\r\n",
        "G.add_edge(\"spinach\", \"folates\") # add one edge, both ends exist\r\n",
        "G.add_edge(\"spinach\", \"heating oil\") # add one edge \r\n",
        "G.add_edge(\"liver\", \"Se\") # add one edge, one end does not exist\r\n",
        "G.add_edges_from([(\"folates\", \"liver\"), (\"folates\", \"asparagus\")]) # add list of edges\r\n",
        "nx.draw(G)"
      ],
      "execution_count": null,
      "outputs": [
        {
          "output_type": "stream",
          "text": [
            "['A', 'eggs']\n",
            "[('A', 'eggs')]\n"
          ],
          "name": "stdout"
        },
        {
          "output_type": "display_data",
          "data": {
            "image/png": "[encoded data removed]",
            "text/plain": [
              "<Figure size 432x288 with 1 Axes>"
            ]
          },
          "metadata": {
            "tags": []
          }
        }
      ]
    }
  ]
}